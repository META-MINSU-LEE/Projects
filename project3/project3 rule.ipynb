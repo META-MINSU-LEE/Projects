{
  "nbformat": 4,
  "nbformat_minor": 0,
  "metadata": {
    "colab": {
      "provenance": []
    },
    "kernelspec": {
      "name": "python3",
      "display_name": "Python 3"
    },
    "language_info": {
      "name": "python"
    }
  },
  "cells": [
    {
      "cell_type": "code",
      "execution_count": 1,
      "metadata": {
        "colab": {
          "base_uri": "https://localhost:8080/"
        },
        "id": "eqooNV9rqenz",
        "outputId": "569b5c0c-78e8-4c7e-a9a9-09b713bb8041"
      },
      "outputs": [
        {
          "output_type": "stream",
          "name": "stdout",
          "text": [
            "Looking in indexes: https://pypi.org/simple, https://us-python.pkg.dev/colab-wheels/public/simple/\n",
            "Requirement already satisfied: durable_rules in /usr/local/lib/python3.9/dist-packages (2.0.28)\n"
          ]
        }
      ],
      "source": [
        "!pip install durable_rules"
      ]
    },
    {
      "cell_type": "code",
      "source": [
        "from durable.lang import *\n",
        "\n",
        "with ruleset('water_bath_rules'):\n",
        "    # Rule 1\n",
        "    @when_all((m.sample == 'TSSRD') | (m.sample == 'TSSRC') | (m.sample == 'TSSRB') | (m.sample == 'TSSA') | (m.sample == 'TSSR1') | (m.sample == 'TSSR0')\n",
        "            | (m.sample == 'TSSR2') | (m.sample == 'TSSR3') | (m.sample == 'TSSR4') | (m.sample == 'TSSR5') | (m.sample == 'TSSR6') & (m.request_date == 7))\n",
        "    def rule_1(c):\n",
        "        water_bath = 43\n",
        "        print(f\"Putting {c.m.sample} in water bath {water_bath}°C no.13.\")\n",
        "\n",
        "    # Rule 2\n",
        "    @when_all((m.sample == 'TSSR7') | (m.sample == 'TSSR8') & (m.request_date == 14))\n",
        "    def rule_2(c):\n",
        "        water_bath = 37\n",
        "        print(f\"Putting {c.m.sample} in water bath {water_bath}°C no.12.\")\n",
        "        \n",
        "    # Rule 3\n",
        "    @when_all(((m.sample == 'TSSLD') | (m.sample == 'TSSLC') | (m.sample == 'TSSLB') | (m.sample == 'TSSLA') | (m.sample == 'TSSL1') | (m.sample == 'TSSL0') \n",
        "         | (m.sample == 'TSSL2') | (m.sample == 'TSSL3') | (m.sample == 'TSSL4') | (m.sample == 'TSSL5') | (m.sample == 'TSSL6') | (m.sample == 'TSSL7') | (m.sample == 'TSSL8')) & (m.request_date == 14))\n",
        "    def rule_3(c):\n",
        "        water_bath = 37\n",
        "        print(f\"Putting {c.m.sample} in water bath {water_bath}°C no.1.\")\n",
        "\n",
        "    # Rule 4\n",
        "    @when_all(((m.sample == 'TSSLD') | (m.sample == 'TSSLC') | (m.sample == 'TSSLB') | (m.sample == 'TSSLA') | (m.sample == 'TSSL1') | (m.sample == 'TSSL0') \n",
        "         | (m.sample == 'TSSL2') | (m.sample == 'TSSL3') | (m.sample == 'TSSL4') | (m.sample == 'TSSL5') | (m.sample == 'TSSL6') | (m.sample == 'TSSL7') | (m.sample == 'TSSL8')) & (m.request_date == 7) & (m.speed == 'fast'))\n",
        "    def rule_4(c):\n",
        "        water_bath = 43\n",
        "        print(f\"Putting {c.m.sample} in {c.m.speed} water bath {water_bath}°C no.15.\")\n",
        "\n",
        "    # Rule 5\n",
        "    @when_all((m.sample == 'TSSQA') | (m.sample == 'TSSQ1') | (m.sample == 'TSSQ0') | (m.sample == 'TSSQ2') | (m.sample == 'TSSQ3') | (m.sample == 'TSSQ4') \n",
        "             | (m.sample == 'TSSQ5') | (m.sample == 'TSSQ6') | (m.sample == 'TSSQ7') | (m.sample == 'TSSQ8') & (m.request_date == 7))\n",
        "    def rule_5(c):\n",
        "        water_bath = 37\n",
        "        print(f\"Putting {c.m.sample} in water bath {water_bath}°C no.2.\")\n",
        "\n",
        "    # Rule 6\n",
        "    @when_all((m.sample == 'TSSTD') | (m.sample == 'TSSTC') | (m.sample == 'TSSTB') | (m.sample == 'TSSTA') | (m.sample == 'TSST1') | (m.sample == 'TSST0') \n",
        "             | (m.sample == 'TSST2') | (m.sample == 'TSST3') | (m.sample == 'TSST4') | (m.sample == 'TSST5') | (m.sample == 'TSST6') & (m.request_date == 7))\n",
        "    def rule_6(c):\n",
        "        water_bath = 43\n",
        "        print(f\"Putting {c.m.sample} in water bath {water_bath}°C no.14.\")\n",
        "\n",
        "    # Rule 7\n",
        "    @when_all((m.sample == 'TSST7') | (m.sample == 'TSST8') & (m.request_date == 14))\n",
        "    def rule_7(c):\n",
        "        water_bath = 37\n",
        "        print(f\"Putting {c.m.sample} in water bath {water_bath}°C no.12.\")\n",
        "\n",
        "    # Rule 8\n",
        "    @when_all((m.sample == 'TSSUA') | (m.sample == 'TSSU1') | (m.sample == 'TSSU0') | (m.sample == 'TSSU2') | (m.sample == 'TSSU3') | (m.sample == 'TSSU4') \n",
        "             | (m.sample == 'TSSU5') | (m.sample == 'TSSU6') & (m.request_date == 14))\n",
        "    def rule_8(c):\n",
        "        water_bath = 37\n",
        "        print(f\"Putting {c.m.sample} in water bath {water_bath}°C no.3.\")\n",
        "\n",
        "    # Rule 9\n",
        "    @when_all((m.sample == 'TSSPA') | (m.sample == 'TSSP1') | (m.sample == 'TSSP0') | (m.sample == 'TSSP2') | (m.sample == 'TSSP3') | (m.sample == 'TSSP4') \n",
        "             | (m.sample == 'TSSP5') | (m.sample == 'TSSP7') & (m.request_date == 14))\n",
        "    def rule_9(c):\n",
        "        water_bath = 37\n",
        "        print(f\"Putting {c.m.sample} in water bath {water_bath}°C no.4.\")\n",
        "\n",
        "    # Rule 10\n",
        "    @when_all((m.sample == 'TSEUE') | (m.sample == 'TSEUD') | (m.sample == 'TSEUC') | (m.sample == 'TSEUB') | (m.sample == 'TSEUA') | (m.sample == 'TSEU1') \n",
        "             | (m.sample == 'TSEU0') | (m.sample == 'TSEU2') & (m.request_date == 14))\n",
        "    def rule_10(c):\n",
        "        water_bath = 37\n",
        "        print(f\"Putting {c.m.sample} in water bath {water_bath}°C no.5.\")\n",
        "\n",
        "    # Rule 11\n",
        "    @when_all((m.sample == 'TSEEA') | (m.sample == 'TSEE1') & (m.request_date == 14))\n",
        "    def rule_11(c):\n",
        "        water_bath = 37\n",
        "        print(f\"Putting {c.m.sample} in water bath {water_bath}°C no.6.\")\n",
        "\n",
        "    # Rule 12\n",
        "    @when_all(((m.sample == 'TSSDC') | (m.sample == 'TSSDB') | (m.sample == 'TSSDA') | (m.sample == 'TSSD1') | (m.sample == 'TSSD0') | (m.sample == 'TSSD2') \n",
        "         | (m.sample == 'TSSD3') | (m.sample == 'TSSD4') | (m.sample == 'TSSD5') | (m.sample == 'TSSD6') | (m.sample == 'TSSD7') | (m.sample == 'TSSDZ')\n",
        "         | (m.sample == 'TSSWB') | (m.sample == 'TSSWA') | (m.sample == 'TSSW1') | (m.sample == 'TSSW0') | (m.sample == 'TSSW2') | (m.sample == 'TSSW3')\n",
        "         | (m.sample == 'TSSW4') | (m.sample == 'TSSW5') | (m.sample == 'TSSW6') | (m.sample == 'TSSW7')) & (m.request_date == 14))\n",
        "    def rule_12(c):\n",
        "        water_bath = 37\n",
        "        print(f\"Putting {c.m.sample} in water bath {water_bath}°C no.7.\")\n",
        "\n",
        "\n",
        "    # Rule 13\n",
        "    @when_all(((m.sample == 'TSSDC') | (m.sample == 'TSSDB') | (m.sample == 'TSSDA') | (m.sample == 'TSSD1') | (m.sample == 'TSSD0') | (m.sample == 'TSSD2') \n",
        "         | (m.sample == 'TSSD3') | (m.sample == 'TSSD4') | (m.sample == 'TSSD5') | (m.sample == 'TSSD6') | (m.sample == 'TSSD7') | (m.sample == 'TSSDZ')\n",
        "         | (m.sample == 'TSSWB') | (m.sample == 'TSSWA') | (m.sample == 'TSSW1') | (m.sample == 'TSSW0') | (m.sample == 'TSSW2') | (m.sample == 'TSSW3')\n",
        "         | (m.sample == 'TSSW4') | (m.sample == 'TSSW5') | (m.sample == 'TSSW6') | (m.sample == 'TSSW7')) & (m.request_date == 28))\n",
        "    def rule_13(c):\n",
        "        water_bath = 37\n",
        "        print(f\"Putting {c.m.sample} in water bath {water_bath}°C no.8.\")\n",
        "\n",
        "\n",
        "    # Rule 14\n",
        "    @when_all(((m.sample == 'TSSMA') | (m.sample == 'TSSM1') | (m.sample == 'TSSM0') | (m.sample == 'TSSM2') | (m.sample == 'TSSM3') | (m.sample == 'TSSM4') \n",
        "             | (m.sample == 'TSSM5') | (m.sample == 'TSSM6')) & (m.request_date == 7))\n",
        "    def rule_14(c):\n",
        "        water_bath = 37\n",
        "        print(f\"Putting {c.m.sample} in water bath {water_bath}°C no.9.\")\n",
        "\n",
        "    # Rule 15\n",
        "    @when_all(((m.sample == 'TSSMA') | (m.sample == 'TSSM1') | (m.sample == 'TSSM0') | (m.sample == 'TSSM2') | (m.sample == 'TSSM3') | (m.sample == 'TSSM4') \n",
        "             | (m.sample == 'TSSM5') | (m.sample == 'TSSM6')) & (m.request_date == 14))\n",
        "    def rule_15(c):\n",
        "        water_bath = 37\n",
        "        print(f\"Putting {c.m.sample} in water bath {water_bath}°C no.10.\")\n",
        "\n",
        "\n",
        "    # Rule 16\n",
        "    @when_all((m.sample == 'TSSEC') | (m.sample == 'TSSEB') | (m.sample == 'TSSEA') | (m.sample == 'TSSE1') | (m.sample == 'TSSE0') | (m.sample == 'TSSE2') \n",
        "             | (m.sample == 'TSSE3') | (m.sample == 'TSSE4') | (m.sample == 'TSSE5') | (m.sample == 'TSSE6') | (m.sample == 'TSSE7') & (m.request_date == 14))\n",
        "    def rule_16(c):\n",
        "        water_bath = 37\n",
        "        print(f\"Putting {c.m.sample} in water bath {water_bath}°C no.11.\")\n",
        "\n",
        "    # Rule 17\n",
        "    @when_all(((m.sample == 'TSSDC') | (m.sample == 'TSSDB') | (m.sample == 'TSSDA') | (m.sample == 'TSSD1') | (m.sample == 'TSSD0') | (m.sample == 'TSSD2') \n",
        "             | (m.sample == 'TSSD3') | (m.sample == 'TSSD4') | (m.sample == 'TSSD5') | (m.sample == 'TSSD6') | (m.sample == 'TSSD7') | (m.sample == 'TSSDZ')\n",
        "             | (m.sample == 'TSSWB') | (m.sample == 'TSSWA') | (m.sample == 'TSSW1') | (m.sample == 'TSSW0') | (m.sample == 'TSSW2') | (m.sample == 'TSSW3')\n",
        "             | (m.sample == 'TSSW4') | (m.sample == 'TSSW5') | (m.sample == 'TSSW6') | (m.sample == 'TSSW7')) & (m.request_date == 7) & (m.speed == 'fast'))\n",
        "    def rule_17(c):\n",
        "        water_bath = 43\n",
        "        print(f\"Putting {c.m.sample} in {c.m.speed} water bath {water_bath}°C no.16.\")\n",
        "\n",
        "    # Rule 18\n",
        "    @when_all(((m.sample == 'TSSDC') | (m.sample == 'TSSDB') | (m.sample == 'TSSDA') | (m.sample == 'TSSD1') | (m.sample == 'TSSD0') | (m.sample == 'TSSD2') \n",
        "              | (m.sample == 'TSSD3') | (m.sample == 'TSSD4') | (m.sample == 'TSSD5') | (m.sample == 'TSSD6') | (m.sample == 'TSSD7') | (m.sample == 'TSSDZ')\n",
        "              | (m.sample == 'TSSWB') | (m.sample == 'TSSWA') | (m.sample == 'TSSW1') | (m.sample == 'TSSW0') | (m.sample == 'TSSW2') | (m.sample == 'TSSW3')\n",
        "              | (m.sample == 'TSSW4') | (m.sample == 'TSSW5') | (m.sample == 'TSSW6') | (m.sample == 'TSSW7')) & (m.request_date == \"14\") & (m.speed == 'fast'))\n",
        "    def rule_18(c):\n",
        "        water_bath = 43\n",
        "        print(f\"Putting {c.m.sample} in {c.m.speed} water bath {water_bath}°C no.17.\")\n",
        "\n",
        "\n",
        "    # Rule 19\n",
        "    @when_all((m.sample == 'TEST37'))\n",
        "    def rule19(c):\n",
        "        water_bath = 37\n",
        "        print(f\"Putting {c.m.sample} in water bath {water_bath}°C no.18.\")\n",
        "\n",
        "    # Rule 20\n",
        "    @when_all((m.sample == 'TEST43'))\n",
        "    def rule19(c):\n",
        "        water_bath = 43\n",
        "        print(f\"Putting {c.m.sample} in water bath {water_bath}°C no.19.\")  "
      ],
      "metadata": {
        "id": "pE5H3RMHqiJi"
      },
      "execution_count": 2,
      "outputs": []
    },
    {
      "cell_type": "code",
      "source": [
        "post('water_bath_rules', {'sample': 'TSSR2', 'request_date': 7})\n",
        "post('water_bath_rules', {'sample': 'TSSR7', 'request_date': 14})\n",
        "post('water_bath_rules', {'sample': 'TSSLD', 'request_date': 14})\n",
        "\n",
        "post('water_bath_rules', {'sample': 'TSSLD', 'speed': 'fast', 'request_date': 7})\n",
        "post('water_bath_rules', {'sample': 'TSSQA', 'request_date': 7})\n",
        "post('water_bath_rules', {'sample': 'TSSTD', 'request_date': 7})\n",
        "\n",
        "post('water_bath_rules', {'sample': 'TSST7', 'request_date': 14})\n",
        "post('water_bath_rules', {'sample': 'TSSUA', 'request_date': 14})\n",
        "post('water_bath_rules', {'sample': 'TSSPA', 'request_date': 14})\n",
        "\n",
        "post('water_bath_rules', {'sample': 'TSEUE', 'request_date': 14})\n",
        "post('water_bath_rules', {'sample': 'TSEEA', 'request_date': 14})\n",
        "post('water_bath_rules', {'sample': 'TSSDC', 'request_date': 14})\n",
        "\n",
        "post('water_bath_rules', {'sample': 'TSSDC', 'request_date': 28})\n",
        "post('water_bath_rules', {'sample': 'TSSMA', 'request_date': 7})\n",
        "post('water_bath_rules', {'sample': 'TSSMA', 'request_date': 14})\n",
        "\n",
        "post('water_bath_rules', {'sample': 'TSSEC', 'request_date': 14})\n",
        "post('water_bath_rules', {'sample': 'TSSDC', 'speed': 'fast', 'request_date': 7})\n",
        "post('water_bath_rules', {'sample': 'TSSDC', 'speed': 'fast', 'request_date': \"14\"})\n",
        "\n",
        "post('water_bath_rules', {'sample': 'TEST37'})\n",
        "post('water_bath_rules', {'sample': 'TEST43'})"
      ],
      "metadata": {
        "colab": {
          "base_uri": "https://localhost:8080/"
        },
        "id": "XBWXPQFqqiL6",
        "outputId": "b39c085c-24ae-47d8-b171-96b02329f5b0"
      },
      "execution_count": 3,
      "outputs": [
        {
          "output_type": "stream",
          "name": "stdout",
          "text": [
            "Putting TSSR2 in water bath 43°C no.13.\n",
            "Putting TSSR7 in water bath 37°C no.12.\n",
            "Putting TSSLD in water bath 37°C no.1.\n",
            "Putting TSSLD in fast water bath 43°C no.15.\n",
            "Putting TSSQA in water bath 37°C no.2.\n",
            "Putting TSSTD in water bath 43°C no.14.\n",
            "Putting TSST7 in water bath 37°C no.12.\n",
            "Putting TSSUA in water bath 37°C no.3.\n",
            "Putting TSSPA in water bath 37°C no.4.\n",
            "Putting TSEUE in water bath 37°C no.5.\n",
            "Putting TSEEA in water bath 37°C no.6.\n",
            "Putting TSSDC in water bath 37°C no.7.\n",
            "Putting TSSDC in water bath 37°C no.8.\n",
            "Putting TSSMA in water bath 37°C no.9.\n",
            "Putting TSSMA in water bath 37°C no.10.\n",
            "Putting TSSEC in water bath 37°C no.11.\n",
            "Putting TSSDC in fast water bath 43°C no.16.\n",
            "Putting TSSDC in fast water bath 43°C no.17.\n",
            "Putting TEST37 in water bath 37°C no.18.\n",
            "Putting TEST43 in water bath 43°C no.19.\n"
          ]
        },
        {
          "output_type": "execute_result",
          "data": {
            "text/plain": [
              "{'sid': '0', 'id': 'sid-0', '$s': 1}"
            ]
          },
          "metadata": {},
          "execution_count": 3
        }
      ]
    },
    {
      "cell_type": "code",
      "source": [],
      "metadata": {
        "id": "OP0NS7kgqiOQ"
      },
      "execution_count": 3,
      "outputs": []
    }
  ]
}