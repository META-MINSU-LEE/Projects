{
 "cells": [
  {
   "cell_type": "markdown",
   "id": "a6fa8921",
   "metadata": {},
   "source": [
    "# 설정"
   ]
  },
  {
   "cell_type": "code",
   "execution_count": 314,
   "id": "c509f049",
   "metadata": {
    "scrolled": false
   },
   "outputs": [
    {
     "name": "stdout",
     "output_type": "stream",
     "text": [
      "Requirement already satisfied: scikit-learn in c:\\users\\jane\\anaconda3\\lib\\site-packages (1.3.0)\n",
      "Requirement already satisfied: numpy>=1.17.3 in c:\\users\\jane\\anaconda3\\lib\\site-packages (from scikit-learn) (1.24.3)\n",
      "Requirement already satisfied: scipy>=1.5.0 in c:\\users\\jane\\anaconda3\\lib\\site-packages (from scikit-learn) (1.11.1)\n",
      "Requirement already satisfied: joblib>=1.1.1 in c:\\users\\jane\\anaconda3\\lib\\site-packages (from scikit-learn) (1.2.0)\n",
      "Requirement already satisfied: threadpoolctl>=2.0.0 in c:\\users\\jane\\anaconda3\\lib\\site-packages (from scikit-learn) (2.2.0)\n",
      "Note: you may need to restart the kernel to use updated packages.\n"
     ]
    }
   ],
   "source": [
    "pip install scikit-learn"
   ]
  },
  {
   "cell_type": "code",
   "execution_count": 315,
   "id": "052fde9e",
   "metadata": {},
   "outputs": [],
   "source": [
    "import warnings\n",
    "warnings.filterwarnings(action='ignore')"
   ]
  },
  {
   "cell_type": "code",
   "execution_count": 316,
   "id": "384eea48",
   "metadata": {},
   "outputs": [],
   "source": [
    "import sys\n",
    "assert sys.version_info >= (3, 5)\n",
    "\n",
    "import sklearn\n",
    "assert sklearn.__version__ >= \"0.20\"\n",
    "\n",
    "import numpy as np\n",
    "import os"
   ]
  },
  {
   "cell_type": "code",
   "execution_count": 317,
   "id": "4f368c49",
   "metadata": {},
   "outputs": [],
   "source": [
    "from pathlib import Path\n",
    "import pandas as pd\n",
    "import tarfile\n",
    "import urllib.request\n",
    "\n",
    "%matplotlib inline\n",
    "import matplotlib as mpl\n",
    "import matplotlib.pyplot as plt\n",
    "mpl.rc('axes', labelsize=14)\n",
    "mpl.rc('xtick', labelsize=12)\n",
    "mpl.rc('ytick', labelsize=12)"
   ]
  },
  {
   "cell_type": "markdown",
   "id": "c1f57930",
   "metadata": {},
   "source": [
    "# 데이터 다운"
   ]
  },
  {
   "cell_type": "code",
   "execution_count": 318,
   "id": "9de3db77",
   "metadata": {},
   "outputs": [],
   "source": [
    "housing = pd.read_csv(\"data/housing.csv\")"
   ]
  },
  {
   "cell_type": "markdown",
   "id": "89b3ee14",
   "metadata": {},
   "source": [
    "# 데이터 구조"
   ]
  },
  {
   "cell_type": "code",
   "execution_count": 319,
   "id": "fdccd9eb",
   "metadata": {},
   "outputs": [
    {
     "data": {
      "text/html": [
       "<div>\n",
       "<style scoped>\n",
       "    .dataframe tbody tr th:only-of-type {\n",
       "        vertical-align: middle;\n",
       "    }\n",
       "\n",
       "    .dataframe tbody tr th {\n",
       "        vertical-align: top;\n",
       "    }\n",
       "\n",
       "    .dataframe thead th {\n",
       "        text-align: right;\n",
       "    }\n",
       "</style>\n",
       "<table border=\"1\" class=\"dataframe\">\n",
       "  <thead>\n",
       "    <tr style=\"text-align: right;\">\n",
       "      <th></th>\n",
       "      <th>id</th>\n",
       "      <th>date</th>\n",
       "      <th>price</th>\n",
       "      <th>bedrooms</th>\n",
       "      <th>bathrooms</th>\n",
       "      <th>sqft_living</th>\n",
       "      <th>sqft_lot</th>\n",
       "      <th>floors</th>\n",
       "      <th>waterfront</th>\n",
       "      <th>view</th>\n",
       "      <th>...</th>\n",
       "      <th>grade</th>\n",
       "      <th>sqft_above</th>\n",
       "      <th>sqft_basement</th>\n",
       "      <th>yr_built</th>\n",
       "      <th>yr_renovated</th>\n",
       "      <th>zipcode</th>\n",
       "      <th>lat</th>\n",
       "      <th>long</th>\n",
       "      <th>sqft_living15</th>\n",
       "      <th>sqft_lot15</th>\n",
       "    </tr>\n",
       "  </thead>\n",
       "  <tbody>\n",
       "    <tr>\n",
       "      <th>0</th>\n",
       "      <td>7129300520</td>\n",
       "      <td>20141013T000000</td>\n",
       "      <td>221900</td>\n",
       "      <td>3.0</td>\n",
       "      <td>1.00</td>\n",
       "      <td>1180</td>\n",
       "      <td>5650</td>\n",
       "      <td>1.0</td>\n",
       "      <td>0</td>\n",
       "      <td>0</td>\n",
       "      <td>...</td>\n",
       "      <td>7</td>\n",
       "      <td>1180</td>\n",
       "      <td>0</td>\n",
       "      <td>1955</td>\n",
       "      <td>0</td>\n",
       "      <td>98178</td>\n",
       "      <td>47.5112</td>\n",
       "      <td>-122.257</td>\n",
       "      <td>1340</td>\n",
       "      <td>5650</td>\n",
       "    </tr>\n",
       "    <tr>\n",
       "      <th>1</th>\n",
       "      <td>6414100192</td>\n",
       "      <td>20141209T000000</td>\n",
       "      <td>538000</td>\n",
       "      <td>3.0</td>\n",
       "      <td>2.25</td>\n",
       "      <td>2570</td>\n",
       "      <td>7242</td>\n",
       "      <td>2.0</td>\n",
       "      <td>0</td>\n",
       "      <td>0</td>\n",
       "      <td>...</td>\n",
       "      <td>7</td>\n",
       "      <td>2170</td>\n",
       "      <td>400</td>\n",
       "      <td>1951</td>\n",
       "      <td>1991</td>\n",
       "      <td>98125</td>\n",
       "      <td>47.7210</td>\n",
       "      <td>-122.319</td>\n",
       "      <td>1690</td>\n",
       "      <td>7639</td>\n",
       "    </tr>\n",
       "    <tr>\n",
       "      <th>2</th>\n",
       "      <td>5631500400</td>\n",
       "      <td>20150225T000000</td>\n",
       "      <td>180000</td>\n",
       "      <td>2.0</td>\n",
       "      <td>1.00</td>\n",
       "      <td>770</td>\n",
       "      <td>10000</td>\n",
       "      <td>1.0</td>\n",
       "      <td>0</td>\n",
       "      <td>0</td>\n",
       "      <td>...</td>\n",
       "      <td>6</td>\n",
       "      <td>770</td>\n",
       "      <td>0</td>\n",
       "      <td>1933</td>\n",
       "      <td>0</td>\n",
       "      <td>98028</td>\n",
       "      <td>47.7379</td>\n",
       "      <td>-122.233</td>\n",
       "      <td>2720</td>\n",
       "      <td>8062</td>\n",
       "    </tr>\n",
       "    <tr>\n",
       "      <th>3</th>\n",
       "      <td>2487200875</td>\n",
       "      <td>20141209T000000</td>\n",
       "      <td>604000</td>\n",
       "      <td>4.0</td>\n",
       "      <td>3.00</td>\n",
       "      <td>1960</td>\n",
       "      <td>5000</td>\n",
       "      <td>1.0</td>\n",
       "      <td>0</td>\n",
       "      <td>0</td>\n",
       "      <td>...</td>\n",
       "      <td>7</td>\n",
       "      <td>1050</td>\n",
       "      <td>910</td>\n",
       "      <td>1965</td>\n",
       "      <td>0</td>\n",
       "      <td>98136</td>\n",
       "      <td>47.5208</td>\n",
       "      <td>-122.393</td>\n",
       "      <td>1360</td>\n",
       "      <td>5000</td>\n",
       "    </tr>\n",
       "    <tr>\n",
       "      <th>4</th>\n",
       "      <td>1954400510</td>\n",
       "      <td>20150218T000000</td>\n",
       "      <td>510000</td>\n",
       "      <td>3.0</td>\n",
       "      <td>2.00</td>\n",
       "      <td>1680</td>\n",
       "      <td>8080</td>\n",
       "      <td>1.0</td>\n",
       "      <td>0</td>\n",
       "      <td>0</td>\n",
       "      <td>...</td>\n",
       "      <td>8</td>\n",
       "      <td>1680</td>\n",
       "      <td>0</td>\n",
       "      <td>1987</td>\n",
       "      <td>0</td>\n",
       "      <td>98074</td>\n",
       "      <td>47.6168</td>\n",
       "      <td>-122.045</td>\n",
       "      <td>1800</td>\n",
       "      <td>7503</td>\n",
       "    </tr>\n",
       "  </tbody>\n",
       "</table>\n",
       "<p>5 rows × 21 columns</p>\n",
       "</div>"
      ],
      "text/plain": [
       "           id             date   price  bedrooms  bathrooms  sqft_living  \\\n",
       "0  7129300520  20141013T000000  221900       3.0       1.00         1180   \n",
       "1  6414100192  20141209T000000  538000       3.0       2.25         2570   \n",
       "2  5631500400  20150225T000000  180000       2.0       1.00          770   \n",
       "3  2487200875  20141209T000000  604000       4.0       3.00         1960   \n",
       "4  1954400510  20150218T000000  510000       3.0       2.00         1680   \n",
       "\n",
       "   sqft_lot  floors  waterfront  view  ...  grade  sqft_above  sqft_basement  \\\n",
       "0      5650     1.0           0     0  ...      7        1180              0   \n",
       "1      7242     2.0           0     0  ...      7        2170            400   \n",
       "2     10000     1.0           0     0  ...      6         770              0   \n",
       "3      5000     1.0           0     0  ...      7        1050            910   \n",
       "4      8080     1.0           0     0  ...      8        1680              0   \n",
       "\n",
       "   yr_built  yr_renovated  zipcode      lat     long  sqft_living15  \\\n",
       "0      1955             0    98178  47.5112 -122.257           1340   \n",
       "1      1951          1991    98125  47.7210 -122.319           1690   \n",
       "2      1933             0    98028  47.7379 -122.233           2720   \n",
       "3      1965             0    98136  47.5208 -122.393           1360   \n",
       "4      1987             0    98074  47.6168 -122.045           1800   \n",
       "\n",
       "   sqft_lot15  \n",
       "0        5650  \n",
       "1        7639  \n",
       "2        8062  \n",
       "3        5000  \n",
       "4        7503  \n",
       "\n",
       "[5 rows x 21 columns]"
      ]
     },
     "execution_count": 319,
     "metadata": {},
     "output_type": "execute_result"
    }
   ],
   "source": [
    "housing.head()"
   ]
  },
  {
   "cell_type": "code",
   "execution_count": 320,
   "id": "7a88fc11",
   "metadata": {},
   "outputs": [
    {
     "name": "stdout",
     "output_type": "stream",
     "text": [
      "<class 'pandas.core.frame.DataFrame'>\n",
      "RangeIndex: 21613 entries, 0 to 21612\n",
      "Data columns (total 21 columns):\n",
      " #   Column         Non-Null Count  Dtype  \n",
      "---  ------         --------------  -----  \n",
      " 0   id             21613 non-null  int64  \n",
      " 1   date           21613 non-null  object \n",
      " 2   price          21613 non-null  int64  \n",
      " 3   bedrooms       21600 non-null  float64\n",
      " 4   bathrooms      21613 non-null  float64\n",
      " 5   sqft_living    21613 non-null  int64  \n",
      " 6   sqft_lot       21613 non-null  int64  \n",
      " 7   floors         21613 non-null  float64\n",
      " 8   waterfront     21613 non-null  int64  \n",
      " 9   view           21613 non-null  int64  \n",
      " 10  condition      21613 non-null  int64  \n",
      " 11  grade          21613 non-null  int64  \n",
      " 12  sqft_above     21613 non-null  int64  \n",
      " 13  sqft_basement  21613 non-null  int64  \n",
      " 14  yr_built       21613 non-null  int64  \n",
      " 15  yr_renovated   21613 non-null  int64  \n",
      " 16  zipcode        21613 non-null  int64  \n",
      " 17  lat            21613 non-null  float64\n",
      " 18  long           21613 non-null  float64\n",
      " 19  sqft_living15  21613 non-null  int64  \n",
      " 20  sqft_lot15     21613 non-null  int64  \n",
      "dtypes: float64(5), int64(15), object(1)\n",
      "memory usage: 3.5+ MB\n"
     ]
    }
   ],
   "source": [
    "housing.info()"
   ]
  },
  {
   "cell_type": "code",
   "execution_count": 321,
   "id": "45d11980",
   "metadata": {},
   "outputs": [
    {
     "data": {
      "text/plain": [
       "date\n",
       "20140623T000000    142\n",
       "20140626T000000    131\n",
       "20140625T000000    131\n",
       "20140708T000000    127\n",
       "20150427T000000    126\n",
       "                  ... \n",
       "20141102T000000      1\n",
       "20150131T000000      1\n",
       "20150524T000000      1\n",
       "20140517T000000      1\n",
       "20140727T000000      1\n",
       "Name: count, Length: 372, dtype: int64"
      ]
     },
     "execution_count": 321,
     "metadata": {},
     "output_type": "execute_result"
    }
   ],
   "source": [
    "housing[\"date\"].value_counts()"
   ]
  },
  {
   "cell_type": "code",
   "execution_count": 322,
   "id": "e684142f",
   "metadata": {},
   "outputs": [
    {
     "data": {
      "text/plain": [
       "date_year\n",
       "2014    14633\n",
       "2015     6980\n",
       "Name: count, dtype: int64"
      ]
     },
     "execution_count": 322,
     "metadata": {},
     "output_type": "execute_result"
    }
   ],
   "source": [
    "housing['date'] = pd.to_datetime(housing['date'], format='%Y%m%dT%H%M%S')\n",
    "\n",
    "housing['date_year'] = housing['date'].dt.strftime('%Y')\n",
    "\n",
    "housing_2014 = housing[housing['date_year'] == '2014']\n",
    "\n",
    "housing[\"date_year\"].value_counts()"
   ]
  },
  {
   "cell_type": "code",
   "execution_count": 323,
   "id": "8907b352",
   "metadata": {},
   "outputs": [
    {
     "data": {
      "text/html": [
       "<div>\n",
       "<style scoped>\n",
       "    .dataframe tbody tr th:only-of-type {\n",
       "        vertical-align: middle;\n",
       "    }\n",
       "\n",
       "    .dataframe tbody tr th {\n",
       "        vertical-align: top;\n",
       "    }\n",
       "\n",
       "    .dataframe thead th {\n",
       "        text-align: right;\n",
       "    }\n",
       "</style>\n",
       "<table border=\"1\" class=\"dataframe\">\n",
       "  <thead>\n",
       "    <tr style=\"text-align: right;\">\n",
       "      <th></th>\n",
       "      <th>id</th>\n",
       "      <th>date</th>\n",
       "      <th>price</th>\n",
       "      <th>bedrooms</th>\n",
       "      <th>bathrooms</th>\n",
       "      <th>sqft_living</th>\n",
       "      <th>sqft_lot</th>\n",
       "      <th>floors</th>\n",
       "      <th>waterfront</th>\n",
       "      <th>view</th>\n",
       "      <th>...</th>\n",
       "      <th>grade</th>\n",
       "      <th>sqft_above</th>\n",
       "      <th>sqft_basement</th>\n",
       "      <th>yr_built</th>\n",
       "      <th>yr_renovated</th>\n",
       "      <th>zipcode</th>\n",
       "      <th>lat</th>\n",
       "      <th>long</th>\n",
       "      <th>sqft_living15</th>\n",
       "      <th>sqft_lot15</th>\n",
       "    </tr>\n",
       "  </thead>\n",
       "  <tbody>\n",
       "    <tr>\n",
       "      <th>count</th>\n",
       "      <td>2.161300e+04</td>\n",
       "      <td>21613</td>\n",
       "      <td>2.161300e+04</td>\n",
       "      <td>21600.000000</td>\n",
       "      <td>21613.000000</td>\n",
       "      <td>21613.000000</td>\n",
       "      <td>2.161300e+04</td>\n",
       "      <td>21613.000000</td>\n",
       "      <td>21613.000000</td>\n",
       "      <td>21613.000000</td>\n",
       "      <td>...</td>\n",
       "      <td>21613.000000</td>\n",
       "      <td>21613.000000</td>\n",
       "      <td>21613.000000</td>\n",
       "      <td>21613.000000</td>\n",
       "      <td>21613.000000</td>\n",
       "      <td>21613.000000</td>\n",
       "      <td>21613.000000</td>\n",
       "      <td>21613.000000</td>\n",
       "      <td>21613.000000</td>\n",
       "      <td>21613.000000</td>\n",
       "    </tr>\n",
       "    <tr>\n",
       "      <th>mean</th>\n",
       "      <td>4.580302e+09</td>\n",
       "      <td>2014-10-29 04:38:01.959931648</td>\n",
       "      <td>5.401822e+05</td>\n",
       "      <td>3.370926</td>\n",
       "      <td>2.114757</td>\n",
       "      <td>2079.899736</td>\n",
       "      <td>1.510697e+04</td>\n",
       "      <td>1.494309</td>\n",
       "      <td>0.007542</td>\n",
       "      <td>0.234303</td>\n",
       "      <td>...</td>\n",
       "      <td>7.656873</td>\n",
       "      <td>1788.390691</td>\n",
       "      <td>291.509045</td>\n",
       "      <td>1971.005136</td>\n",
       "      <td>84.402258</td>\n",
       "      <td>98077.939805</td>\n",
       "      <td>47.560053</td>\n",
       "      <td>-122.213896</td>\n",
       "      <td>1986.552492</td>\n",
       "      <td>12768.455652</td>\n",
       "    </tr>\n",
       "    <tr>\n",
       "      <th>min</th>\n",
       "      <td>1.000102e+06</td>\n",
       "      <td>2014-05-02 00:00:00</td>\n",
       "      <td>7.500000e+04</td>\n",
       "      <td>0.000000</td>\n",
       "      <td>0.000000</td>\n",
       "      <td>290.000000</td>\n",
       "      <td>5.200000e+02</td>\n",
       "      <td>1.000000</td>\n",
       "      <td>0.000000</td>\n",
       "      <td>0.000000</td>\n",
       "      <td>...</td>\n",
       "      <td>1.000000</td>\n",
       "      <td>290.000000</td>\n",
       "      <td>0.000000</td>\n",
       "      <td>1900.000000</td>\n",
       "      <td>0.000000</td>\n",
       "      <td>98001.000000</td>\n",
       "      <td>47.155900</td>\n",
       "      <td>-122.519000</td>\n",
       "      <td>399.000000</td>\n",
       "      <td>651.000000</td>\n",
       "    </tr>\n",
       "    <tr>\n",
       "      <th>25%</th>\n",
       "      <td>2.123049e+09</td>\n",
       "      <td>2014-07-22 00:00:00</td>\n",
       "      <td>3.219500e+05</td>\n",
       "      <td>3.000000</td>\n",
       "      <td>1.750000</td>\n",
       "      <td>1427.000000</td>\n",
       "      <td>5.040000e+03</td>\n",
       "      <td>1.000000</td>\n",
       "      <td>0.000000</td>\n",
       "      <td>0.000000</td>\n",
       "      <td>...</td>\n",
       "      <td>7.000000</td>\n",
       "      <td>1190.000000</td>\n",
       "      <td>0.000000</td>\n",
       "      <td>1951.000000</td>\n",
       "      <td>0.000000</td>\n",
       "      <td>98033.000000</td>\n",
       "      <td>47.471000</td>\n",
       "      <td>-122.328000</td>\n",
       "      <td>1490.000000</td>\n",
       "      <td>5100.000000</td>\n",
       "    </tr>\n",
       "    <tr>\n",
       "      <th>50%</th>\n",
       "      <td>3.904930e+09</td>\n",
       "      <td>2014-10-16 00:00:00</td>\n",
       "      <td>4.500000e+05</td>\n",
       "      <td>3.000000</td>\n",
       "      <td>2.250000</td>\n",
       "      <td>1910.000000</td>\n",
       "      <td>7.618000e+03</td>\n",
       "      <td>1.500000</td>\n",
       "      <td>0.000000</td>\n",
       "      <td>0.000000</td>\n",
       "      <td>...</td>\n",
       "      <td>7.000000</td>\n",
       "      <td>1560.000000</td>\n",
       "      <td>0.000000</td>\n",
       "      <td>1975.000000</td>\n",
       "      <td>0.000000</td>\n",
       "      <td>98065.000000</td>\n",
       "      <td>47.571800</td>\n",
       "      <td>-122.230000</td>\n",
       "      <td>1840.000000</td>\n",
       "      <td>7620.000000</td>\n",
       "    </tr>\n",
       "    <tr>\n",
       "      <th>75%</th>\n",
       "      <td>7.308900e+09</td>\n",
       "      <td>2015-02-17 00:00:00</td>\n",
       "      <td>6.450000e+05</td>\n",
       "      <td>4.000000</td>\n",
       "      <td>2.500000</td>\n",
       "      <td>2550.000000</td>\n",
       "      <td>1.068800e+04</td>\n",
       "      <td>2.000000</td>\n",
       "      <td>0.000000</td>\n",
       "      <td>0.000000</td>\n",
       "      <td>...</td>\n",
       "      <td>8.000000</td>\n",
       "      <td>2210.000000</td>\n",
       "      <td>560.000000</td>\n",
       "      <td>1997.000000</td>\n",
       "      <td>0.000000</td>\n",
       "      <td>98118.000000</td>\n",
       "      <td>47.678000</td>\n",
       "      <td>-122.125000</td>\n",
       "      <td>2360.000000</td>\n",
       "      <td>10083.000000</td>\n",
       "    </tr>\n",
       "    <tr>\n",
       "      <th>max</th>\n",
       "      <td>9.900000e+09</td>\n",
       "      <td>2015-05-27 00:00:00</td>\n",
       "      <td>7.700000e+06</td>\n",
       "      <td>33.000000</td>\n",
       "      <td>8.000000</td>\n",
       "      <td>13540.000000</td>\n",
       "      <td>1.651359e+06</td>\n",
       "      <td>3.500000</td>\n",
       "      <td>1.000000</td>\n",
       "      <td>4.000000</td>\n",
       "      <td>...</td>\n",
       "      <td>13.000000</td>\n",
       "      <td>9410.000000</td>\n",
       "      <td>4820.000000</td>\n",
       "      <td>2015.000000</td>\n",
       "      <td>2015.000000</td>\n",
       "      <td>98199.000000</td>\n",
       "      <td>47.777600</td>\n",
       "      <td>-121.315000</td>\n",
       "      <td>6210.000000</td>\n",
       "      <td>871200.000000</td>\n",
       "    </tr>\n",
       "    <tr>\n",
       "      <th>std</th>\n",
       "      <td>2.876566e+09</td>\n",
       "      <td>NaN</td>\n",
       "      <td>3.673622e+05</td>\n",
       "      <td>0.930178</td>\n",
       "      <td>0.770163</td>\n",
       "      <td>918.440897</td>\n",
       "      <td>4.142051e+04</td>\n",
       "      <td>0.539989</td>\n",
       "      <td>0.086517</td>\n",
       "      <td>0.766318</td>\n",
       "      <td>...</td>\n",
       "      <td>1.175459</td>\n",
       "      <td>828.090978</td>\n",
       "      <td>442.575043</td>\n",
       "      <td>29.373411</td>\n",
       "      <td>401.679240</td>\n",
       "      <td>53.505026</td>\n",
       "      <td>0.138564</td>\n",
       "      <td>0.140828</td>\n",
       "      <td>685.391304</td>\n",
       "      <td>27304.179631</td>\n",
       "    </tr>\n",
       "  </tbody>\n",
       "</table>\n",
       "<p>8 rows × 21 columns</p>\n",
       "</div>"
      ],
      "text/plain": [
       "                 id                           date         price  \\\n",
       "count  2.161300e+04                          21613  2.161300e+04   \n",
       "mean   4.580302e+09  2014-10-29 04:38:01.959931648  5.401822e+05   \n",
       "min    1.000102e+06            2014-05-02 00:00:00  7.500000e+04   \n",
       "25%    2.123049e+09            2014-07-22 00:00:00  3.219500e+05   \n",
       "50%    3.904930e+09            2014-10-16 00:00:00  4.500000e+05   \n",
       "75%    7.308900e+09            2015-02-17 00:00:00  6.450000e+05   \n",
       "max    9.900000e+09            2015-05-27 00:00:00  7.700000e+06   \n",
       "std    2.876566e+09                            NaN  3.673622e+05   \n",
       "\n",
       "           bedrooms     bathrooms   sqft_living      sqft_lot        floors  \\\n",
       "count  21600.000000  21613.000000  21613.000000  2.161300e+04  21613.000000   \n",
       "mean       3.370926      2.114757   2079.899736  1.510697e+04      1.494309   \n",
       "min        0.000000      0.000000    290.000000  5.200000e+02      1.000000   \n",
       "25%        3.000000      1.750000   1427.000000  5.040000e+03      1.000000   \n",
       "50%        3.000000      2.250000   1910.000000  7.618000e+03      1.500000   \n",
       "75%        4.000000      2.500000   2550.000000  1.068800e+04      2.000000   \n",
       "max       33.000000      8.000000  13540.000000  1.651359e+06      3.500000   \n",
       "std        0.930178      0.770163    918.440897  4.142051e+04      0.539989   \n",
       "\n",
       "         waterfront          view  ...         grade    sqft_above  \\\n",
       "count  21613.000000  21613.000000  ...  21613.000000  21613.000000   \n",
       "mean       0.007542      0.234303  ...      7.656873   1788.390691   \n",
       "min        0.000000      0.000000  ...      1.000000    290.000000   \n",
       "25%        0.000000      0.000000  ...      7.000000   1190.000000   \n",
       "50%        0.000000      0.000000  ...      7.000000   1560.000000   \n",
       "75%        0.000000      0.000000  ...      8.000000   2210.000000   \n",
       "max        1.000000      4.000000  ...     13.000000   9410.000000   \n",
       "std        0.086517      0.766318  ...      1.175459    828.090978   \n",
       "\n",
       "       sqft_basement      yr_built  yr_renovated       zipcode           lat  \\\n",
       "count   21613.000000  21613.000000  21613.000000  21613.000000  21613.000000   \n",
       "mean      291.509045   1971.005136     84.402258  98077.939805     47.560053   \n",
       "min         0.000000   1900.000000      0.000000  98001.000000     47.155900   \n",
       "25%         0.000000   1951.000000      0.000000  98033.000000     47.471000   \n",
       "50%         0.000000   1975.000000      0.000000  98065.000000     47.571800   \n",
       "75%       560.000000   1997.000000      0.000000  98118.000000     47.678000   \n",
       "max      4820.000000   2015.000000   2015.000000  98199.000000     47.777600   \n",
       "std       442.575043     29.373411    401.679240     53.505026      0.138564   \n",
       "\n",
       "               long  sqft_living15     sqft_lot15  \n",
       "count  21613.000000   21613.000000   21613.000000  \n",
       "mean    -122.213896    1986.552492   12768.455652  \n",
       "min     -122.519000     399.000000     651.000000  \n",
       "25%     -122.328000    1490.000000    5100.000000  \n",
       "50%     -122.230000    1840.000000    7620.000000  \n",
       "75%     -122.125000    2360.000000   10083.000000  \n",
       "max     -121.315000    6210.000000  871200.000000  \n",
       "std        0.140828     685.391304   27304.179631  \n",
       "\n",
       "[8 rows x 21 columns]"
      ]
     },
     "execution_count": 323,
     "metadata": {},
     "output_type": "execute_result"
    }
   ],
   "source": [
    "housing.describe()"
   ]
  },
  {
   "cell_type": "code",
   "execution_count": 324,
   "id": "b16b2813",
   "metadata": {},
   "outputs": [
    {
     "data": {
      "image/png": "[encoded data removed]",
      "text/plain": [
       "<Figure size 2000x1500 with 25 Axes>"
      ]
     },
     "metadata": {},
     "output_type": "display_data"
    }
   ],
   "source": [
    "%matplotlib inline\n",
    "import matplotlib.pyplot as plt\n",
    "housing.hist(bins=50, figsize=(20,15))\n",
    "plt.show()"
   ]
  },
  {
   "cell_type": "markdown",
   "id": "84e1caf2",
   "metadata": {},
   "source": [
    "# 테스트셋 만들기"
   ]
  },
  {
   "cell_type": "code",
   "execution_count": 325,
   "id": "1ec87f06",
   "metadata": {},
   "outputs": [],
   "source": [
    "import numpy as np\n",
    "\n",
    "def shuffle_and_split_data(data, test_ratio):\n",
    "    shuffled_indices = np.random.permutation(len(data))\n",
    "    test_set_size = int(len(data) * test_ratio)\n",
    "    test_indices = shuffled_indices[:test_set_size]\n",
    "    train_indices = shuffled_indices[test_set_size:]\n",
    "    return data.iloc[train_indices], data.iloc[test_indices]"
   ]
  },
  {
   "cell_type": "code",
   "execution_count": 326,
   "id": "51241810",
   "metadata": {},
   "outputs": [
    {
     "data": {
      "text/plain": [
       "17291"
      ]
     },
     "execution_count": 326,
     "metadata": {},
     "output_type": "execute_result"
    }
   ],
   "source": [
    "train_set, test_set = shuffle_and_split_data(housing, 0.2)\n",
    "len(train_set)"
   ]
  },
  {
   "cell_type": "code",
   "execution_count": 327,
   "id": "77a50a0a",
   "metadata": {},
   "outputs": [
    {
     "data": {
      "text/plain": [
       "4322"
      ]
     },
     "execution_count": 327,
     "metadata": {},
     "output_type": "execute_result"
    }
   ],
   "source": [
    "len(test_set)"
   ]
  },
  {
   "cell_type": "code",
   "execution_count": 328,
   "id": "ace9b268",
   "metadata": {},
   "outputs": [],
   "source": [
    "np.random.seed(42)"
   ]
  },
  {
   "cell_type": "code",
   "execution_count": 329,
   "id": "9ed7278d",
   "metadata": {},
   "outputs": [],
   "source": [
    "from sklearn.model_selection import train_test_split\n",
    "\n",
    "train_set, test_set = train_test_split(housing, test_size=0.2, random_state=42)"
   ]
  },
  {
   "cell_type": "code",
   "execution_count": 330,
   "id": "1c02d652",
   "metadata": {},
   "outputs": [
    {
     "data": {
      "text/html": [
       "<div>\n",
       "<style scoped>\n",
       "    .dataframe tbody tr th:only-of-type {\n",
       "        vertical-align: middle;\n",
       "    }\n",
       "\n",
       "    .dataframe tbody tr th {\n",
       "        vertical-align: top;\n",
       "    }\n",
       "\n",
       "    .dataframe thead th {\n",
       "        text-align: right;\n",
       "    }\n",
       "</style>\n",
       "<table border=\"1\" class=\"dataframe\">\n",
       "  <thead>\n",
       "    <tr style=\"text-align: right;\">\n",
       "      <th></th>\n",
       "      <th>id</th>\n",
       "      <th>date</th>\n",
       "      <th>price</th>\n",
       "      <th>bedrooms</th>\n",
       "      <th>bathrooms</th>\n",
       "      <th>sqft_living</th>\n",
       "      <th>sqft_lot</th>\n",
       "      <th>floors</th>\n",
       "      <th>waterfront</th>\n",
       "      <th>view</th>\n",
       "      <th>...</th>\n",
       "      <th>sqft_above</th>\n",
       "      <th>sqft_basement</th>\n",
       "      <th>yr_built</th>\n",
       "      <th>yr_renovated</th>\n",
       "      <th>zipcode</th>\n",
       "      <th>lat</th>\n",
       "      <th>long</th>\n",
       "      <th>sqft_living15</th>\n",
       "      <th>sqft_lot15</th>\n",
       "      <th>date_year</th>\n",
       "    </tr>\n",
       "  </thead>\n",
       "  <tbody>\n",
       "    <tr>\n",
       "      <th>735</th>\n",
       "      <td>2591820310</td>\n",
       "      <td>2014-10-06</td>\n",
       "      <td>365000</td>\n",
       "      <td>4.0</td>\n",
       "      <td>2.25</td>\n",
       "      <td>2070</td>\n",
       "      <td>8893</td>\n",
       "      <td>2.0</td>\n",
       "      <td>0</td>\n",
       "      <td>0</td>\n",
       "      <td>...</td>\n",
       "      <td>2070</td>\n",
       "      <td>0</td>\n",
       "      <td>1986</td>\n",
       "      <td>0</td>\n",
       "      <td>98058</td>\n",
       "      <td>47.4388</td>\n",
       "      <td>-122.162</td>\n",
       "      <td>2390</td>\n",
       "      <td>7700</td>\n",
       "      <td>2014</td>\n",
       "    </tr>\n",
       "    <tr>\n",
       "      <th>2830</th>\n",
       "      <td>7974200820</td>\n",
       "      <td>2014-08-21</td>\n",
       "      <td>865000</td>\n",
       "      <td>5.0</td>\n",
       "      <td>3.00</td>\n",
       "      <td>2900</td>\n",
       "      <td>6730</td>\n",
       "      <td>1.0</td>\n",
       "      <td>0</td>\n",
       "      <td>0</td>\n",
       "      <td>...</td>\n",
       "      <td>1830</td>\n",
       "      <td>1070</td>\n",
       "      <td>1977</td>\n",
       "      <td>0</td>\n",
       "      <td>98115</td>\n",
       "      <td>47.6784</td>\n",
       "      <td>-122.285</td>\n",
       "      <td>2370</td>\n",
       "      <td>6283</td>\n",
       "      <td>2014</td>\n",
       "    </tr>\n",
       "    <tr>\n",
       "      <th>4106</th>\n",
       "      <td>7701450110</td>\n",
       "      <td>2014-08-15</td>\n",
       "      <td>1040000</td>\n",
       "      <td>4.0</td>\n",
       "      <td>2.50</td>\n",
       "      <td>3770</td>\n",
       "      <td>10893</td>\n",
       "      <td>2.0</td>\n",
       "      <td>0</td>\n",
       "      <td>2</td>\n",
       "      <td>...</td>\n",
       "      <td>3770</td>\n",
       "      <td>0</td>\n",
       "      <td>1997</td>\n",
       "      <td>0</td>\n",
       "      <td>98006</td>\n",
       "      <td>47.5646</td>\n",
       "      <td>-122.129</td>\n",
       "      <td>3710</td>\n",
       "      <td>9685</td>\n",
       "      <td>2014</td>\n",
       "    </tr>\n",
       "    <tr>\n",
       "      <th>16218</th>\n",
       "      <td>9522300010</td>\n",
       "      <td>2015-03-31</td>\n",
       "      <td>1490000</td>\n",
       "      <td>3.0</td>\n",
       "      <td>3.50</td>\n",
       "      <td>4560</td>\n",
       "      <td>14608</td>\n",
       "      <td>2.0</td>\n",
       "      <td>0</td>\n",
       "      <td>2</td>\n",
       "      <td>...</td>\n",
       "      <td>4560</td>\n",
       "      <td>0</td>\n",
       "      <td>1990</td>\n",
       "      <td>0</td>\n",
       "      <td>98034</td>\n",
       "      <td>47.6995</td>\n",
       "      <td>-122.228</td>\n",
       "      <td>4050</td>\n",
       "      <td>14226</td>\n",
       "      <td>2015</td>\n",
       "    </tr>\n",
       "    <tr>\n",
       "      <th>19964</th>\n",
       "      <td>9510861140</td>\n",
       "      <td>2014-07-14</td>\n",
       "      <td>711000</td>\n",
       "      <td>3.0</td>\n",
       "      <td>2.50</td>\n",
       "      <td>2550</td>\n",
       "      <td>5376</td>\n",
       "      <td>2.0</td>\n",
       "      <td>0</td>\n",
       "      <td>0</td>\n",
       "      <td>...</td>\n",
       "      <td>2550</td>\n",
       "      <td>0</td>\n",
       "      <td>2004</td>\n",
       "      <td>0</td>\n",
       "      <td>98052</td>\n",
       "      <td>47.6647</td>\n",
       "      <td>-122.083</td>\n",
       "      <td>2250</td>\n",
       "      <td>4050</td>\n",
       "      <td>2014</td>\n",
       "    </tr>\n",
       "  </tbody>\n",
       "</table>\n",
       "<p>5 rows × 22 columns</p>\n",
       "</div>"
      ],
      "text/plain": [
       "               id       date    price  bedrooms  bathrooms  sqft_living  \\\n",
       "735    2591820310 2014-10-06   365000       4.0       2.25         2070   \n",
       "2830   7974200820 2014-08-21   865000       5.0       3.00         2900   \n",
       "4106   7701450110 2014-08-15  1040000       4.0       2.50         3770   \n",
       "16218  9522300010 2015-03-31  1490000       3.0       3.50         4560   \n",
       "19964  9510861140 2014-07-14   711000       3.0       2.50         2550   \n",
       "\n",
       "       sqft_lot  floors  waterfront  view  ...  sqft_above  sqft_basement  \\\n",
       "735        8893     2.0           0     0  ...        2070              0   \n",
       "2830       6730     1.0           0     0  ...        1830           1070   \n",
       "4106      10893     2.0           0     2  ...        3770              0   \n",
       "16218     14608     2.0           0     2  ...        4560              0   \n",
       "19964      5376     2.0           0     0  ...        2550              0   \n",
       "\n",
       "       yr_built  yr_renovated  zipcode      lat     long  sqft_living15  \\\n",
       "735        1986             0    98058  47.4388 -122.162           2390   \n",
       "2830       1977             0    98115  47.6784 -122.285           2370   \n",
       "4106       1997             0    98006  47.5646 -122.129           3710   \n",
       "16218      1990             0    98034  47.6995 -122.228           4050   \n",
       "19964      2004             0    98052  47.6647 -122.083           2250   \n",
       "\n",
       "       sqft_lot15  date_year  \n",
       "735          7700       2014  \n",
       "2830         6283       2014  \n",
       "4106         9685       2014  \n",
       "16218       14226       2015  \n",
       "19964        4050       2014  \n",
       "\n",
       "[5 rows x 22 columns]"
      ]
     },
     "execution_count": 330,
     "metadata": {},
     "output_type": "execute_result"
    }
   ],
   "source": [
    "test_set.head()"
   ]
  },
  {
   "cell_type": "code",
   "execution_count": 331,
   "id": "434fd970",
   "metadata": {},
   "outputs": [
    {
     "data": {
      "text/plain": [
       "<Axes: >"
      ]
     },
     "execution_count": 331,
     "metadata": {},
     "output_type": "execute_result"
    },
    {
     "data": {
      "image/png": "[encoded data removed]",
      "text/plain": [
       "<Figure size 640x480 with 1 Axes>"
      ]
     },
     "metadata": {},
     "output_type": "display_data"
    }
   ],
   "source": [
    "housing[\"sqft_living\"].hist()"
   ]
  },
  {
   "cell_type": "code",
   "execution_count": 332,
   "id": "786a107a",
   "metadata": {},
   "outputs": [],
   "source": [
    "housing[\"sqft_living_cat\"] = pd.cut(housing[\"sqft_living\"],\n",
    "                               bins=[0, 1000, 2000, 3000, 4000, np.inf],\n",
    "                               labels=[1, 2, 3, 4, 5])"
   ]
  },
  {
   "cell_type": "code",
   "execution_count": 333,
   "id": "c863653b",
   "metadata": {
    "scrolled": true
   },
   "outputs": [
    {
     "data": {
      "text/plain": [
       "sqft_living_cat\n",
       "2    10218\n",
       "3     6819\n",
       "4     2299\n",
       "1     1494\n",
       "5      783\n",
       "Name: count, dtype: int64"
      ]
     },
     "execution_count": 333,
     "metadata": {},
     "output_type": "execute_result"
    }
   ],
   "source": [
    "housing[\"sqft_living_cat\"].value_counts()"
   ]
  },
  {
   "cell_type": "code",
   "execution_count": 334,
   "id": "70d7c270",
   "metadata": {},
   "outputs": [
    {
     "data": {
      "text/plain": [
       "<Axes: >"
      ]
     },
     "execution_count": 334,
     "metadata": {},
     "output_type": "execute_result"
    },
    {
     "data": {
      "image/png": "[encoded data removed]",
      "text/plain": [
       "<Figure size 640x480 with 1 Axes>"
      ]
     },
     "metadata": {},
     "output_type": "display_data"
    }
   ],
   "source": [
    "housing[\"sqft_living_cat\"].hist()"
   ]
  },
  {
   "cell_type": "code",
   "execution_count": 335,
   "id": "978ee385",
   "metadata": {},
   "outputs": [],
   "source": [
    "from sklearn.model_selection import StratifiedShuffleSplit\n",
    "\n",
    "split = StratifiedShuffleSplit(n_splits=1, test_size=0.2, random_state=42)\n",
    "for train_index, test_index in split.split(housing, housing[\"sqft_living_cat\"]):\n",
    "    strat_train_set = housing.loc[train_index]\n",
    "    strat_test_set = housing.loc[test_index]"
   ]
  },
  {
   "cell_type": "code",
   "execution_count": 336,
   "id": "f87d1c1d",
   "metadata": {},
   "outputs": [
    {
     "data": {
      "text/plain": [
       "sqft_living_cat\n",
       "2    0.472820\n",
       "3    0.315522\n",
       "4    0.106408\n",
       "1    0.069165\n",
       "5    0.036086\n",
       "Name: count, dtype: float64"
      ]
     },
     "execution_count": 336,
     "metadata": {},
     "output_type": "execute_result"
    }
   ],
   "source": [
    "strat_test_set[\"sqft_living_cat\"].value_counts() / len(strat_test_set)"
   ]
  },
  {
   "cell_type": "code",
   "execution_count": 337,
   "id": "19d4b5dd",
   "metadata": {},
   "outputs": [
    {
     "data": {
      "text/plain": [
       "sqft_living_cat\n",
       "2    0.472771\n",
       "3    0.315505\n",
       "4    0.106371\n",
       "1    0.069125\n",
       "5    0.036228\n",
       "Name: count, dtype: float64"
      ]
     },
     "execution_count": 337,
     "metadata": {},
     "output_type": "execute_result"
    }
   ],
   "source": [
    "housing[\"sqft_living_cat\"].value_counts() / len(housing)"
   ]
  },
  {
   "cell_type": "code",
   "execution_count": 338,
   "id": "3d0f7e00",
   "metadata": {},
   "outputs": [],
   "source": [
    "def income_cat_proportions(data):\n",
    "    return data[\"sqft_living_cat\"].value_counts() / len(data)\n",
    "\n",
    "train_set, test_set = train_test_split(housing, test_size=0.2, random_state=42)\n",
    "\n",
    "compare_props = pd.DataFrame({\n",
    "    \"Overall\": income_cat_proportions(housing),\n",
    "    \"Stratified\": income_cat_proportions(strat_test_set),\n",
    "    \"Random\": income_cat_proportions(test_set),\n",
    "}).sort_index()\n",
    "compare_props[\"Rand. %error\"] = 100 * compare_props[\"Random\"] / compare_props[\"Overall\"] - 100\n",
    "compare_props[\"Strat. %error\"] = 100 * compare_props[\"Stratified\"] / compare_props[\"Overall\"] - 100"
   ]
  },
  {
   "cell_type": "code",
   "execution_count": 339,
   "id": "7f940f4c",
   "metadata": {
    "scrolled": true
   },
   "outputs": [
    {
     "data": {
      "text/html": [
       "<div>\n",
       "<style scoped>\n",
       "    .dataframe tbody tr th:only-of-type {\n",
       "        vertical-align: middle;\n",
       "    }\n",
       "\n",
       "    .dataframe tbody tr th {\n",
       "        vertical-align: top;\n",
       "    }\n",
       "\n",
       "    .dataframe thead th {\n",
       "        text-align: right;\n",
       "    }\n",
       "</style>\n",
       "<table border=\"1\" class=\"dataframe\">\n",
       "  <thead>\n",
       "    <tr style=\"text-align: right;\">\n",
       "      <th></th>\n",
       "      <th>Overall</th>\n",
       "      <th>Stratified</th>\n",
       "      <th>Random</th>\n",
       "      <th>Rand. %error</th>\n",
       "      <th>Strat. %error</th>\n",
       "    </tr>\n",
       "    <tr>\n",
       "      <th>sqft_living_cat</th>\n",
       "      <th></th>\n",
       "      <th></th>\n",
       "      <th></th>\n",
       "      <th></th>\n",
       "      <th></th>\n",
       "    </tr>\n",
       "  </thead>\n",
       "  <tbody>\n",
       "    <tr>\n",
       "      <th>1</th>\n",
       "      <td>0.069125</td>\n",
       "      <td>0.069165</td>\n",
       "      <td>0.065232</td>\n",
       "      <td>-5.631223</td>\n",
       "      <td>0.057675</td>\n",
       "    </tr>\n",
       "    <tr>\n",
       "      <th>2</th>\n",
       "      <td>0.472771</td>\n",
       "      <td>0.472820</td>\n",
       "      <td>0.470044</td>\n",
       "      <td>-0.576826</td>\n",
       "      <td>0.010319</td>\n",
       "    </tr>\n",
       "    <tr>\n",
       "      <th>3</th>\n",
       "      <td>0.315505</td>\n",
       "      <td>0.315522</td>\n",
       "      <td>0.318297</td>\n",
       "      <td>0.885224</td>\n",
       "      <td>0.005411</td>\n",
       "    </tr>\n",
       "    <tr>\n",
       "      <th>4</th>\n",
       "      <td>0.106371</td>\n",
       "      <td>0.106408</td>\n",
       "      <td>0.105020</td>\n",
       "      <td>-1.270554</td>\n",
       "      <td>0.034240</td>\n",
       "    </tr>\n",
       "    <tr>\n",
       "      <th>5</th>\n",
       "      <td>0.036228</td>\n",
       "      <td>0.036086</td>\n",
       "      <td>0.041406</td>\n",
       "      <td>14.293383</td>\n",
       "      <td>-0.392359</td>\n",
       "    </tr>\n",
       "  </tbody>\n",
       "</table>\n",
       "</div>"
      ],
      "text/plain": [
       "                  Overall  Stratified    Random  Rand. %error  Strat. %error\n",
       "sqft_living_cat                                                             \n",
       "1                0.069125    0.069165  0.065232     -5.631223       0.057675\n",
       "2                0.472771    0.472820  0.470044     -0.576826       0.010319\n",
       "3                0.315505    0.315522  0.318297      0.885224       0.005411\n",
       "4                0.106371    0.106408  0.105020     -1.270554       0.034240\n",
       "5                0.036228    0.036086  0.041406     14.293383      -0.392359"
      ]
     },
     "execution_count": 339,
     "metadata": {},
     "output_type": "execute_result"
    }
   ],
   "source": [
    "compare_props"
   ]
  },
  {
   "cell_type": "code",
   "execution_count": 340,
   "id": "fc982719",
   "metadata": {},
   "outputs": [],
   "source": [
    "for set_ in (strat_train_set, strat_test_set):\n",
    "    set_.drop(\"sqft_living_cat\", axis=1, inplace=True)\n",
    "    \n",
    "housing = strat_train_set.copy()"
   ]
  },
  {
   "cell_type": "markdown",
   "id": "a804cc6d",
   "metadata": {},
   "source": [
    "# 상관관계"
   ]
  },
  {
   "cell_type": "code",
   "execution_count": 341,
   "id": "9279a742",
   "metadata": {},
   "outputs": [],
   "source": [
    "corr_matrix = housing.corr()"
   ]
  },
  {
   "cell_type": "code",
   "execution_count": 342,
   "id": "4c9c3694",
   "metadata": {
    "scrolled": true
   },
   "outputs": [
    {
     "data": {
      "text/plain": [
       "price            1.000000\n",
       "sqft_living      0.701768\n",
       "grade            0.674241\n",
       "sqft_above       0.605112\n",
       "sqft_living15    0.589177\n",
       "bathrooms        0.524402\n",
       "view             0.391527\n",
       "sqft_basement    0.320250\n",
       "bedrooms         0.308353\n",
       "lat              0.307949\n",
       "waterfront       0.260091\n",
       "floors           0.259653\n",
       "yr_renovated     0.113940\n",
       "sqft_lot         0.091328\n",
       "sqft_lot15       0.088731\n",
       "yr_built         0.060352\n",
       "condition        0.037358\n",
       "long             0.024959\n",
       "date_year       -0.001038\n",
       "date            -0.007055\n",
       "id              -0.012470\n",
       "zipcode         -0.058291\n",
       "Name: price, dtype: float64"
      ]
     },
     "execution_count": 342,
     "metadata": {},
     "output_type": "execute_result"
    }
   ],
   "source": [
    "corr_matrix[\"price\"].sort_values(ascending=False)"
   ]
  },
  {
   "cell_type": "code",
   "execution_count": 343,
   "id": "843fb066",
   "metadata": {},
   "outputs": [
    {
     "data": {
      "text/plain": [
       "array([[<Axes: xlabel='price', ylabel='price'>,\n",
       "        <Axes: xlabel='sqft_living', ylabel='price'>,\n",
       "        <Axes: xlabel='grade', ylabel='price'>,\n",
       "        <Axes: xlabel='sqft_above', ylabel='price'>],\n",
       "       [<Axes: xlabel='price', ylabel='sqft_living'>,\n",
       "        <Axes: xlabel='sqft_living', ylabel='sqft_living'>,\n",
       "        <Axes: xlabel='grade', ylabel='sqft_living'>,\n",
       "        <Axes: xlabel='sqft_above', ylabel='sqft_living'>],\n",
       "       [<Axes: xlabel='price', ylabel='grade'>,\n",
       "        <Axes: xlabel='sqft_living', ylabel='grade'>,\n",
       "        <Axes: xlabel='grade', ylabel='grade'>,\n",
       "        <Axes: xlabel='sqft_above', ylabel='grade'>],\n",
       "       [<Axes: xlabel='price', ylabel='sqft_above'>,\n",
       "        <Axes: xlabel='sqft_living', ylabel='sqft_above'>,\n",
       "        <Axes: xlabel='grade', ylabel='sqft_above'>,\n",
       "        <Axes: xlabel='sqft_above', ylabel='sqft_above'>]], dtype=object)"
      ]
     },
     "execution_count": 343,
     "metadata": {},
     "output_type": "execute_result"
    },
    {
     "data": {
      "image/png": "[encoded data removed]",
      "text/plain": [
       "<Figure size 1200x800 with 16 Axes>"
      ]
     },
     "metadata": {},
     "output_type": "display_data"
    }
   ],
   "source": [
    "from pandas.plotting import scatter_matrix\n",
    "\n",
    "attributes = [\"price\", \"sqft_living\", \"grade\",\n",
    "              \"sqft_above\"]\n",
    "scatter_matrix(housing[attributes], figsize=(12, 8))"
   ]
  },
  {
   "cell_type": "code",
   "execution_count": 344,
   "id": "be4f8617",
   "metadata": {
    "scrolled": true
   },
   "outputs": [
    {
     "data": {
      "text/plain": [
       "<Axes: xlabel='sqft_living', ylabel='price'>"
      ]
     },
     "execution_count": 344,
     "metadata": {},
     "output_type": "execute_result"
    },
    {
     "data": {
      "image/png": "[encoded data removed]",
      "text/plain": [
       "<Figure size 640x480 with 1 Axes>"
      ]
     },
     "metadata": {},
     "output_type": "display_data"
    }
   ],
   "source": [
    "housing.plot(kind=\"scatter\", x=\"sqft_living\", y=\"price\",\n",
    "             alpha=0.5, grid=True)"
   ]
  },
  {
   "cell_type": "markdown",
   "id": "6ea4ff9f",
   "metadata": {},
   "source": [
    "# 특성조합"
   ]
  },
  {
   "cell_type": "code",
   "execution_count": 345,
   "id": "6a4b794a",
   "metadata": {},
   "outputs": [],
   "source": [
    "housing[\"bed_bath\"] =  housing[\"bedrooms\"] + housing[\"bathrooms\"]\n",
    "housing[\"living_basement\"] = housing[\"sqft_living\"] + housing[\"sqft_basement\"]"
   ]
  },
  {
   "cell_type": "code",
   "execution_count": 346,
   "id": "8fa05d90",
   "metadata": {
    "scrolled": true
   },
   "outputs": [
    {
     "data": {
      "text/plain": [
       "price              1.000000\n",
       "sqft_living        0.701768\n",
       "grade              0.674241\n",
       "living_basement    0.666450\n",
       "sqft_above         0.605112\n",
       "sqft_living15      0.589177\n",
       "bathrooms          0.524402\n",
       "bed_bath           0.466187\n",
       "view               0.391527\n",
       "sqft_basement      0.320250\n",
       "bedrooms           0.308353\n",
       "lat                0.307949\n",
       "waterfront         0.260091\n",
       "floors             0.259653\n",
       "yr_renovated       0.113940\n",
       "sqft_lot           0.091328\n",
       "sqft_lot15         0.088731\n",
       "yr_built           0.060352\n",
       "condition          0.037358\n",
       "long               0.024959\n",
       "date_year         -0.001038\n",
       "date              -0.007055\n",
       "id                -0.012470\n",
       "zipcode           -0.058291\n",
       "Name: price, dtype: float64"
      ]
     },
     "execution_count": 346,
     "metadata": {},
     "output_type": "execute_result"
    }
   ],
   "source": [
    "corr_matrix = housing.corr()\n",
    "corr_matrix[\"price\"].sort_values(ascending=False)"
   ]
  },
  {
   "cell_type": "code",
   "execution_count": 347,
   "id": "c0a6a37b",
   "metadata": {
    "scrolled": true
   },
   "outputs": [
    {
     "data": {
      "text/html": [
       "<div>\n",
       "<style scoped>\n",
       "    .dataframe tbody tr th:only-of-type {\n",
       "        vertical-align: middle;\n",
       "    }\n",
       "\n",
       "    .dataframe tbody tr th {\n",
       "        vertical-align: top;\n",
       "    }\n",
       "\n",
       "    .dataframe thead th {\n",
       "        text-align: right;\n",
       "    }\n",
       "</style>\n",
       "<table border=\"1\" class=\"dataframe\">\n",
       "  <thead>\n",
       "    <tr style=\"text-align: right;\">\n",
       "      <th></th>\n",
       "      <th>id</th>\n",
       "      <th>date</th>\n",
       "      <th>price</th>\n",
       "      <th>bedrooms</th>\n",
       "      <th>bathrooms</th>\n",
       "      <th>sqft_living</th>\n",
       "      <th>sqft_lot</th>\n",
       "      <th>floors</th>\n",
       "      <th>waterfront</th>\n",
       "      <th>view</th>\n",
       "      <th>...</th>\n",
       "      <th>sqft_basement</th>\n",
       "      <th>yr_built</th>\n",
       "      <th>yr_renovated</th>\n",
       "      <th>zipcode</th>\n",
       "      <th>lat</th>\n",
       "      <th>long</th>\n",
       "      <th>sqft_living15</th>\n",
       "      <th>sqft_lot15</th>\n",
       "      <th>bed_bath</th>\n",
       "      <th>living_basement</th>\n",
       "    </tr>\n",
       "  </thead>\n",
       "  <tbody>\n",
       "    <tr>\n",
       "      <th>count</th>\n",
       "      <td>1.729000e+04</td>\n",
       "      <td>17290</td>\n",
       "      <td>1.729000e+04</td>\n",
       "      <td>17278.000000</td>\n",
       "      <td>17290.000000</td>\n",
       "      <td>17290.000000</td>\n",
       "      <td>1.729000e+04</td>\n",
       "      <td>17290.000000</td>\n",
       "      <td>17290.000000</td>\n",
       "      <td>17290.000000</td>\n",
       "      <td>...</td>\n",
       "      <td>17290.000000</td>\n",
       "      <td>17290.000000</td>\n",
       "      <td>17290.000000</td>\n",
       "      <td>17290.000000</td>\n",
       "      <td>17290.000000</td>\n",
       "      <td>17290.000000</td>\n",
       "      <td>17290.000000</td>\n",
       "      <td>17290.000000</td>\n",
       "      <td>17278.000000</td>\n",
       "      <td>17290.000000</td>\n",
       "    </tr>\n",
       "    <tr>\n",
       "      <th>mean</th>\n",
       "      <td>4.592511e+09</td>\n",
       "      <td>2014-10-29 04:21:25.922498304</td>\n",
       "      <td>5.394920e+05</td>\n",
       "      <td>3.373481</td>\n",
       "      <td>2.114951</td>\n",
       "      <td>2079.757490</td>\n",
       "      <td>1.496055e+04</td>\n",
       "      <td>1.493233</td>\n",
       "      <td>0.007866</td>\n",
       "      <td>0.232851</td>\n",
       "      <td>...</td>\n",
       "      <td>292.627068</td>\n",
       "      <td>1971.044303</td>\n",
       "      <td>85.507230</td>\n",
       "      <td>98077.947137</td>\n",
       "      <td>47.560199</td>\n",
       "      <td>-122.214212</td>\n",
       "      <td>1983.979757</td>\n",
       "      <td>12647.374031</td>\n",
       "      <td>5.488410</td>\n",
       "      <td>2372.384558</td>\n",
       "    </tr>\n",
       "    <tr>\n",
       "      <th>min</th>\n",
       "      <td>1.000102e+06</td>\n",
       "      <td>2014-05-02 00:00:00</td>\n",
       "      <td>7.500000e+04</td>\n",
       "      <td>0.000000</td>\n",
       "      <td>0.000000</td>\n",
       "      <td>370.000000</td>\n",
       "      <td>5.200000e+02</td>\n",
       "      <td>1.000000</td>\n",
       "      <td>0.000000</td>\n",
       "      <td>0.000000</td>\n",
       "      <td>...</td>\n",
       "      <td>0.000000</td>\n",
       "      <td>1900.000000</td>\n",
       "      <td>0.000000</td>\n",
       "      <td>98001.000000</td>\n",
       "      <td>47.155900</td>\n",
       "      <td>-122.519000</td>\n",
       "      <td>399.000000</td>\n",
       "      <td>651.000000</td>\n",
       "      <td>0.000000</td>\n",
       "      <td>370.000000</td>\n",
       "    </tr>\n",
       "    <tr>\n",
       "      <th>25%</th>\n",
       "      <td>2.124054e+09</td>\n",
       "      <td>2014-07-22 00:00:00</td>\n",
       "      <td>3.215000e+05</td>\n",
       "      <td>3.000000</td>\n",
       "      <td>1.750000</td>\n",
       "      <td>1430.000000</td>\n",
       "      <td>5.040000e+03</td>\n",
       "      <td>1.000000</td>\n",
       "      <td>0.000000</td>\n",
       "      <td>0.000000</td>\n",
       "      <td>...</td>\n",
       "      <td>0.000000</td>\n",
       "      <td>1951.000000</td>\n",
       "      <td>0.000000</td>\n",
       "      <td>98033.000000</td>\n",
       "      <td>47.470400</td>\n",
       "      <td>-122.329000</td>\n",
       "      <td>1480.000000</td>\n",
       "      <td>5100.000000</td>\n",
       "      <td>4.500000</td>\n",
       "      <td>1500.000000</td>\n",
       "    </tr>\n",
       "    <tr>\n",
       "      <th>50%</th>\n",
       "      <td>3.904990e+09</td>\n",
       "      <td>2014-10-16 00:00:00</td>\n",
       "      <td>4.500000e+05</td>\n",
       "      <td>3.000000</td>\n",
       "      <td>2.250000</td>\n",
       "      <td>1910.000000</td>\n",
       "      <td>7.610000e+03</td>\n",
       "      <td>1.500000</td>\n",
       "      <td>0.000000</td>\n",
       "      <td>0.000000</td>\n",
       "      <td>...</td>\n",
       "      <td>0.000000</td>\n",
       "      <td>1975.000000</td>\n",
       "      <td>0.000000</td>\n",
       "      <td>98065.000000</td>\n",
       "      <td>47.571450</td>\n",
       "      <td>-122.231000</td>\n",
       "      <td>1840.000000</td>\n",
       "      <td>7620.000000</td>\n",
       "      <td>5.500000</td>\n",
       "      <td>2170.000000</td>\n",
       "    </tr>\n",
       "    <tr>\n",
       "      <th>75%</th>\n",
       "      <td>7.312400e+09</td>\n",
       "      <td>2015-02-17 00:00:00</td>\n",
       "      <td>6.438375e+05</td>\n",
       "      <td>4.000000</td>\n",
       "      <td>2.500000</td>\n",
       "      <td>2550.000000</td>\n",
       "      <td>1.069775e+04</td>\n",
       "      <td>2.000000</td>\n",
       "      <td>0.000000</td>\n",
       "      <td>0.000000</td>\n",
       "      <td>...</td>\n",
       "      <td>570.000000</td>\n",
       "      <td>1997.000000</td>\n",
       "      <td>0.000000</td>\n",
       "      <td>98117.000000</td>\n",
       "      <td>47.678000</td>\n",
       "      <td>-122.125000</td>\n",
       "      <td>2360.000000</td>\n",
       "      <td>10118.000000</td>\n",
       "      <td>6.500000</td>\n",
       "      <td>2987.500000</td>\n",
       "    </tr>\n",
       "    <tr>\n",
       "      <th>max</th>\n",
       "      <td>9.900000e+09</td>\n",
       "      <td>2015-05-27 00:00:00</td>\n",
       "      <td>6.890000e+06</td>\n",
       "      <td>33.000000</td>\n",
       "      <td>7.750000</td>\n",
       "      <td>9890.000000</td>\n",
       "      <td>1.651359e+06</td>\n",
       "      <td>3.500000</td>\n",
       "      <td>1.000000</td>\n",
       "      <td>4.000000</td>\n",
       "      <td>...</td>\n",
       "      <td>4820.000000</td>\n",
       "      <td>2015.000000</td>\n",
       "      <td>2015.000000</td>\n",
       "      <td>98199.000000</td>\n",
       "      <td>47.777600</td>\n",
       "      <td>-121.315000</td>\n",
       "      <td>6210.000000</td>\n",
       "      <td>858132.000000</td>\n",
       "      <td>34.750000</td>\n",
       "      <td>14460.000000</td>\n",
       "    </tr>\n",
       "    <tr>\n",
       "      <th>std</th>\n",
       "      <td>2.878747e+09</td>\n",
       "      <td>NaN</td>\n",
       "      <td>3.615735e+05</td>\n",
       "      <td>0.936761</td>\n",
       "      <td>0.767941</td>\n",
       "      <td>912.843744</td>\n",
       "      <td>4.165878e+04</td>\n",
       "      <td>0.539343</td>\n",
       "      <td>0.088343</td>\n",
       "      <td>0.763130</td>\n",
       "      <td>...</td>\n",
       "      <td>442.167222</td>\n",
       "      <td>29.390492</td>\n",
       "      <td>404.116406</td>\n",
       "      <td>53.598741</td>\n",
       "      <td>0.138340</td>\n",
       "      <td>0.140878</td>\n",
       "      <td>684.765243</td>\n",
       "      <td>26603.536039</td>\n",
       "      <td>1.483559</td>\n",
       "      <td>1173.694434</td>\n",
       "    </tr>\n",
       "  </tbody>\n",
       "</table>\n",
       "<p>8 rows × 23 columns</p>\n",
       "</div>"
      ],
      "text/plain": [
       "                 id                           date         price  \\\n",
       "count  1.729000e+04                          17290  1.729000e+04   \n",
       "mean   4.592511e+09  2014-10-29 04:21:25.922498304  5.394920e+05   \n",
       "min    1.000102e+06            2014-05-02 00:00:00  7.500000e+04   \n",
       "25%    2.124054e+09            2014-07-22 00:00:00  3.215000e+05   \n",
       "50%    3.904990e+09            2014-10-16 00:00:00  4.500000e+05   \n",
       "75%    7.312400e+09            2015-02-17 00:00:00  6.438375e+05   \n",
       "max    9.900000e+09            2015-05-27 00:00:00  6.890000e+06   \n",
       "std    2.878747e+09                            NaN  3.615735e+05   \n",
       "\n",
       "           bedrooms     bathrooms   sqft_living      sqft_lot        floors  \\\n",
       "count  17278.000000  17290.000000  17290.000000  1.729000e+04  17290.000000   \n",
       "mean       3.373481      2.114951   2079.757490  1.496055e+04      1.493233   \n",
       "min        0.000000      0.000000    370.000000  5.200000e+02      1.000000   \n",
       "25%        3.000000      1.750000   1430.000000  5.040000e+03      1.000000   \n",
       "50%        3.000000      2.250000   1910.000000  7.610000e+03      1.500000   \n",
       "75%        4.000000      2.500000   2550.000000  1.069775e+04      2.000000   \n",
       "max       33.000000      7.750000   9890.000000  1.651359e+06      3.500000   \n",
       "std        0.936761      0.767941    912.843744  4.165878e+04      0.539343   \n",
       "\n",
       "         waterfront          view  ...  sqft_basement      yr_built  \\\n",
       "count  17290.000000  17290.000000  ...   17290.000000  17290.000000   \n",
       "mean       0.007866      0.232851  ...     292.627068   1971.044303   \n",
       "min        0.000000      0.000000  ...       0.000000   1900.000000   \n",
       "25%        0.000000      0.000000  ...       0.000000   1951.000000   \n",
       "50%        0.000000      0.000000  ...       0.000000   1975.000000   \n",
       "75%        0.000000      0.000000  ...     570.000000   1997.000000   \n",
       "max        1.000000      4.000000  ...    4820.000000   2015.000000   \n",
       "std        0.088343      0.763130  ...     442.167222     29.390492   \n",
       "\n",
       "       yr_renovated       zipcode           lat          long  sqft_living15  \\\n",
       "count  17290.000000  17290.000000  17290.000000  17290.000000   17290.000000   \n",
       "mean      85.507230  98077.947137     47.560199   -122.214212    1983.979757   \n",
       "min        0.000000  98001.000000     47.155900   -122.519000     399.000000   \n",
       "25%        0.000000  98033.000000     47.470400   -122.329000    1480.000000   \n",
       "50%        0.000000  98065.000000     47.571450   -122.231000    1840.000000   \n",
       "75%        0.000000  98117.000000     47.678000   -122.125000    2360.000000   \n",
       "max     2015.000000  98199.000000     47.777600   -121.315000    6210.000000   \n",
       "std      404.116406     53.598741      0.138340      0.140878     684.765243   \n",
       "\n",
       "          sqft_lot15      bed_bath  living_basement  \n",
       "count   17290.000000  17278.000000     17290.000000  \n",
       "mean    12647.374031      5.488410      2372.384558  \n",
       "min       651.000000      0.000000       370.000000  \n",
       "25%      5100.000000      4.500000      1500.000000  \n",
       "50%      7620.000000      5.500000      2170.000000  \n",
       "75%     10118.000000      6.500000      2987.500000  \n",
       "max    858132.000000     34.750000     14460.000000  \n",
       "std     26603.536039      1.483559      1173.694434  \n",
       "\n",
       "[8 rows x 23 columns]"
      ]
     },
     "execution_count": 347,
     "metadata": {},
     "output_type": "execute_result"
    }
   ],
   "source": [
    "housing.describe()"
   ]
  },
  {
   "cell_type": "markdown",
   "id": "515e394c",
   "metadata": {},
   "source": [
    "# 머신러닝 알고리즘을 위한 데이터 준비"
   ]
  },
  {
   "cell_type": "code",
   "execution_count": 348,
   "id": "eecdf320",
   "metadata": {
    "scrolled": false
   },
   "outputs": [],
   "source": [
    "housing = strat_train_set.drop(\"price\", axis=1)\n",
    "housing_labels = strat_train_set[\"price\"].copy()"
   ]
  },
  {
   "cell_type": "markdown",
   "id": "5c4096ee",
   "metadata": {},
   "source": [
    "# 데이터 정제"
   ]
  },
  {
   "cell_type": "code",
   "execution_count": 232,
   "id": "c228704e",
   "metadata": {},
   "outputs": [],
   "source": [
    "from sklearn.impute import SimpleImputer\n",
    "imputer = SimpleImputer(strategy=\"median\")"
   ]
  },
  {
   "cell_type": "code",
   "execution_count": 233,
   "id": "5e653d7b",
   "metadata": {},
   "outputs": [],
   "source": [
    "housing_num = housing.drop(\"date\", axis=1)"
   ]
  },
  {
   "cell_type": "code",
   "execution_count": 234,
   "id": "3d360a68",
   "metadata": {},
   "outputs": [
    {
     "data": {
      "text/html": [
       "<style>#sk-container-id-5 {color: black;}#sk-container-id-5 pre{padding: 0;}#sk-container-id-5 div.sk-toggleable {background-color: white;}#sk-container-id-5 label.sk-toggleable__label {cursor: pointer;display: block;width: 100%;margin-bottom: 0;padding: 0.3em;box-sizing: border-box;text-align: center;}#sk-container-id-5 label.sk-toggleable__label-arrow:before {content: \"▸\";float: left;margin-right: 0.25em;color: #696969;}#sk-container-id-5 label.sk-toggleable__label-arrow:hover:before {color: black;}#sk-container-id-5 div.sk-estimator:hover label.sk-toggleable__label-arrow:before {color: black;}#sk-container-id-5 div.sk-toggleable__content {max-height: 0;max-width: 0;overflow: hidden;text-align: left;background-color: #f0f8ff;}#sk-container-id-5 div.sk-toggleable__content pre {margin: 0.2em;color: black;border-radius: 0.25em;background-color: #f0f8ff;}#sk-container-id-5 input.sk-toggleable__control:checked~div.sk-toggleable__content {max-height: 200px;max-width: 100%;overflow: auto;}#sk-container-id-5 input.sk-toggleable__control:checked~label.sk-toggleable__label-arrow:before {content: \"▾\";}#sk-container-id-5 div.sk-estimator input.sk-toggleable__control:checked~label.sk-toggleable__label {background-color: #d4ebff;}#sk-container-id-5 div.sk-label input.sk-toggleable__control:checked~label.sk-toggleable__label {background-color: #d4ebff;}#sk-container-id-5 input.sk-hidden--visually {border: 0;clip: rect(1px 1px 1px 1px);clip: rect(1px, 1px, 1px, 1px);height: 1px;margin: -1px;overflow: hidden;padding: 0;position: absolute;width: 1px;}#sk-container-id-5 div.sk-estimator {font-family: monospace;background-color: #f0f8ff;border: 1px dotted black;border-radius: 0.25em;box-sizing: border-box;margin-bottom: 0.5em;}#sk-container-id-5 div.sk-estimator:hover {background-color: #d4ebff;}#sk-container-id-5 div.sk-parallel-item::after {content: \"\";width: 100%;border-bottom: 1px solid gray;flex-grow: 1;}#sk-container-id-5 div.sk-label:hover label.sk-toggleable__label {background-color: #d4ebff;}#sk-container-id-5 div.sk-serial::before {content: \"\";position: absolute;border-left: 1px solid gray;box-sizing: border-box;top: 0;bottom: 0;left: 50%;z-index: 0;}#sk-container-id-5 div.sk-serial {display: flex;flex-direction: column;align-items: center;background-color: white;padding-right: 0.2em;padding-left: 0.2em;position: relative;}#sk-container-id-5 div.sk-item {position: relative;z-index: 1;}#sk-container-id-5 div.sk-parallel {display: flex;align-items: stretch;justify-content: center;background-color: white;position: relative;}#sk-container-id-5 div.sk-item::before, #sk-container-id-5 div.sk-parallel-item::before {content: \"\";position: absolute;border-left: 1px solid gray;box-sizing: border-box;top: 0;bottom: 0;left: 50%;z-index: -1;}#sk-container-id-5 div.sk-parallel-item {display: flex;flex-direction: column;z-index: 1;position: relative;background-color: white;}#sk-container-id-5 div.sk-parallel-item:first-child::after {align-self: flex-end;width: 50%;}#sk-container-id-5 div.sk-parallel-item:last-child::after {align-self: flex-start;width: 50%;}#sk-container-id-5 div.sk-parallel-item:only-child::after {width: 0;}#sk-container-id-5 div.sk-dashed-wrapped {border: 1px dashed gray;margin: 0 0.4em 0.5em 0.4em;box-sizing: border-box;padding-bottom: 0.4em;background-color: white;}#sk-container-id-5 div.sk-label label {font-family: monospace;font-weight: bold;display: inline-block;line-height: 1.2em;}#sk-container-id-5 div.sk-label-container {text-align: center;}#sk-container-id-5 div.sk-container {/* jupyter's `normalize.less` sets `[hidden] { display: none; }` but bootstrap.min.css set `[hidden] { display: none !important; }` so we also need the `!important` here to be able to override the default hidden behavior on the sphinx rendered scikit-learn.org. See: https://github.com/scikit-learn/scikit-learn/issues/21755 */display: inline-block !important;position: relative;}#sk-container-id-5 div.sk-text-repr-fallback {display: none;}</style><div id=\"sk-container-id-5\" class=\"sk-top-container\"><div class=\"sk-text-repr-fallback\"><pre>SimpleImputer(strategy=&#x27;median&#x27;)</pre><b>In a Jupyter environment, please rerun this cell to show the HTML representation or trust the notebook. <br />On GitHub, the HTML representation is unable to render, please try loading this page with nbviewer.org.</b></div><div class=\"sk-container\" hidden><div class=\"sk-item\"><div class=\"sk-estimator sk-toggleable\"><input class=\"sk-toggleable__control sk-hidden--visually\" id=\"sk-estimator-id-5\" type=\"checkbox\" checked><label for=\"sk-estimator-id-5\" class=\"sk-toggleable__label sk-toggleable__label-arrow\">SimpleImputer</label><div class=\"sk-toggleable__content\"><pre>SimpleImputer(strategy=&#x27;median&#x27;)</pre></div></div></div></div></div>"
      ],
      "text/plain": [
       "SimpleImputer(strategy='median')"
      ]
     },
     "execution_count": 234,
     "metadata": {},
     "output_type": "execute_result"
    }
   ],
   "source": [
    "imputer.fit(housing_num)"
   ]
  },
  {
   "cell_type": "code",
   "execution_count": 235,
   "id": "483705aa",
   "metadata": {},
   "outputs": [
    {
     "data": {
      "text/plain": [
       "array([ 3.90499034e+09,  3.00000000e+00,  2.25000000e+00,  1.91000000e+03,\n",
       "        7.61000000e+03,  1.50000000e+00,  0.00000000e+00,  0.00000000e+00,\n",
       "        3.00000000e+00,  7.00000000e+00,  1.56000000e+03,  0.00000000e+00,\n",
       "        1.97500000e+03,  0.00000000e+00,  9.80650000e+04,  4.75714500e+01,\n",
       "       -1.22231000e+02,  1.84000000e+03,  7.62000000e+03,  2.01400000e+03])"
      ]
     },
     "execution_count": 235,
     "metadata": {},
     "output_type": "execute_result"
    }
   ],
   "source": [
    "imputer.statistics_"
   ]
  },
  {
   "cell_type": "code",
   "execution_count": 236,
   "id": "a984984e",
   "metadata": {},
   "outputs": [],
   "source": [
    "X = imputer.transform(housing_num)"
   ]
  },
  {
   "cell_type": "code",
   "execution_count": 237,
   "id": "2003032c",
   "metadata": {},
   "outputs": [],
   "source": [
    "housing_tr = pd.DataFrame(X, columns=housing_num.columns,\n",
    "                          index=housing_num.index)"
   ]
  },
  {
   "cell_type": "code",
   "execution_count": 238,
   "id": "a67d96a5",
   "metadata": {
    "scrolled": false
   },
   "outputs": [
    {
     "ename": "NameError",
     "evalue": "name 'sample_incomplete_rows' is not defined",
     "output_type": "error",
     "traceback": [
      "\u001b[1;31m---------------------------------------------------------------------------\u001b[0m",
      "\u001b[1;31mNameError\u001b[0m                                 Traceback (most recent call last)",
      "Cell \u001b[1;32mIn[238], line 1\u001b[0m\n\u001b[1;32m----> 1\u001b[0m housing_tr\u001b[38;5;241m.\u001b[39mloc[sample_incomplete_rows\u001b[38;5;241m.\u001b[39mindex\u001b[38;5;241m.\u001b[39mvalues]\n",
      "\u001b[1;31mNameError\u001b[0m: name 'sample_incomplete_rows' is not defined"
     ]
    }
   ],
   "source": [
    "housing_tr.loc[sample_incomplete_rows.index.values]"
   ]
  },
  {
   "cell_type": "code",
   "execution_count": 239,
   "id": "7286fd6f",
   "metadata": {},
   "outputs": [
    {
     "data": {
      "text/plain": [
       "'median'"
      ]
     },
     "execution_count": 239,
     "metadata": {},
     "output_type": "execute_result"
    }
   ],
   "source": [
    "imputer.strategy"
   ]
  },
  {
   "cell_type": "code",
   "execution_count": 240,
   "id": "13daf276",
   "metadata": {},
   "outputs": [
    {
     "data": {
      "text/html": [
       "<div>\n",
       "<style scoped>\n",
       "    .dataframe tbody tr th:only-of-type {\n",
       "        vertical-align: middle;\n",
       "    }\n",
       "\n",
       "    .dataframe tbody tr th {\n",
       "        vertical-align: top;\n",
       "    }\n",
       "\n",
       "    .dataframe thead th {\n",
       "        text-align: right;\n",
       "    }\n",
       "</style>\n",
       "<table border=\"1\" class=\"dataframe\">\n",
       "  <thead>\n",
       "    <tr style=\"text-align: right;\">\n",
       "      <th></th>\n",
       "      <th>id</th>\n",
       "      <th>bedrooms</th>\n",
       "      <th>bathrooms</th>\n",
       "      <th>sqft_living</th>\n",
       "      <th>sqft_lot</th>\n",
       "      <th>floors</th>\n",
       "      <th>waterfront</th>\n",
       "      <th>view</th>\n",
       "      <th>condition</th>\n",
       "      <th>grade</th>\n",
       "      <th>sqft_above</th>\n",
       "      <th>sqft_basement</th>\n",
       "      <th>yr_built</th>\n",
       "      <th>yr_renovated</th>\n",
       "      <th>zipcode</th>\n",
       "      <th>lat</th>\n",
       "      <th>long</th>\n",
       "      <th>sqft_living15</th>\n",
       "      <th>sqft_lot15</th>\n",
       "      <th>date_year</th>\n",
       "    </tr>\n",
       "  </thead>\n",
       "  <tbody>\n",
       "    <tr>\n",
       "      <th>20474</th>\n",
       "      <td>9.930003e+08</td>\n",
       "      <td>3.0</td>\n",
       "      <td>3.25</td>\n",
       "      <td>1380.0</td>\n",
       "      <td>1234.0</td>\n",
       "      <td>3.0</td>\n",
       "      <td>0.0</td>\n",
       "      <td>0.0</td>\n",
       "      <td>3.0</td>\n",
       "      <td>8.0</td>\n",
       "      <td>1380.0</td>\n",
       "      <td>0.0</td>\n",
       "      <td>2006.0</td>\n",
       "      <td>0.0</td>\n",
       "      <td>98103.0</td>\n",
       "      <td>47.6935</td>\n",
       "      <td>-122.342</td>\n",
       "      <td>1370.0</td>\n",
       "      <td>1282.0</td>\n",
       "      <td>2014.0</td>\n",
       "    </tr>\n",
       "    <tr>\n",
       "      <th>3840</th>\n",
       "      <td>5.220590e+08</td>\n",
       "      <td>2.0</td>\n",
       "      <td>1.00</td>\n",
       "      <td>820.0</td>\n",
       "      <td>10450.0</td>\n",
       "      <td>1.0</td>\n",
       "      <td>0.0</td>\n",
       "      <td>0.0</td>\n",
       "      <td>4.0</td>\n",
       "      <td>7.0</td>\n",
       "      <td>820.0</td>\n",
       "      <td>0.0</td>\n",
       "      <td>1965.0</td>\n",
       "      <td>0.0</td>\n",
       "      <td>98055.0</td>\n",
       "      <td>47.4261</td>\n",
       "      <td>-122.199</td>\n",
       "      <td>1240.0</td>\n",
       "      <td>11200.0</td>\n",
       "      <td>2014.0</td>\n",
       "    </tr>\n",
       "    <tr>\n",
       "      <th>7426</th>\n",
       "      <td>2.524000e+09</td>\n",
       "      <td>3.0</td>\n",
       "      <td>3.50</td>\n",
       "      <td>4240.0</td>\n",
       "      <td>21578.0</td>\n",
       "      <td>2.0</td>\n",
       "      <td>0.0</td>\n",
       "      <td>0.0</td>\n",
       "      <td>3.0</td>\n",
       "      <td>10.0</td>\n",
       "      <td>3500.0</td>\n",
       "      <td>740.0</td>\n",
       "      <td>1994.0</td>\n",
       "      <td>0.0</td>\n",
       "      <td>98040.0</td>\n",
       "      <td>47.5614</td>\n",
       "      <td>-122.215</td>\n",
       "      <td>3120.0</td>\n",
       "      <td>16440.0</td>\n",
       "      <td>2014.0</td>\n",
       "    </tr>\n",
       "    <tr>\n",
       "      <th>4038</th>\n",
       "      <td>3.277801e+09</td>\n",
       "      <td>4.0</td>\n",
       "      <td>1.00</td>\n",
       "      <td>1140.0</td>\n",
       "      <td>6250.0</td>\n",
       "      <td>1.5</td>\n",
       "      <td>0.0</td>\n",
       "      <td>0.0</td>\n",
       "      <td>3.0</td>\n",
       "      <td>6.0</td>\n",
       "      <td>1140.0</td>\n",
       "      <td>0.0</td>\n",
       "      <td>1958.0</td>\n",
       "      <td>0.0</td>\n",
       "      <td>98126.0</td>\n",
       "      <td>47.5433</td>\n",
       "      <td>-122.375</td>\n",
       "      <td>1140.0</td>\n",
       "      <td>1370.0</td>\n",
       "      <td>2015.0</td>\n",
       "    </tr>\n",
       "    <tr>\n",
       "      <th>11420</th>\n",
       "      <td>7.202290e+09</td>\n",
       "      <td>3.0</td>\n",
       "      <td>2.50</td>\n",
       "      <td>1600.0</td>\n",
       "      <td>3172.0</td>\n",
       "      <td>2.0</td>\n",
       "      <td>0.0</td>\n",
       "      <td>0.0</td>\n",
       "      <td>3.0</td>\n",
       "      <td>7.0</td>\n",
       "      <td>1600.0</td>\n",
       "      <td>0.0</td>\n",
       "      <td>2002.0</td>\n",
       "      <td>0.0</td>\n",
       "      <td>98053.0</td>\n",
       "      <td>47.6868</td>\n",
       "      <td>-122.042</td>\n",
       "      <td>1690.0</td>\n",
       "      <td>3698.0</td>\n",
       "      <td>2014.0</td>\n",
       "    </tr>\n",
       "  </tbody>\n",
       "</table>\n",
       "</div>"
      ],
      "text/plain": [
       "                 id  bedrooms  bathrooms  sqft_living  sqft_lot  floors  \\\n",
       "20474  9.930003e+08       3.0       3.25       1380.0    1234.0     3.0   \n",
       "3840   5.220590e+08       2.0       1.00        820.0   10450.0     1.0   \n",
       "7426   2.524000e+09       3.0       3.50       4240.0   21578.0     2.0   \n",
       "4038   3.277801e+09       4.0       1.00       1140.0    6250.0     1.5   \n",
       "11420  7.202290e+09       3.0       2.50       1600.0    3172.0     2.0   \n",
       "\n",
       "       waterfront  view  condition  grade  sqft_above  sqft_basement  \\\n",
       "20474         0.0   0.0        3.0    8.0      1380.0            0.0   \n",
       "3840          0.0   0.0        4.0    7.0       820.0            0.0   \n",
       "7426          0.0   0.0        3.0   10.0      3500.0          740.0   \n",
       "4038          0.0   0.0        3.0    6.0      1140.0            0.0   \n",
       "11420         0.0   0.0        3.0    7.0      1600.0            0.0   \n",
       "\n",
       "       yr_built  yr_renovated  zipcode      lat     long  sqft_living15  \\\n",
       "20474    2006.0           0.0  98103.0  47.6935 -122.342         1370.0   \n",
       "3840     1965.0           0.0  98055.0  47.4261 -122.199         1240.0   \n",
       "7426     1994.0           0.0  98040.0  47.5614 -122.215         3120.0   \n",
       "4038     1958.0           0.0  98126.0  47.5433 -122.375         1140.0   \n",
       "11420    2002.0           0.0  98053.0  47.6868 -122.042         1690.0   \n",
       "\n",
       "       sqft_lot15  date_year  \n",
       "20474      1282.0     2014.0  \n",
       "3840      11200.0     2014.0  \n",
       "7426      16440.0     2014.0  \n",
       "4038       1370.0     2015.0  \n",
       "11420      3698.0     2014.0  "
      ]
     },
     "execution_count": 240,
     "metadata": {},
     "output_type": "execute_result"
    }
   ],
   "source": [
    "housing_tr.head()"
   ]
  },
  {
   "cell_type": "markdown",
   "id": "c9c595f6",
   "metadata": {},
   "source": [
    "# 텍스트 범주형 특성"
   ]
  },
  {
   "cell_type": "code",
   "execution_count": 241,
   "id": "f2fbe310",
   "metadata": {
    "scrolled": true
   },
   "outputs": [
    {
     "data": {
      "text/html": [
       "<div>\n",
       "<style scoped>\n",
       "    .dataframe tbody tr th:only-of-type {\n",
       "        vertical-align: middle;\n",
       "    }\n",
       "\n",
       "    .dataframe tbody tr th {\n",
       "        vertical-align: top;\n",
       "    }\n",
       "\n",
       "    .dataframe thead th {\n",
       "        text-align: right;\n",
       "    }\n",
       "</style>\n",
       "<table border=\"1\" class=\"dataframe\">\n",
       "  <thead>\n",
       "    <tr style=\"text-align: right;\">\n",
       "      <th></th>\n",
       "      <th>date_year</th>\n",
       "    </tr>\n",
       "  </thead>\n",
       "  <tbody>\n",
       "    <tr>\n",
       "      <th>20474</th>\n",
       "      <td>2014</td>\n",
       "    </tr>\n",
       "    <tr>\n",
       "      <th>3840</th>\n",
       "      <td>2014</td>\n",
       "    </tr>\n",
       "    <tr>\n",
       "      <th>7426</th>\n",
       "      <td>2014</td>\n",
       "    </tr>\n",
       "    <tr>\n",
       "      <th>4038</th>\n",
       "      <td>2015</td>\n",
       "    </tr>\n",
       "    <tr>\n",
       "      <th>11420</th>\n",
       "      <td>2014</td>\n",
       "    </tr>\n",
       "    <tr>\n",
       "      <th>12116</th>\n",
       "      <td>2014</td>\n",
       "    </tr>\n",
       "    <tr>\n",
       "      <th>14161</th>\n",
       "      <td>2014</td>\n",
       "    </tr>\n",
       "    <tr>\n",
       "      <th>21429</th>\n",
       "      <td>2014</td>\n",
       "    </tr>\n",
       "    <tr>\n",
       "      <th>17076</th>\n",
       "      <td>2015</td>\n",
       "    </tr>\n",
       "    <tr>\n",
       "      <th>1345</th>\n",
       "      <td>2014</td>\n",
       "    </tr>\n",
       "  </tbody>\n",
       "</table>\n",
       "</div>"
      ],
      "text/plain": [
       "      date_year\n",
       "20474      2014\n",
       "3840       2014\n",
       "7426       2014\n",
       "4038       2015\n",
       "11420      2014\n",
       "12116      2014\n",
       "14161      2014\n",
       "21429      2014\n",
       "17076      2015\n",
       "1345       2014"
      ]
     },
     "execution_count": 241,
     "metadata": {},
     "output_type": "execute_result"
    }
   ],
   "source": [
    "housing_cat = housing[[\"date_year\"]]\n",
    "housing_cat.head(10)"
   ]
  },
  {
   "cell_type": "code",
   "execution_count": 242,
   "id": "e6f1415b",
   "metadata": {},
   "outputs": [
    {
     "data": {
      "text/plain": [
       "<17290x2 sparse matrix of type '<class 'numpy.float64'>'\n",
       "\twith 17290 stored elements in Compressed Sparse Row format>"
      ]
     },
     "execution_count": 242,
     "metadata": {},
     "output_type": "execute_result"
    }
   ],
   "source": [
    "from sklearn.preprocessing import OneHotEncoder\n",
    "\n",
    "cat_encoder = OneHotEncoder()\n",
    "housing_cat_1hot = cat_encoder.fit_transform(housing_cat)\n",
    "housing_cat_1hot"
   ]
  },
  {
   "cell_type": "code",
   "execution_count": 243,
   "id": "21ca4c5a",
   "metadata": {},
   "outputs": [
    {
     "data": {
      "text/plain": [
       "array([[1., 0.],\n",
       "       [1., 0.],\n",
       "       [1., 0.],\n",
       "       ...,\n",
       "       [1., 0.],\n",
       "       [1., 0.],\n",
       "       [0., 1.]])"
      ]
     },
     "execution_count": 243,
     "metadata": {},
     "output_type": "execute_result"
    }
   ],
   "source": [
    "housing_cat_1hot.toarray()"
   ]
  },
  {
   "cell_type": "code",
   "execution_count": 244,
   "id": "7c5a4478",
   "metadata": {},
   "outputs": [
    {
     "data": {
      "text/plain": [
       "array([[1., 0.],\n",
       "       [1., 0.],\n",
       "       [1., 0.],\n",
       "       ...,\n",
       "       [1., 0.],\n",
       "       [1., 0.],\n",
       "       [0., 1.]])"
      ]
     },
     "execution_count": 244,
     "metadata": {},
     "output_type": "execute_result"
    }
   ],
   "source": [
    "cat_encoder = OneHotEncoder(sparse=False)\n",
    "housing_cat_1hot = cat_encoder.fit_transform(housing_cat)\n",
    "housing_cat_1hot"
   ]
  },
  {
   "cell_type": "code",
   "execution_count": 245,
   "id": "1611e48f",
   "metadata": {
    "scrolled": false
   },
   "outputs": [
    {
     "data": {
      "text/plain": [
       "[array(['2014', '2015'], dtype=object)]"
      ]
     },
     "execution_count": 245,
     "metadata": {},
     "output_type": "execute_result"
    }
   ],
   "source": [
    "cat_encoder.categories_"
   ]
  },
  {
   "cell_type": "markdown",
   "id": "de0a3843",
   "metadata": {},
   "source": [
    "# 변환기"
   ]
  },
  {
   "cell_type": "code",
   "execution_count": 246,
   "id": "ce8d94f4",
   "metadata": {},
   "outputs": [],
   "source": [
    "from sklearn.base import BaseEstimator, TransformerMixin\n",
    "\n",
    "bedrooms_ix, bathrooms_ix, sqft_living_ix, sqft_basement_ix = 3, 4, 5, 13\n",
    "\n",
    "class CombinedAttributesAdder(BaseEstimator, TransformerMixin):\n",
    "    def __init__(self, add_living_basement=True):\n",
    "        self.add_living_basement = add_living_basement\n",
    "    def fit(self, X, y=None):\n",
    "        return self\n",
    "    def transform(self, X):\n",
    "        bed_bath = X[:, bedrooms_ix] + X[:, bathrooms_ix]\n",
    "        if self.add_living_basement:\n",
    "            living_basement = X[:, sqft_living_ix] + X[:, sqft_basement_ix]\n",
    "            return np.c_[X, bed_bath, \n",
    "                         living_basement]\n",
    "        else:\n",
    "            return np.c_[X, bed_bath]\n",
    "\n",
    "attr_adder = CombinedAttributesAdder(add_living_basement=False)\n",
    "housing_extra_attribs = attr_adder.transform(housing.to_numpy())"
   ]
  },
  {
   "cell_type": "code",
   "execution_count": 247,
   "id": "b01efe05",
   "metadata": {},
   "outputs": [],
   "source": [
    "col_names = \"bedrooms\", \"bathrooms\", \"sqft_living\", \"sqft_basement\"\n",
    "bedrooms_ix, bathrooms_ix, sqft_living_ix, sqft_basement_ix = [\n",
    "    housing.columns.get_loc(c) for c in col_names]"
   ]
  },
  {
   "cell_type": "code",
   "execution_count": 248,
   "id": "4a04d6f5",
   "metadata": {
    "scrolled": true
   },
   "outputs": [
    {
     "data": {
      "text/html": [
       "<div>\n",
       "<style scoped>\n",
       "    .dataframe tbody tr th:only-of-type {\n",
       "        vertical-align: middle;\n",
       "    }\n",
       "\n",
       "    .dataframe tbody tr th {\n",
       "        vertical-align: top;\n",
       "    }\n",
       "\n",
       "    .dataframe thead th {\n",
       "        text-align: right;\n",
       "    }\n",
       "</style>\n",
       "<table border=\"1\" class=\"dataframe\">\n",
       "  <thead>\n",
       "    <tr style=\"text-align: right;\">\n",
       "      <th></th>\n",
       "      <th>id</th>\n",
       "      <th>date</th>\n",
       "      <th>bedrooms</th>\n",
       "      <th>bathrooms</th>\n",
       "      <th>sqft_living</th>\n",
       "      <th>sqft_lot</th>\n",
       "      <th>floors</th>\n",
       "      <th>waterfront</th>\n",
       "      <th>view</th>\n",
       "      <th>condition</th>\n",
       "      <th>...</th>\n",
       "      <th>sqft_basement</th>\n",
       "      <th>yr_built</th>\n",
       "      <th>yr_renovated</th>\n",
       "      <th>zipcode</th>\n",
       "      <th>lat</th>\n",
       "      <th>long</th>\n",
       "      <th>sqft_living15</th>\n",
       "      <th>sqft_lot15</th>\n",
       "      <th>date_year</th>\n",
       "      <th>bed_bath</th>\n",
       "    </tr>\n",
       "  </thead>\n",
       "  <tbody>\n",
       "    <tr>\n",
       "      <th>20474</th>\n",
       "      <td>993000315</td>\n",
       "      <td>2014-10-02</td>\n",
       "      <td>3.0</td>\n",
       "      <td>3.25</td>\n",
       "      <td>1380</td>\n",
       "      <td>1234</td>\n",
       "      <td>3.0</td>\n",
       "      <td>0</td>\n",
       "      <td>0</td>\n",
       "      <td>3</td>\n",
       "      <td>...</td>\n",
       "      <td>0</td>\n",
       "      <td>2006</td>\n",
       "      <td>0</td>\n",
       "      <td>98103</td>\n",
       "      <td>47.6935</td>\n",
       "      <td>-122.342</td>\n",
       "      <td>1370</td>\n",
       "      <td>1282</td>\n",
       "      <td>2014</td>\n",
       "      <td>1383.25</td>\n",
       "    </tr>\n",
       "    <tr>\n",
       "      <th>3840</th>\n",
       "      <td>522059013</td>\n",
       "      <td>2014-06-12</td>\n",
       "      <td>2.0</td>\n",
       "      <td>1.0</td>\n",
       "      <td>820</td>\n",
       "      <td>10450</td>\n",
       "      <td>1.0</td>\n",
       "      <td>0</td>\n",
       "      <td>0</td>\n",
       "      <td>4</td>\n",
       "      <td>...</td>\n",
       "      <td>0</td>\n",
       "      <td>1965</td>\n",
       "      <td>0</td>\n",
       "      <td>98055</td>\n",
       "      <td>47.4261</td>\n",
       "      <td>-122.199</td>\n",
       "      <td>1240</td>\n",
       "      <td>11200</td>\n",
       "      <td>2014</td>\n",
       "      <td>821.0</td>\n",
       "    </tr>\n",
       "    <tr>\n",
       "      <th>7426</th>\n",
       "      <td>2524000050</td>\n",
       "      <td>2014-12-12</td>\n",
       "      <td>3.0</td>\n",
       "      <td>3.5</td>\n",
       "      <td>4240</td>\n",
       "      <td>21578</td>\n",
       "      <td>2.0</td>\n",
       "      <td>0</td>\n",
       "      <td>0</td>\n",
       "      <td>3</td>\n",
       "      <td>...</td>\n",
       "      <td>740</td>\n",
       "      <td>1994</td>\n",
       "      <td>0</td>\n",
       "      <td>98040</td>\n",
       "      <td>47.5614</td>\n",
       "      <td>-122.215</td>\n",
       "      <td>3120</td>\n",
       "      <td>16440</td>\n",
       "      <td>2014</td>\n",
       "      <td>4243.5</td>\n",
       "    </tr>\n",
       "    <tr>\n",
       "      <th>4038</th>\n",
       "      <td>3277801450</td>\n",
       "      <td>2015-04-15</td>\n",
       "      <td>4.0</td>\n",
       "      <td>1.0</td>\n",
       "      <td>1140</td>\n",
       "      <td>6250</td>\n",
       "      <td>1.5</td>\n",
       "      <td>0</td>\n",
       "      <td>0</td>\n",
       "      <td>3</td>\n",
       "      <td>...</td>\n",
       "      <td>0</td>\n",
       "      <td>1958</td>\n",
       "      <td>0</td>\n",
       "      <td>98126</td>\n",
       "      <td>47.5433</td>\n",
       "      <td>-122.375</td>\n",
       "      <td>1140</td>\n",
       "      <td>1370</td>\n",
       "      <td>2015</td>\n",
       "      <td>1141.0</td>\n",
       "    </tr>\n",
       "    <tr>\n",
       "      <th>11420</th>\n",
       "      <td>7202290320</td>\n",
       "      <td>2014-10-24</td>\n",
       "      <td>3.0</td>\n",
       "      <td>2.5</td>\n",
       "      <td>1600</td>\n",
       "      <td>3172</td>\n",
       "      <td>2.0</td>\n",
       "      <td>0</td>\n",
       "      <td>0</td>\n",
       "      <td>3</td>\n",
       "      <td>...</td>\n",
       "      <td>0</td>\n",
       "      <td>2002</td>\n",
       "      <td>0</td>\n",
       "      <td>98053</td>\n",
       "      <td>47.6868</td>\n",
       "      <td>-122.042</td>\n",
       "      <td>1690</td>\n",
       "      <td>3698</td>\n",
       "      <td>2014</td>\n",
       "      <td>1602.5</td>\n",
       "    </tr>\n",
       "  </tbody>\n",
       "</table>\n",
       "<p>5 rows × 22 columns</p>\n",
       "</div>"
      ],
      "text/plain": [
       "               id       date bedrooms bathrooms sqft_living sqft_lot floors  \\\n",
       "20474   993000315 2014-10-02      3.0      3.25        1380     1234    3.0   \n",
       "3840    522059013 2014-06-12      2.0       1.0         820    10450    1.0   \n",
       "7426   2524000050 2014-12-12      3.0       3.5        4240    21578    2.0   \n",
       "4038   3277801450 2015-04-15      4.0       1.0        1140     6250    1.5   \n",
       "11420  7202290320 2014-10-24      3.0       2.5        1600     3172    2.0   \n",
       "\n",
       "      waterfront view condition  ... sqft_basement yr_built yr_renovated  \\\n",
       "20474          0    0         3  ...             0     2006            0   \n",
       "3840           0    0         4  ...             0     1965            0   \n",
       "7426           0    0         3  ...           740     1994            0   \n",
       "4038           0    0         3  ...             0     1958            0   \n",
       "11420          0    0         3  ...             0     2002            0   \n",
       "\n",
       "      zipcode      lat     long sqft_living15 sqft_lot15 date_year bed_bath  \n",
       "20474   98103  47.6935 -122.342          1370       1282      2014  1383.25  \n",
       "3840    98055  47.4261 -122.199          1240      11200      2014    821.0  \n",
       "7426    98040  47.5614 -122.215          3120      16440      2014   4243.5  \n",
       "4038    98126  47.5433 -122.375          1140       1370      2015   1141.0  \n",
       "11420   98053  47.6868 -122.042          1690       3698      2014   1602.5  \n",
       "\n",
       "[5 rows x 22 columns]"
      ]
     },
     "execution_count": 248,
     "metadata": {},
     "output_type": "execute_result"
    }
   ],
   "source": [
    "housing_extra_attribs = pd.DataFrame(\n",
    "    housing_extra_attribs,\n",
    "    columns=list(housing.columns)+[\"bed_bath\"],\n",
    "    index=housing.index)\n",
    "housing_extra_attribs.head()"
   ]
  },
  {
   "cell_type": "markdown",
   "id": "337fd469",
   "metadata": {},
   "source": [
    "# 파이프라인"
   ]
  },
  {
   "cell_type": "code",
   "execution_count": 249,
   "id": "247b7676",
   "metadata": {},
   "outputs": [],
   "source": [
    "from sklearn.pipeline import Pipeline\n",
    "from sklearn.preprocessing import StandardScaler\n",
    "\n",
    "num_pipeline = Pipeline([\n",
    "        ('imputer', SimpleImputer(strategy=\"median\")),\n",
    "        ('attribs_adder', CombinedAttributesAdder()),\n",
    "        ('std_scaler', StandardScaler()),\n",
    "    ])\n",
    "\n",
    "housing_num_tr = num_pipeline.fit_transform(housing_num)"
   ]
  },
  {
   "cell_type": "code",
   "execution_count": 250,
   "id": "bff7d055",
   "metadata": {},
   "outputs": [
    {
     "data": {
      "text/plain": [
       "array([[-1.25041026, -0.39854495,  1.47808418, ..., -0.69112335,\n",
       "        -0.76486199, -0.32865802],\n",
       "       [-1.41400744, -1.46639589, -1.45191173, ..., -0.69112335,\n",
       "        -1.38042145, -0.10841793],\n",
       "       [-0.71856641, -0.39854495,  1.80363928, ..., -0.69112335,\n",
       "         2.36658123,  0.15939882],\n",
       "       ...,\n",
       "       [ 0.14172853, -1.46639589, -1.45191173, ..., -0.69112335,\n",
       "        -0.83301419, -0.14699295],\n",
       "       [-0.58110615, -0.39854495, -1.45191173, ..., -0.69112335,\n",
       "        -1.0300808 , -0.25030775],\n",
       "       [-0.69216179, -0.39854495,  0.17586377, ...,  1.44691972,\n",
       "         1.41272408, -0.07668415]])"
      ]
     },
     "execution_count": 250,
     "metadata": {},
     "output_type": "execute_result"
    }
   ],
   "source": [
    "housing_num_tr"
   ]
  },
  {
   "cell_type": "code",
   "execution_count": 251,
   "id": "975b29e1",
   "metadata": {},
   "outputs": [],
   "source": [
    "from sklearn.compose import ColumnTransformer\n",
    "\n",
    "num_attribs = list(housing_num)\n",
    "cat_attribs = [\"date_year\"]\n",
    "\n",
    "full_pipeline = ColumnTransformer([\n",
    "        (\"num\", num_pipeline, num_attribs),\n",
    "        (\"cat\", OneHotEncoder(), cat_attribs),\n",
    "    ])\n",
    "\n",
    "housing_prepared = full_pipeline.fit_transform(housing)"
   ]
  },
  {
   "cell_type": "code",
   "execution_count": 252,
   "id": "9732a989",
   "metadata": {},
   "outputs": [
    {
     "data": {
      "text/plain": [
       "array([[-1.25041026, -0.39854495,  1.47808418, ..., -0.32865802,\n",
       "         1.        ,  0.        ],\n",
       "       [-1.41400744, -1.46639589, -1.45191173, ..., -0.10841793,\n",
       "         1.        ,  0.        ],\n",
       "       [-0.71856641, -0.39854495,  1.80363928, ...,  0.15939882,\n",
       "         1.        ,  0.        ],\n",
       "       ...,\n",
       "       [ 0.14172853, -1.46639589, -1.45191173, ..., -0.14699295,\n",
       "         1.        ,  0.        ],\n",
       "       [-0.58110615, -0.39854495, -1.45191173, ..., -0.25030775,\n",
       "         1.        ,  0.        ],\n",
       "       [-0.69216179, -0.39854495,  0.17586377, ..., -0.07668415,\n",
       "         0.        ,  1.        ]])"
      ]
     },
     "execution_count": 252,
     "metadata": {},
     "output_type": "execute_result"
    }
   ],
   "source": [
    "housing_prepared"
   ]
  },
  {
   "cell_type": "code",
   "execution_count": 253,
   "id": "fbed8d48",
   "metadata": {},
   "outputs": [
    {
     "data": {
      "text/plain": [
       "(17290, 24)"
      ]
     },
     "execution_count": 253,
     "metadata": {},
     "output_type": "execute_result"
    }
   ],
   "source": [
    "housing_prepared.shape"
   ]
  },
  {
   "cell_type": "markdown",
   "id": "54c064ed",
   "metadata": {},
   "source": [
    "# 모델 선택과 훈련"
   ]
  },
  {
   "cell_type": "code",
   "execution_count": 273,
   "id": "cce76509",
   "metadata": {},
   "outputs": [
    {
     "data": {
      "text/html": [
       "<style>#sk-container-id-10 {color: black;}#sk-container-id-10 pre{padding: 0;}#sk-container-id-10 div.sk-toggleable {background-color: white;}#sk-container-id-10 label.sk-toggleable__label {cursor: pointer;display: block;width: 100%;margin-bottom: 0;padding: 0.3em;box-sizing: border-box;text-align: center;}#sk-container-id-10 label.sk-toggleable__label-arrow:before {content: \"▸\";float: left;margin-right: 0.25em;color: #696969;}#sk-container-id-10 label.sk-toggleable__label-arrow:hover:before {color: black;}#sk-container-id-10 div.sk-estimator:hover label.sk-toggleable__label-arrow:before {color: black;}#sk-container-id-10 div.sk-toggleable__content {max-height: 0;max-width: 0;overflow: hidden;text-align: left;background-color: #f0f8ff;}#sk-container-id-10 div.sk-toggleable__content pre {margin: 0.2em;color: black;border-radius: 0.25em;background-color: #f0f8ff;}#sk-container-id-10 input.sk-toggleable__control:checked~div.sk-toggleable__content {max-height: 200px;max-width: 100%;overflow: auto;}#sk-container-id-10 input.sk-toggleable__control:checked~label.sk-toggleable__label-arrow:before {content: \"▾\";}#sk-container-id-10 div.sk-estimator input.sk-toggleable__control:checked~label.sk-toggleable__label {background-color: #d4ebff;}#sk-container-id-10 div.sk-label input.sk-toggleable__control:checked~label.sk-toggleable__label {background-color: #d4ebff;}#sk-container-id-10 input.sk-hidden--visually {border: 0;clip: rect(1px 1px 1px 1px);clip: rect(1px, 1px, 1px, 1px);height: 1px;margin: -1px;overflow: hidden;padding: 0;position: absolute;width: 1px;}#sk-container-id-10 div.sk-estimator {font-family: monospace;background-color: #f0f8ff;border: 1px dotted black;border-radius: 0.25em;box-sizing: border-box;margin-bottom: 0.5em;}#sk-container-id-10 div.sk-estimator:hover {background-color: #d4ebff;}#sk-container-id-10 div.sk-parallel-item::after {content: \"\";width: 100%;border-bottom: 1px solid gray;flex-grow: 1;}#sk-container-id-10 div.sk-label:hover label.sk-toggleable__label {background-color: #d4ebff;}#sk-container-id-10 div.sk-serial::before {content: \"\";position: absolute;border-left: 1px solid gray;box-sizing: border-box;top: 0;bottom: 0;left: 50%;z-index: 0;}#sk-container-id-10 div.sk-serial {display: flex;flex-direction: column;align-items: center;background-color: white;padding-right: 0.2em;padding-left: 0.2em;position: relative;}#sk-container-id-10 div.sk-item {position: relative;z-index: 1;}#sk-container-id-10 div.sk-parallel {display: flex;align-items: stretch;justify-content: center;background-color: white;position: relative;}#sk-container-id-10 div.sk-item::before, #sk-container-id-10 div.sk-parallel-item::before {content: \"\";position: absolute;border-left: 1px solid gray;box-sizing: border-box;top: 0;bottom: 0;left: 50%;z-index: -1;}#sk-container-id-10 div.sk-parallel-item {display: flex;flex-direction: column;z-index: 1;position: relative;background-color: white;}#sk-container-id-10 div.sk-parallel-item:first-child::after {align-self: flex-end;width: 50%;}#sk-container-id-10 div.sk-parallel-item:last-child::after {align-self: flex-start;width: 50%;}#sk-container-id-10 div.sk-parallel-item:only-child::after {width: 0;}#sk-container-id-10 div.sk-dashed-wrapped {border: 1px dashed gray;margin: 0 0.4em 0.5em 0.4em;box-sizing: border-box;padding-bottom: 0.4em;background-color: white;}#sk-container-id-10 div.sk-label label {font-family: monospace;font-weight: bold;display: inline-block;line-height: 1.2em;}#sk-container-id-10 div.sk-label-container {text-align: center;}#sk-container-id-10 div.sk-container {/* jupyter's `normalize.less` sets `[hidden] { display: none; }` but bootstrap.min.css set `[hidden] { display: none !important; }` so we also need the `!important` here to be able to override the default hidden behavior on the sphinx rendered scikit-learn.org. See: https://github.com/scikit-learn/scikit-learn/issues/21755 */display: inline-block !important;position: relative;}#sk-container-id-10 div.sk-text-repr-fallback {display: none;}</style><div id=\"sk-container-id-10\" class=\"sk-top-container\"><div class=\"sk-text-repr-fallback\"><pre>LinearRegression()</pre><b>In a Jupyter environment, please rerun this cell to show the HTML representation or trust the notebook. <br />On GitHub, the HTML representation is unable to render, please try loading this page with nbviewer.org.</b></div><div class=\"sk-container\" hidden><div class=\"sk-item\"><div class=\"sk-estimator sk-toggleable\"><input class=\"sk-toggleable__control sk-hidden--visually\" id=\"sk-estimator-id-12\" type=\"checkbox\" checked><label for=\"sk-estimator-id-12\" class=\"sk-toggleable__label sk-toggleable__label-arrow\">LinearRegression</label><div class=\"sk-toggleable__content\"><pre>LinearRegression()</pre></div></div></div></div></div>"
      ],
      "text/plain": [
       "LinearRegression()"
      ]
     },
     "execution_count": 273,
     "metadata": {},
     "output_type": "execute_result"
    }
   ],
   "source": [
    "from sklearn.linear_model import LinearRegression\n",
    "\n",
    "lin_reg = LinearRegression()\n",
    "lin_reg.fit(housing_prepared, housing_labels)"
   ]
  },
  {
   "cell_type": "code",
   "execution_count": 274,
   "id": "f2a6954c",
   "metadata": {},
   "outputs": [
    {
     "name": "stdout",
     "output_type": "stream",
     "text": [
      "예측: [ 489619.3462737   182622.486864   1158250.60464151  160618.08752826\n",
      "  360509.89976217]\n"
     ]
    }
   ],
   "source": [
    "some_data = housing.iloc[:5]\n",
    "some_labels = housing_labels.iloc[:5]\n",
    "some_data_prepared = full_pipeline.transform(some_data)\n",
    "\n",
    "print(\"예측:\", lin_reg.predict(some_data_prepared))"
   ]
  },
  {
   "cell_type": "code",
   "execution_count": 275,
   "id": "906006d1",
   "metadata": {},
   "outputs": [
    {
     "name": "stdout",
     "output_type": "stream",
     "text": [
      "레이블: [379000.0, 173000.0, 1390000.0, 390000.0, 440500.0]\n"
     ]
    }
   ],
   "source": [
    "print(\"레이블:\", list(some_labels))"
   ]
  },
  {
   "cell_type": "code",
   "execution_count": 276,
   "id": "4ebe23c7",
   "metadata": {},
   "outputs": [
    {
     "data": {
      "text/plain": [
       "array([[-1.25041026, -0.39854495,  1.47808418, -0.76659092, -0.32950901,\n",
       "         2.79379002, -0.08904033, -0.3051357 , -0.62893008,  0.29017316,\n",
       "        -0.49372064, -0.66182095,  1.18938831, -0.21159671,  0.46742866,\n",
       "         0.96360306, -0.90710479, -0.89665403, -0.42722526, -0.69112335,\n",
       "        -0.76486199, -0.32865802,  1.        ,  0.        ],\n",
       "       [-1.41400744, -1.46639589, -1.45191173, -1.3800762 , -0.10827675,\n",
       "        -0.91453406, -0.08904033, -0.3051357 ,  0.90979938, -0.55716579,\n",
       "        -1.17282381, -0.66182095, -0.20566099, -0.21159671, -0.42814067,\n",
       "        -0.96936641,  0.10798604, -1.0865056 , -0.0544069 , -0.69112335,\n",
       "        -1.38042145, -0.10841793,  1.        ,  0.        ],\n",
       "       [-0.71856641, -0.39854495,  1.80363928,  2.36656602,  0.15885352,\n",
       "         0.93962798, -0.08904033, -0.3051357 , -0.62893008,  1.98485107,\n",
       "         2.07716993,  1.01180243,  0.7810812 , -0.21159671, -0.70800608,\n",
       "         0.00868433, -0.00559056,  1.65904024,  0.1425651 , -0.69112335,\n",
       "         2.36658123,  0.15939882,  1.        ,  0.        ],\n",
       "       [-0.45670833,  0.669306  , -1.45191173, -1.02951318, -0.20909874,\n",
       "         0.01254696, -0.08904033, -0.3051357 , -0.62893008, -1.40450475,\n",
       "        -0.78476486, -0.66182095, -0.44384014, -0.21159671,  0.89655563,\n",
       "        -0.12215616, -1.14135652, -1.23254527, -0.42391734,  1.44691972,\n",
       "        -1.0300808 , -0.20940431,  0.        ,  1.        ],\n",
       "       [ 0.90659386, -0.39854495,  0.50141887, -0.52557885, -0.28298686,\n",
       "         0.93962798, -0.08904033, -0.3051357 , -0.62893008, -0.55716579,\n",
       "        -0.22693011, -0.66182095,  1.05328594, -0.21159671, -0.46545606,\n",
       "         0.91517039,  1.22245638, -0.42932707, -0.33640764, -0.69112335,\n",
       "        -0.52482391, -0.28223357,  1.        ,  0.        ]])"
      ]
     },
     "execution_count": 276,
     "metadata": {},
     "output_type": "execute_result"
    }
   ],
   "source": [
    "some_data_prepared"
   ]
  },
  {
   "cell_type": "code",
   "execution_count": 277,
   "id": "9b0e99b1",
   "metadata": {},
   "outputs": [
    {
     "data": {
      "text/plain": [
       "197057.60345799619"
      ]
     },
     "execution_count": 277,
     "metadata": {},
     "output_type": "execute_result"
    }
   ],
   "source": [
    "from sklearn.metrics import mean_squared_error\n",
    "\n",
    "housing_predictions = lin_reg.predict(housing_prepared)\n",
    "lin_mse = mean_squared_error(housing_labels, housing_predictions)\n",
    "lin_rmse = np.sqrt(lin_mse)\n",
    "lin_rmse"
   ]
  },
  {
   "cell_type": "code",
   "execution_count": 278,
   "id": "d689fe01",
   "metadata": {},
   "outputs": [
    {
     "data": {
      "text/plain": [
       "124890.87415850833"
      ]
     },
     "execution_count": 278,
     "metadata": {},
     "output_type": "execute_result"
    }
   ],
   "source": [
    "from sklearn.metrics import mean_absolute_error\n",
    "\n",
    "lin_mae = mean_absolute_error(housing_labels, housing_predictions)\n",
    "lin_mae"
   ]
  },
  {
   "cell_type": "code",
   "execution_count": 279,
   "id": "46548cd7",
   "metadata": {},
   "outputs": [
    {
     "data": {
      "text/plain": [
       "0.702957648144233"
      ]
     },
     "execution_count": 279,
     "metadata": {},
     "output_type": "execute_result"
    }
   ],
   "source": [
    "from sklearn.metrics import mean_absolute_error\n",
    "\n",
    "lin_mae = mean_absolute_error(housing_labels, housing_predictions)\n",
    "lin_mae\n",
    "\n",
    "lin_reg.score(housing_prepared, housing_labels)"
   ]
  },
  {
   "cell_type": "code",
   "execution_count": 260,
   "id": "6c3ba36d",
   "metadata": {},
   "outputs": [
    {
     "data": {
      "text/html": [
       "<style>#sk-container-id-7 {color: black;}#sk-container-id-7 pre{padding: 0;}#sk-container-id-7 div.sk-toggleable {background-color: white;}#sk-container-id-7 label.sk-toggleable__label {cursor: pointer;display: block;width: 100%;margin-bottom: 0;padding: 0.3em;box-sizing: border-box;text-align: center;}#sk-container-id-7 label.sk-toggleable__label-arrow:before {content: \"▸\";float: left;margin-right: 0.25em;color: #696969;}#sk-container-id-7 label.sk-toggleable__label-arrow:hover:before {color: black;}#sk-container-id-7 div.sk-estimator:hover label.sk-toggleable__label-arrow:before {color: black;}#sk-container-id-7 div.sk-toggleable__content {max-height: 0;max-width: 0;overflow: hidden;text-align: left;background-color: #f0f8ff;}#sk-container-id-7 div.sk-toggleable__content pre {margin: 0.2em;color: black;border-radius: 0.25em;background-color: #f0f8ff;}#sk-container-id-7 input.sk-toggleable__control:checked~div.sk-toggleable__content {max-height: 200px;max-width: 100%;overflow: auto;}#sk-container-id-7 input.sk-toggleable__control:checked~label.sk-toggleable__label-arrow:before {content: \"▾\";}#sk-container-id-7 div.sk-estimator input.sk-toggleable__control:checked~label.sk-toggleable__label {background-color: #d4ebff;}#sk-container-id-7 div.sk-label input.sk-toggleable__control:checked~label.sk-toggleable__label {background-color: #d4ebff;}#sk-container-id-7 input.sk-hidden--visually {border: 0;clip: rect(1px 1px 1px 1px);clip: rect(1px, 1px, 1px, 1px);height: 1px;margin: -1px;overflow: hidden;padding: 0;position: absolute;width: 1px;}#sk-container-id-7 div.sk-estimator {font-family: monospace;background-color: #f0f8ff;border: 1px dotted black;border-radius: 0.25em;box-sizing: border-box;margin-bottom: 0.5em;}#sk-container-id-7 div.sk-estimator:hover {background-color: #d4ebff;}#sk-container-id-7 div.sk-parallel-item::after {content: \"\";width: 100%;border-bottom: 1px solid gray;flex-grow: 1;}#sk-container-id-7 div.sk-label:hover label.sk-toggleable__label {background-color: #d4ebff;}#sk-container-id-7 div.sk-serial::before {content: \"\";position: absolute;border-left: 1px solid gray;box-sizing: border-box;top: 0;bottom: 0;left: 50%;z-index: 0;}#sk-container-id-7 div.sk-serial {display: flex;flex-direction: column;align-items: center;background-color: white;padding-right: 0.2em;padding-left: 0.2em;position: relative;}#sk-container-id-7 div.sk-item {position: relative;z-index: 1;}#sk-container-id-7 div.sk-parallel {display: flex;align-items: stretch;justify-content: center;background-color: white;position: relative;}#sk-container-id-7 div.sk-item::before, #sk-container-id-7 div.sk-parallel-item::before {content: \"\";position: absolute;border-left: 1px solid gray;box-sizing: border-box;top: 0;bottom: 0;left: 50%;z-index: -1;}#sk-container-id-7 div.sk-parallel-item {display: flex;flex-direction: column;z-index: 1;position: relative;background-color: white;}#sk-container-id-7 div.sk-parallel-item:first-child::after {align-self: flex-end;width: 50%;}#sk-container-id-7 div.sk-parallel-item:last-child::after {align-self: flex-start;width: 50%;}#sk-container-id-7 div.sk-parallel-item:only-child::after {width: 0;}#sk-container-id-7 div.sk-dashed-wrapped {border: 1px dashed gray;margin: 0 0.4em 0.5em 0.4em;box-sizing: border-box;padding-bottom: 0.4em;background-color: white;}#sk-container-id-7 div.sk-label label {font-family: monospace;font-weight: bold;display: inline-block;line-height: 1.2em;}#sk-container-id-7 div.sk-label-container {text-align: center;}#sk-container-id-7 div.sk-container {/* jupyter's `normalize.less` sets `[hidden] { display: none; }` but bootstrap.min.css set `[hidden] { display: none !important; }` so we also need the `!important` here to be able to override the default hidden behavior on the sphinx rendered scikit-learn.org. See: https://github.com/scikit-learn/scikit-learn/issues/21755 */display: inline-block !important;position: relative;}#sk-container-id-7 div.sk-text-repr-fallback {display: none;}</style><div id=\"sk-container-id-7\" class=\"sk-top-container\"><div class=\"sk-text-repr-fallback\"><pre>DecisionTreeRegressor(random_state=42)</pre><b>In a Jupyter environment, please rerun this cell to show the HTML representation or trust the notebook. <br />On GitHub, the HTML representation is unable to render, please try loading this page with nbviewer.org.</b></div><div class=\"sk-container\" hidden><div class=\"sk-item\"><div class=\"sk-estimator sk-toggleable\"><input class=\"sk-toggleable__control sk-hidden--visually\" id=\"sk-estimator-id-7\" type=\"checkbox\" checked><label for=\"sk-estimator-id-7\" class=\"sk-toggleable__label sk-toggleable__label-arrow\">DecisionTreeRegressor</label><div class=\"sk-toggleable__content\"><pre>DecisionTreeRegressor(random_state=42)</pre></div></div></div></div></div>"
      ],
      "text/plain": [
       "DecisionTreeRegressor(random_state=42)"
      ]
     },
     "execution_count": 260,
     "metadata": {},
     "output_type": "execute_result"
    }
   ],
   "source": [
    "from sklearn.tree import DecisionTreeRegressor\n",
    "\n",
    "tree_reg = DecisionTreeRegressor(random_state=42)\n",
    "tree_reg.fit(housing_prepared, housing_labels)"
   ]
  },
  {
   "cell_type": "code",
   "execution_count": 261,
   "id": "d463b264",
   "metadata": {},
   "outputs": [
    {
     "data": {
      "text/plain": [
       "0.9998978478995215"
      ]
     },
     "execution_count": 261,
     "metadata": {},
     "output_type": "execute_result"
    }
   ],
   "source": [
    "housing_predictions = tree_reg.predict(housing_prepared)\n",
    "tree_mse = mean_squared_error(housing_labels, housing_predictions)\n",
    "tree_rmse = np.sqrt(tree_mse)\n",
    "tree_rmse\n",
    "\n",
    "tree_reg.score(housing_prepared, housing_labels)"
   ]
  },
  {
   "cell_type": "markdown",
   "id": "62014b5c",
   "metadata": {},
   "source": [
    "# 교차 검증"
   ]
  },
  {
   "cell_type": "code",
   "execution_count": 262,
   "id": "3d25affe",
   "metadata": {},
   "outputs": [],
   "source": [
    "from sklearn.model_selection import cross_val_score\n",
    "\n",
    "scores = cross_val_score(tree_reg, housing_prepared, housing_labels,\n",
    "                         scoring=\"neg_mean_squared_error\", cv=10)\n",
    "tree_rmse_scores = np.sqrt(-scores)"
   ]
  },
  {
   "cell_type": "code",
   "execution_count": 263,
   "id": "eaaf141d",
   "metadata": {},
   "outputs": [
    {
     "name": "stdout",
     "output_type": "stream",
     "text": [
      "점수: [172951.4350798  200098.63676544 198468.36015463 174426.06225244\n",
      " 161118.22278726 215523.23026493 181172.25470477 180049.27460823\n",
      " 186346.12618222 186135.96812837]\n",
      "평균: 185628.95709280914\n",
      "표준 편차: 14854.818838314772\n"
     ]
    }
   ],
   "source": [
    "def display_scores(scores):\n",
    "    print(\"점수:\", scores)\n",
    "    print(\"평균:\", scores.mean())\n",
    "    print(\"표준 편차:\", scores.std())\n",
    "\n",
    "display_scores(tree_rmse_scores)"
   ]
  },
  {
   "cell_type": "code",
   "execution_count": 264,
   "id": "3d6ddcd1",
   "metadata": {},
   "outputs": [
    {
     "name": "stdout",
     "output_type": "stream",
     "text": [
      "점수: [183036.30860727 206433.32513363 225665.31758434 174342.04884161\n",
      " 178610.36886234 202452.79942038 182100.13611993 222667.64729352\n",
      " 198478.99522196 196255.12844969]\n",
      "평균: 197004.2075534668\n",
      "표준 편차: 16942.67742383161\n"
     ]
    }
   ],
   "source": [
    "lin_scores = cross_val_score(lin_reg, housing_prepared, housing_labels,\n",
    "                             scoring=\"neg_mean_squared_error\", cv=10)\n",
    "lin_rmse_scores = np.sqrt(-lin_scores)\n",
    "display_scores(lin_rmse_scores)"
   ]
  },
  {
   "cell_type": "code",
   "execution_count": 265,
   "id": "9c44b860",
   "metadata": {},
   "outputs": [
    {
     "data": {
      "text/html": [
       "<style>#sk-container-id-8 {color: black;}#sk-container-id-8 pre{padding: 0;}#sk-container-id-8 div.sk-toggleable {background-color: white;}#sk-container-id-8 label.sk-toggleable__label {cursor: pointer;display: block;width: 100%;margin-bottom: 0;padding: 0.3em;box-sizing: border-box;text-align: center;}#sk-container-id-8 label.sk-toggleable__label-arrow:before {content: \"▸\";float: left;margin-right: 0.25em;color: #696969;}#sk-container-id-8 label.sk-toggleable__label-arrow:hover:before {color: black;}#sk-container-id-8 div.sk-estimator:hover label.sk-toggleable__label-arrow:before {color: black;}#sk-container-id-8 div.sk-toggleable__content {max-height: 0;max-width: 0;overflow: hidden;text-align: left;background-color: #f0f8ff;}#sk-container-id-8 div.sk-toggleable__content pre {margin: 0.2em;color: black;border-radius: 0.25em;background-color: #f0f8ff;}#sk-container-id-8 input.sk-toggleable__control:checked~div.sk-toggleable__content {max-height: 200px;max-width: 100%;overflow: auto;}#sk-container-id-8 input.sk-toggleable__control:checked~label.sk-toggleable__label-arrow:before {content: \"▾\";}#sk-container-id-8 div.sk-estimator input.sk-toggleable__control:checked~label.sk-toggleable__label {background-color: #d4ebff;}#sk-container-id-8 div.sk-label input.sk-toggleable__control:checked~label.sk-toggleable__label {background-color: #d4ebff;}#sk-container-id-8 input.sk-hidden--visually {border: 0;clip: rect(1px 1px 1px 1px);clip: rect(1px, 1px, 1px, 1px);height: 1px;margin: -1px;overflow: hidden;padding: 0;position: absolute;width: 1px;}#sk-container-id-8 div.sk-estimator {font-family: monospace;background-color: #f0f8ff;border: 1px dotted black;border-radius: 0.25em;box-sizing: border-box;margin-bottom: 0.5em;}#sk-container-id-8 div.sk-estimator:hover {background-color: #d4ebff;}#sk-container-id-8 div.sk-parallel-item::after {content: \"\";width: 100%;border-bottom: 1px solid gray;flex-grow: 1;}#sk-container-id-8 div.sk-label:hover label.sk-toggleable__label {background-color: #d4ebff;}#sk-container-id-8 div.sk-serial::before {content: \"\";position: absolute;border-left: 1px solid gray;box-sizing: border-box;top: 0;bottom: 0;left: 50%;z-index: 0;}#sk-container-id-8 div.sk-serial {display: flex;flex-direction: column;align-items: center;background-color: white;padding-right: 0.2em;padding-left: 0.2em;position: relative;}#sk-container-id-8 div.sk-item {position: relative;z-index: 1;}#sk-container-id-8 div.sk-parallel {display: flex;align-items: stretch;justify-content: center;background-color: white;position: relative;}#sk-container-id-8 div.sk-item::before, #sk-container-id-8 div.sk-parallel-item::before {content: \"\";position: absolute;border-left: 1px solid gray;box-sizing: border-box;top: 0;bottom: 0;left: 50%;z-index: -1;}#sk-container-id-8 div.sk-parallel-item {display: flex;flex-direction: column;z-index: 1;position: relative;background-color: white;}#sk-container-id-8 div.sk-parallel-item:first-child::after {align-self: flex-end;width: 50%;}#sk-container-id-8 div.sk-parallel-item:last-child::after {align-self: flex-start;width: 50%;}#sk-container-id-8 div.sk-parallel-item:only-child::after {width: 0;}#sk-container-id-8 div.sk-dashed-wrapped {border: 1px dashed gray;margin: 0 0.4em 0.5em 0.4em;box-sizing: border-box;padding-bottom: 0.4em;background-color: white;}#sk-container-id-8 div.sk-label label {font-family: monospace;font-weight: bold;display: inline-block;line-height: 1.2em;}#sk-container-id-8 div.sk-label-container {text-align: center;}#sk-container-id-8 div.sk-container {/* jupyter's `normalize.less` sets `[hidden] { display: none; }` but bootstrap.min.css set `[hidden] { display: none !important; }` so we also need the `!important` here to be able to override the default hidden behavior on the sphinx rendered scikit-learn.org. See: https://github.com/scikit-learn/scikit-learn/issues/21755 */display: inline-block !important;position: relative;}#sk-container-id-8 div.sk-text-repr-fallback {display: none;}</style><div id=\"sk-container-id-8\" class=\"sk-top-container\"><div class=\"sk-text-repr-fallback\"><pre>RandomForestRegressor(random_state=42)</pre><b>In a Jupyter environment, please rerun this cell to show the HTML representation or trust the notebook. <br />On GitHub, the HTML representation is unable to render, please try loading this page with nbviewer.org.</b></div><div class=\"sk-container\" hidden><div class=\"sk-item\"><div class=\"sk-estimator sk-toggleable\"><input class=\"sk-toggleable__control sk-hidden--visually\" id=\"sk-estimator-id-8\" type=\"checkbox\" checked><label for=\"sk-estimator-id-8\" class=\"sk-toggleable__label sk-toggleable__label-arrow\">RandomForestRegressor</label><div class=\"sk-toggleable__content\"><pre>RandomForestRegressor(random_state=42)</pre></div></div></div></div></div>"
      ],
      "text/plain": [
       "RandomForestRegressor(random_state=42)"
      ]
     },
     "execution_count": 265,
     "metadata": {},
     "output_type": "execute_result"
    }
   ],
   "source": [
    "from sklearn.ensemble import RandomForestRegressor\n",
    "\n",
    "forest_reg = RandomForestRegressor(n_estimators=100, random_state=42)\n",
    "forest_reg.fit(housing_prepared, housing_labels)"
   ]
  },
  {
   "cell_type": "code",
   "execution_count": 266,
   "id": "69d27949",
   "metadata": {},
   "outputs": [
    {
     "data": {
      "text/plain": [
       "47540.338609416365"
      ]
     },
     "execution_count": 266,
     "metadata": {},
     "output_type": "execute_result"
    }
   ],
   "source": [
    "housing_predictions = forest_reg.predict(housing_prepared)\n",
    "forest_mse = mean_squared_error(housing_labels, housing_predictions)\n",
    "forest_rmse = np.sqrt(forest_mse)\n",
    "forest_rmse"
   ]
  },
  {
   "cell_type": "code",
   "execution_count": 267,
   "id": "4b58dde3",
   "metadata": {},
   "outputs": [
    {
     "name": "stdout",
     "output_type": "stream",
     "text": [
      "점수: [114463.49854987 125277.02693161 133579.79778414 113219.43531714\n",
      " 142770.21495756 133798.0631579  116454.11088091 138430.51459657\n",
      " 129260.79247501 135078.37920971]\n",
      "평균: 128233.18338604113\n",
      "표준 편차: 9926.126994241858\n"
     ]
    }
   ],
   "source": [
    "from sklearn.model_selection import cross_val_score\n",
    "\n",
    "forest_scores = cross_val_score(forest_reg, housing_prepared, housing_labels,\n",
    "                                scoring=\"neg_mean_squared_error\", cv=10)\n",
    "forest_rmse_scores = np.sqrt(-forest_scores)\n",
    "display_scores(forest_rmse_scores)"
   ]
  },
  {
   "cell_type": "code",
   "execution_count": 268,
   "id": "37899246",
   "metadata": {},
   "outputs": [
    {
     "data": {
      "text/plain": [
       "count        10.000000\n",
       "mean     197004.207553\n",
       "std       17859.150107\n",
       "min      174342.048842\n",
       "25%      182334.179242\n",
       "50%      197367.061836\n",
       "75%      205438.193705\n",
       "max      225665.317584\n",
       "dtype: float64"
      ]
     },
     "execution_count": 268,
     "metadata": {},
     "output_type": "execute_result"
    }
   ],
   "source": [
    "scores = cross_val_score(lin_reg, housing_prepared, housing_labels, scoring=\"neg_mean_squared_error\", cv=10)\n",
    "pd.Series(np.sqrt(-scores)).describe()"
   ]
  },
  {
   "cell_type": "code",
   "execution_count": 269,
   "id": "73e74277",
   "metadata": {},
   "outputs": [
    {
     "data": {
      "text/plain": [
       "338118.5022558331"
      ]
     },
     "execution_count": 269,
     "metadata": {},
     "output_type": "execute_result"
    }
   ],
   "source": [
    "from sklearn.svm import SVR\n",
    "\n",
    "svm_reg = SVR(kernel=\"linear\")\n",
    "svm_reg.fit(housing_prepared, housing_labels)\n",
    "housing_predictions = svm_reg.predict(housing_prepared)\n",
    "svm_mse = mean_squared_error(housing_labels, housing_predictions)\n",
    "svm_rmse = np.sqrt(svm_mse)\n",
    "svm_rmse"
   ]
  },
  {
   "cell_type": "markdown",
   "id": "4c9ee065",
   "metadata": {},
   "source": [
    "# 세부 튜닝(그리드 탐색)"
   ]
  },
  {
   "cell_type": "code",
   "execution_count": 270,
   "id": "1054749f",
   "metadata": {},
   "outputs": [
    {
     "data": {
      "text/html": [
       "<style>#sk-container-id-9 {color: black;}#sk-container-id-9 pre{padding: 0;}#sk-container-id-9 div.sk-toggleable {background-color: white;}#sk-container-id-9 label.sk-toggleable__label {cursor: pointer;display: block;width: 100%;margin-bottom: 0;padding: 0.3em;box-sizing: border-box;text-align: center;}#sk-container-id-9 label.sk-toggleable__label-arrow:before {content: \"▸\";float: left;margin-right: 0.25em;color: #696969;}#sk-container-id-9 label.sk-toggleable__label-arrow:hover:before {color: black;}#sk-container-id-9 div.sk-estimator:hover label.sk-toggleable__label-arrow:before {color: black;}#sk-container-id-9 div.sk-toggleable__content {max-height: 0;max-width: 0;overflow: hidden;text-align: left;background-color: #f0f8ff;}#sk-container-id-9 div.sk-toggleable__content pre {margin: 0.2em;color: black;border-radius: 0.25em;background-color: #f0f8ff;}#sk-container-id-9 input.sk-toggleable__control:checked~div.sk-toggleable__content {max-height: 200px;max-width: 100%;overflow: auto;}#sk-container-id-9 input.sk-toggleable__control:checked~label.sk-toggleable__label-arrow:before {content: \"▾\";}#sk-container-id-9 div.sk-estimator input.sk-toggleable__control:checked~label.sk-toggleable__label {background-color: #d4ebff;}#sk-container-id-9 div.sk-label input.sk-toggleable__control:checked~label.sk-toggleable__label {background-color: #d4ebff;}#sk-container-id-9 input.sk-hidden--visually {border: 0;clip: rect(1px 1px 1px 1px);clip: rect(1px, 1px, 1px, 1px);height: 1px;margin: -1px;overflow: hidden;padding: 0;position: absolute;width: 1px;}#sk-container-id-9 div.sk-estimator {font-family: monospace;background-color: #f0f8ff;border: 1px dotted black;border-radius: 0.25em;box-sizing: border-box;margin-bottom: 0.5em;}#sk-container-id-9 div.sk-estimator:hover {background-color: #d4ebff;}#sk-container-id-9 div.sk-parallel-item::after {content: \"\";width: 100%;border-bottom: 1px solid gray;flex-grow: 1;}#sk-container-id-9 div.sk-label:hover label.sk-toggleable__label {background-color: #d4ebff;}#sk-container-id-9 div.sk-serial::before {content: \"\";position: absolute;border-left: 1px solid gray;box-sizing: border-box;top: 0;bottom: 0;left: 50%;z-index: 0;}#sk-container-id-9 div.sk-serial {display: flex;flex-direction: column;align-items: center;background-color: white;padding-right: 0.2em;padding-left: 0.2em;position: relative;}#sk-container-id-9 div.sk-item {position: relative;z-index: 1;}#sk-container-id-9 div.sk-parallel {display: flex;align-items: stretch;justify-content: center;background-color: white;position: relative;}#sk-container-id-9 div.sk-item::before, #sk-container-id-9 div.sk-parallel-item::before {content: \"\";position: absolute;border-left: 1px solid gray;box-sizing: border-box;top: 0;bottom: 0;left: 50%;z-index: -1;}#sk-container-id-9 div.sk-parallel-item {display: flex;flex-direction: column;z-index: 1;position: relative;background-color: white;}#sk-container-id-9 div.sk-parallel-item:first-child::after {align-self: flex-end;width: 50%;}#sk-container-id-9 div.sk-parallel-item:last-child::after {align-self: flex-start;width: 50%;}#sk-container-id-9 div.sk-parallel-item:only-child::after {width: 0;}#sk-container-id-9 div.sk-dashed-wrapped {border: 1px dashed gray;margin: 0 0.4em 0.5em 0.4em;box-sizing: border-box;padding-bottom: 0.4em;background-color: white;}#sk-container-id-9 div.sk-label label {font-family: monospace;font-weight: bold;display: inline-block;line-height: 1.2em;}#sk-container-id-9 div.sk-label-container {text-align: center;}#sk-container-id-9 div.sk-container {/* jupyter's `normalize.less` sets `[hidden] { display: none; }` but bootstrap.min.css set `[hidden] { display: none !important; }` so we also need the `!important` here to be able to override the default hidden behavior on the sphinx rendered scikit-learn.org. See: https://github.com/scikit-learn/scikit-learn/issues/21755 */display: inline-block !important;position: relative;}#sk-container-id-9 div.sk-text-repr-fallback {display: none;}</style><div id=\"sk-container-id-9\" class=\"sk-top-container\"><div class=\"sk-text-repr-fallback\"><pre>GridSearchCV(cv=5, estimator=RandomForestRegressor(random_state=42),\n",
       "             param_grid=[{&#x27;max_features&#x27;: [2, 4, 6, 8],\n",
       "                          &#x27;n_estimators&#x27;: [3, 10, 30]},\n",
       "                         {&#x27;bootstrap&#x27;: [False], &#x27;max_features&#x27;: [2, 3, 4],\n",
       "                          &#x27;n_estimators&#x27;: [3, 10]}],\n",
       "             return_train_score=True, scoring=&#x27;neg_mean_squared_error&#x27;)</pre><b>In a Jupyter environment, please rerun this cell to show the HTML representation or trust the notebook. <br />On GitHub, the HTML representation is unable to render, please try loading this page with nbviewer.org.</b></div><div class=\"sk-container\" hidden><div class=\"sk-item sk-dashed-wrapped\"><div class=\"sk-label-container\"><div class=\"sk-label sk-toggleable\"><input class=\"sk-toggleable__control sk-hidden--visually\" id=\"sk-estimator-id-9\" type=\"checkbox\" ><label for=\"sk-estimator-id-9\" class=\"sk-toggleable__label sk-toggleable__label-arrow\">GridSearchCV</label><div class=\"sk-toggleable__content\"><pre>GridSearchCV(cv=5, estimator=RandomForestRegressor(random_state=42),\n",
       "             param_grid=[{&#x27;max_features&#x27;: [2, 4, 6, 8],\n",
       "                          &#x27;n_estimators&#x27;: [3, 10, 30]},\n",
       "                         {&#x27;bootstrap&#x27;: [False], &#x27;max_features&#x27;: [2, 3, 4],\n",
       "                          &#x27;n_estimators&#x27;: [3, 10]}],\n",
       "             return_train_score=True, scoring=&#x27;neg_mean_squared_error&#x27;)</pre></div></div></div><div class=\"sk-parallel\"><div class=\"sk-parallel-item\"><div class=\"sk-item\"><div class=\"sk-label-container\"><div class=\"sk-label sk-toggleable\"><input class=\"sk-toggleable__control sk-hidden--visually\" id=\"sk-estimator-id-10\" type=\"checkbox\" ><label for=\"sk-estimator-id-10\" class=\"sk-toggleable__label sk-toggleable__label-arrow\">estimator: RandomForestRegressor</label><div class=\"sk-toggleable__content\"><pre>RandomForestRegressor(random_state=42)</pre></div></div></div><div class=\"sk-serial\"><div class=\"sk-item\"><div class=\"sk-estimator sk-toggleable\"><input class=\"sk-toggleable__control sk-hidden--visually\" id=\"sk-estimator-id-11\" type=\"checkbox\" ><label for=\"sk-estimator-id-11\" class=\"sk-toggleable__label sk-toggleable__label-arrow\">RandomForestRegressor</label><div class=\"sk-toggleable__content\"><pre>RandomForestRegressor(random_state=42)</pre></div></div></div></div></div></div></div></div></div></div>"
      ],
      "text/plain": [
       "GridSearchCV(cv=5, estimator=RandomForestRegressor(random_state=42),\n",
       "             param_grid=[{'max_features': [2, 4, 6, 8],\n",
       "                          'n_estimators': [3, 10, 30]},\n",
       "                         {'bootstrap': [False], 'max_features': [2, 3, 4],\n",
       "                          'n_estimators': [3, 10]}],\n",
       "             return_train_score=True, scoring='neg_mean_squared_error')"
      ]
     },
     "execution_count": 270,
     "metadata": {},
     "output_type": "execute_result"
    }
   ],
   "source": [
    "from sklearn.model_selection import GridSearchCV\n",
    "\n",
    "param_grid = [\n",
    "    {'n_estimators': [3, 10, 30], 'max_features': [2, 4, 6, 8]},\n",
    "    {'bootstrap': [False], 'n_estimators': [3, 10], 'max_features': [2, 3, 4]},\n",
    "  ]\n",
    "\n",
    "forest_reg = RandomForestRegressor(random_state=42)\n",
    "grid_search = GridSearchCV(forest_reg, param_grid, cv=5,\n",
    "                           scoring='neg_mean_squared_error',\n",
    "                           return_train_score=True)\n",
    "grid_search.fit(housing_prepared, housing_labels)"
   ]
  },
  {
   "cell_type": "code",
   "execution_count": 255,
   "id": "3c09165d",
   "metadata": {},
   "outputs": [
    {
     "data": {
      "text/plain": [
       "{'max_features': 8, 'n_estimators': 30}"
      ]
     },
     "execution_count": 255,
     "metadata": {},
     "output_type": "execute_result"
    }
   ],
   "source": [
    "grid_search.best_params_"
   ]
  },
  {
   "cell_type": "code",
   "execution_count": 256,
   "id": "9b3d0808",
   "metadata": {},
   "outputs": [
    {
     "data": {
      "text/html": [
       "<style>#sk-container-id-17 {color: black;}#sk-container-id-17 pre{padding: 0;}#sk-container-id-17 div.sk-toggleable {background-color: white;}#sk-container-id-17 label.sk-toggleable__label {cursor: pointer;display: block;width: 100%;margin-bottom: 0;padding: 0.3em;box-sizing: border-box;text-align: center;}#sk-container-id-17 label.sk-toggleable__label-arrow:before {content: \"▸\";float: left;margin-right: 0.25em;color: #696969;}#sk-container-id-17 label.sk-toggleable__label-arrow:hover:before {color: black;}#sk-container-id-17 div.sk-estimator:hover label.sk-toggleable__label-arrow:before {color: black;}#sk-container-id-17 div.sk-toggleable__content {max-height: 0;max-width: 0;overflow: hidden;text-align: left;background-color: #f0f8ff;}#sk-container-id-17 div.sk-toggleable__content pre {margin: 0.2em;color: black;border-radius: 0.25em;background-color: #f0f8ff;}#sk-container-id-17 input.sk-toggleable__control:checked~div.sk-toggleable__content {max-height: 200px;max-width: 100%;overflow: auto;}#sk-container-id-17 input.sk-toggleable__control:checked~label.sk-toggleable__label-arrow:before {content: \"▾\";}#sk-container-id-17 div.sk-estimator input.sk-toggleable__control:checked~label.sk-toggleable__label {background-color: #d4ebff;}#sk-container-id-17 div.sk-label input.sk-toggleable__control:checked~label.sk-toggleable__label {background-color: #d4ebff;}#sk-container-id-17 input.sk-hidden--visually {border: 0;clip: rect(1px 1px 1px 1px);clip: rect(1px, 1px, 1px, 1px);height: 1px;margin: -1px;overflow: hidden;padding: 0;position: absolute;width: 1px;}#sk-container-id-17 div.sk-estimator {font-family: monospace;background-color: #f0f8ff;border: 1px dotted black;border-radius: 0.25em;box-sizing: border-box;margin-bottom: 0.5em;}#sk-container-id-17 div.sk-estimator:hover {background-color: #d4ebff;}#sk-container-id-17 div.sk-parallel-item::after {content: \"\";width: 100%;border-bottom: 1px solid gray;flex-grow: 1;}#sk-container-id-17 div.sk-label:hover label.sk-toggleable__label {background-color: #d4ebff;}#sk-container-id-17 div.sk-serial::before {content: \"\";position: absolute;border-left: 1px solid gray;box-sizing: border-box;top: 0;bottom: 0;left: 50%;z-index: 0;}#sk-container-id-17 div.sk-serial {display: flex;flex-direction: column;align-items: center;background-color: white;padding-right: 0.2em;padding-left: 0.2em;position: relative;}#sk-container-id-17 div.sk-item {position: relative;z-index: 1;}#sk-container-id-17 div.sk-parallel {display: flex;align-items: stretch;justify-content: center;background-color: white;position: relative;}#sk-container-id-17 div.sk-item::before, #sk-container-id-17 div.sk-parallel-item::before {content: \"\";position: absolute;border-left: 1px solid gray;box-sizing: border-box;top: 0;bottom: 0;left: 50%;z-index: -1;}#sk-container-id-17 div.sk-parallel-item {display: flex;flex-direction: column;z-index: 1;position: relative;background-color: white;}#sk-container-id-17 div.sk-parallel-item:first-child::after {align-self: flex-end;width: 50%;}#sk-container-id-17 div.sk-parallel-item:last-child::after {align-self: flex-start;width: 50%;}#sk-container-id-17 div.sk-parallel-item:only-child::after {width: 0;}#sk-container-id-17 div.sk-dashed-wrapped {border: 1px dashed gray;margin: 0 0.4em 0.5em 0.4em;box-sizing: border-box;padding-bottom: 0.4em;background-color: white;}#sk-container-id-17 div.sk-label label {font-family: monospace;font-weight: bold;display: inline-block;line-height: 1.2em;}#sk-container-id-17 div.sk-label-container {text-align: center;}#sk-container-id-17 div.sk-container {/* jupyter's `normalize.less` sets `[hidden] { display: none; }` but bootstrap.min.css set `[hidden] { display: none !important; }` so we also need the `!important` here to be able to override the default hidden behavior on the sphinx rendered scikit-learn.org. See: https://github.com/scikit-learn/scikit-learn/issues/21755 */display: inline-block !important;position: relative;}#sk-container-id-17 div.sk-text-repr-fallback {display: none;}</style><div id=\"sk-container-id-17\" class=\"sk-top-container\"><div class=\"sk-text-repr-fallback\"><pre>RandomForestRegressor(max_features=8, n_estimators=30, random_state=42)</pre><b>In a Jupyter environment, please rerun this cell to show the HTML representation or trust the notebook. <br />On GitHub, the HTML representation is unable to render, please try loading this page with nbviewer.org.</b></div><div class=\"sk-container\" hidden><div class=\"sk-item\"><div class=\"sk-estimator sk-toggleable\"><input class=\"sk-toggleable__control sk-hidden--visually\" id=\"sk-estimator-id-23\" type=\"checkbox\" checked><label for=\"sk-estimator-id-23\" class=\"sk-toggleable__label sk-toggleable__label-arrow\">RandomForestRegressor</label><div class=\"sk-toggleable__content\"><pre>RandomForestRegressor(max_features=8, n_estimators=30, random_state=42)</pre></div></div></div></div></div>"
      ],
      "text/plain": [
       "RandomForestRegressor(max_features=8, n_estimators=30, random_state=42)"
      ]
     },
     "execution_count": 256,
     "metadata": {},
     "output_type": "execute_result"
    }
   ],
   "source": [
    "grid_search.best_estimator_"
   ]
  },
  {
   "cell_type": "code",
   "execution_count": 257,
   "id": "f43982fc",
   "metadata": {},
   "outputs": [
    {
     "name": "stdout",
     "output_type": "stream",
     "text": [
      "191869.30987836537 {'max_features': 2, 'n_estimators': 3}\n",
      "158520.85040958205 {'max_features': 2, 'n_estimators': 10}\n",
      "150703.37838298763 {'max_features': 2, 'n_estimators': 30}\n",
      "170007.5766688675 {'max_features': 4, 'n_estimators': 3}\n",
      "147205.75654491407 {'max_features': 4, 'n_estimators': 10}\n",
      "139787.69538141083 {'max_features': 4, 'n_estimators': 30}\n",
      "165847.9203830717 {'max_features': 6, 'n_estimators': 3}\n",
      "142235.34908620935 {'max_features': 6, 'n_estimators': 10}\n",
      "136103.92453765677 {'max_features': 6, 'n_estimators': 30}\n",
      "163894.81869340595 {'max_features': 8, 'n_estimators': 3}\n",
      "139096.8678715695 {'max_features': 8, 'n_estimators': 10}\n",
      "132510.87292018408 {'max_features': 8, 'n_estimators': 30}\n",
      "178588.8879726465 {'bootstrap': False, 'max_features': 2, 'n_estimators': 3}\n",
      "151197.13242860368 {'bootstrap': False, 'max_features': 2, 'n_estimators': 10}\n",
      "172202.40857700442 {'bootstrap': False, 'max_features': 3, 'n_estimators': 3}\n",
      "146554.38582948715 {'bootstrap': False, 'max_features': 3, 'n_estimators': 10}\n",
      "162229.24340574307 {'bootstrap': False, 'max_features': 4, 'n_estimators': 3}\n",
      "141060.65464689845 {'bootstrap': False, 'max_features': 4, 'n_estimators': 10}\n"
     ]
    }
   ],
   "source": [
    "cvres = grid_search.cv_results_\n",
    "for mean_score, params in zip(cvres[\"mean_test_score\"], cvres[\"params\"]):\n",
    "    print(np.sqrt(-mean_score), params)"
   ]
  },
  {
   "cell_type": "code",
   "execution_count": 258,
   "id": "924c6a3b",
   "metadata": {},
   "outputs": [
    {
     "data": {
      "text/html": [
       "<div>\n",
       "<style scoped>\n",
       "    .dataframe tbody tr th:only-of-type {\n",
       "        vertical-align: middle;\n",
       "    }\n",
       "\n",
       "    .dataframe tbody tr th {\n",
       "        vertical-align: top;\n",
       "    }\n",
       "\n",
       "    .dataframe thead th {\n",
       "        text-align: right;\n",
       "    }\n",
       "</style>\n",
       "<table border=\"1\" class=\"dataframe\">\n",
       "  <thead>\n",
       "    <tr style=\"text-align: right;\">\n",
       "      <th></th>\n",
       "      <th>mean_fit_time</th>\n",
       "      <th>std_fit_time</th>\n",
       "      <th>mean_score_time</th>\n",
       "      <th>std_score_time</th>\n",
       "      <th>param_max_features</th>\n",
       "      <th>param_n_estimators</th>\n",
       "      <th>param_bootstrap</th>\n",
       "      <th>params</th>\n",
       "      <th>split0_test_score</th>\n",
       "      <th>split1_test_score</th>\n",
       "      <th>...</th>\n",
       "      <th>mean_test_score</th>\n",
       "      <th>std_test_score</th>\n",
       "      <th>rank_test_score</th>\n",
       "      <th>split0_train_score</th>\n",
       "      <th>split1_train_score</th>\n",
       "      <th>split2_train_score</th>\n",
       "      <th>split3_train_score</th>\n",
       "      <th>split4_train_score</th>\n",
       "      <th>mean_train_score</th>\n",
       "      <th>std_train_score</th>\n",
       "    </tr>\n",
       "  </thead>\n",
       "  <tbody>\n",
       "    <tr>\n",
       "      <th>0</th>\n",
       "      <td>0.099070</td>\n",
       "      <td>0.002489</td>\n",
       "      <td>0.002193</td>\n",
       "      <td>3.986359e-04</td>\n",
       "      <td>2</td>\n",
       "      <td>3</td>\n",
       "      <td>NaN</td>\n",
       "      <td>{'max_features': 2, 'n_estimators': 3}</td>\n",
       "      <td>-4.129680e+10</td>\n",
       "      <td>-3.618547e+10</td>\n",
       "      <td>...</td>\n",
       "      <td>-3.681383e+10</td>\n",
       "      <td>2.425843e+09</td>\n",
       "      <td>18</td>\n",
       "      <td>-1.160399e+10</td>\n",
       "      <td>-1.103113e+10</td>\n",
       "      <td>-1.075310e+10</td>\n",
       "      <td>-1.038427e+10</td>\n",
       "      <td>-1.082751e+10</td>\n",
       "      <td>-1.092000e+10</td>\n",
       "      <td>4.008992e+08</td>\n",
       "    </tr>\n",
       "    <tr>\n",
       "      <th>1</th>\n",
       "      <td>0.317738</td>\n",
       "      <td>0.001827</td>\n",
       "      <td>0.005583</td>\n",
       "      <td>4.865401e-04</td>\n",
       "      <td>2</td>\n",
       "      <td>10</td>\n",
       "      <td>NaN</td>\n",
       "      <td>{'max_features': 2, 'n_estimators': 10}</td>\n",
       "      <td>-2.486624e+10</td>\n",
       "      <td>-2.441394e+10</td>\n",
       "      <td>...</td>\n",
       "      <td>-2.512886e+10</td>\n",
       "      <td>1.613853e+09</td>\n",
       "      <td>11</td>\n",
       "      <td>-4.856731e+09</td>\n",
       "      <td>-4.706463e+09</td>\n",
       "      <td>-4.961087e+09</td>\n",
       "      <td>-4.988734e+09</td>\n",
       "      <td>-4.490425e+09</td>\n",
       "      <td>-4.800688e+09</td>\n",
       "      <td>1.840495e+08</td>\n",
       "    </tr>\n",
       "    <tr>\n",
       "      <th>2</th>\n",
       "      <td>0.955945</td>\n",
       "      <td>0.013827</td>\n",
       "      <td>0.016545</td>\n",
       "      <td>4.880715e-04</td>\n",
       "      <td>2</td>\n",
       "      <td>30</td>\n",
       "      <td>NaN</td>\n",
       "      <td>{'max_features': 2, 'n_estimators': 30}</td>\n",
       "      <td>-2.046114e+10</td>\n",
       "      <td>-2.225444e+10</td>\n",
       "      <td>...</td>\n",
       "      <td>-2.271151e+10</td>\n",
       "      <td>1.571788e+09</td>\n",
       "      <td>9</td>\n",
       "      <td>-3.516522e+09</td>\n",
       "      <td>-3.510021e+09</td>\n",
       "      <td>-3.613242e+09</td>\n",
       "      <td>-3.610209e+09</td>\n",
       "      <td>-3.588351e+09</td>\n",
       "      <td>-3.567669e+09</td>\n",
       "      <td>4.528488e+07</td>\n",
       "    </tr>\n",
       "    <tr>\n",
       "      <th>3</th>\n",
       "      <td>0.158843</td>\n",
       "      <td>0.003590</td>\n",
       "      <td>0.002392</td>\n",
       "      <td>4.882078e-04</td>\n",
       "      <td>4</td>\n",
       "      <td>3</td>\n",
       "      <td>NaN</td>\n",
       "      <td>{'max_features': 4, 'n_estimators': 3}</td>\n",
       "      <td>-2.748437e+10</td>\n",
       "      <td>-3.067517e+10</td>\n",
       "      <td>...</td>\n",
       "      <td>-2.890258e+10</td>\n",
       "      <td>1.221484e+09</td>\n",
       "      <td>15</td>\n",
       "      <td>-9.126517e+09</td>\n",
       "      <td>-8.262819e+09</td>\n",
       "      <td>-7.960260e+09</td>\n",
       "      <td>-8.189433e+09</td>\n",
       "      <td>-7.905210e+09</td>\n",
       "      <td>-8.288848e+09</td>\n",
       "      <td>4.398632e+08</td>\n",
       "    </tr>\n",
       "    <tr>\n",
       "      <th>4</th>\n",
       "      <td>0.531890</td>\n",
       "      <td>0.005686</td>\n",
       "      <td>0.006578</td>\n",
       "      <td>7.967122e-04</td>\n",
       "      <td>4</td>\n",
       "      <td>10</td>\n",
       "      <td>NaN</td>\n",
       "      <td>{'max_features': 4, 'n_estimators': 10}</td>\n",
       "      <td>-1.940670e+10</td>\n",
       "      <td>-2.150848e+10</td>\n",
       "      <td>...</td>\n",
       "      <td>-2.166953e+10</td>\n",
       "      <td>1.192410e+09</td>\n",
       "      <td>8</td>\n",
       "      <td>-4.200509e+09</td>\n",
       "      <td>-4.047870e+09</td>\n",
       "      <td>-3.703958e+09</td>\n",
       "      <td>-3.951518e+09</td>\n",
       "      <td>-4.000792e+09</td>\n",
       "      <td>-3.980929e+09</td>\n",
       "      <td>1.616597e+08</td>\n",
       "    </tr>\n",
       "    <tr>\n",
       "      <th>5</th>\n",
       "      <td>1.588378</td>\n",
       "      <td>0.005912</td>\n",
       "      <td>0.016744</td>\n",
       "      <td>3.987074e-04</td>\n",
       "      <td>4</td>\n",
       "      <td>30</td>\n",
       "      <td>NaN</td>\n",
       "      <td>{'max_features': 4, 'n_estimators': 30}</td>\n",
       "      <td>-1.698618e+10</td>\n",
       "      <td>-1.875626e+10</td>\n",
       "      <td>...</td>\n",
       "      <td>-1.954060e+10</td>\n",
       "      <td>1.477142e+09</td>\n",
       "      <td>4</td>\n",
       "      <td>-3.075188e+09</td>\n",
       "      <td>-2.942295e+09</td>\n",
       "      <td>-2.836317e+09</td>\n",
       "      <td>-2.887004e+09</td>\n",
       "      <td>-2.958945e+09</td>\n",
       "      <td>-2.939950e+09</td>\n",
       "      <td>8.024810e+07</td>\n",
       "    </tr>\n",
       "    <tr>\n",
       "      <th>6</th>\n",
       "      <td>0.225315</td>\n",
       "      <td>0.001956</td>\n",
       "      <td>0.002193</td>\n",
       "      <td>3.986359e-04</td>\n",
       "      <td>6</td>\n",
       "      <td>3</td>\n",
       "      <td>NaN</td>\n",
       "      <td>{'max_features': 6, 'n_estimators': 3}</td>\n",
       "      <td>-2.420832e+10</td>\n",
       "      <td>-2.702661e+10</td>\n",
       "      <td>...</td>\n",
       "      <td>-2.750553e+10</td>\n",
       "      <td>2.085836e+09</td>\n",
       "      <td>14</td>\n",
       "      <td>-7.355618e+09</td>\n",
       "      <td>-7.691741e+09</td>\n",
       "      <td>-7.663844e+09</td>\n",
       "      <td>-7.156205e+09</td>\n",
       "      <td>-7.955621e+09</td>\n",
       "      <td>-7.564606e+09</td>\n",
       "      <td>2.790598e+08</td>\n",
       "    </tr>\n",
       "    <tr>\n",
       "      <th>7</th>\n",
       "      <td>0.747964</td>\n",
       "      <td>0.002117</td>\n",
       "      <td>0.006379</td>\n",
       "      <td>4.881494e-04</td>\n",
       "      <td>6</td>\n",
       "      <td>10</td>\n",
       "      <td>NaN</td>\n",
       "      <td>{'max_features': 6, 'n_estimators': 10}</td>\n",
       "      <td>-1.925113e+10</td>\n",
       "      <td>-1.998067e+10</td>\n",
       "      <td>...</td>\n",
       "      <td>-2.023089e+10</td>\n",
       "      <td>7.210208e+08</td>\n",
       "      <td>6</td>\n",
       "      <td>-3.813429e+09</td>\n",
       "      <td>-3.831778e+09</td>\n",
       "      <td>-3.466071e+09</td>\n",
       "      <td>-3.576543e+09</td>\n",
       "      <td>-3.835333e+09</td>\n",
       "      <td>-3.704631e+09</td>\n",
       "      <td>1.538855e+08</td>\n",
       "    </tr>\n",
       "    <tr>\n",
       "      <th>8</th>\n",
       "      <td>2.221119</td>\n",
       "      <td>0.004118</td>\n",
       "      <td>0.016654</td>\n",
       "      <td>3.943158e-04</td>\n",
       "      <td>6</td>\n",
       "      <td>30</td>\n",
       "      <td>NaN</td>\n",
       "      <td>{'max_features': 6, 'n_estimators': 30}</td>\n",
       "      <td>-1.643116e+10</td>\n",
       "      <td>-1.748891e+10</td>\n",
       "      <td>...</td>\n",
       "      <td>-1.852428e+10</td>\n",
       "      <td>1.323197e+09</td>\n",
       "      <td>2</td>\n",
       "      <td>-2.760215e+09</td>\n",
       "      <td>-2.660172e+09</td>\n",
       "      <td>-2.626215e+09</td>\n",
       "      <td>-2.766309e+09</td>\n",
       "      <td>-2.812967e+09</td>\n",
       "      <td>-2.725176e+09</td>\n",
       "      <td>7.020788e+07</td>\n",
       "    </tr>\n",
       "    <tr>\n",
       "      <th>9</th>\n",
       "      <td>0.286483</td>\n",
       "      <td>0.001131</td>\n",
       "      <td>0.002337</td>\n",
       "      <td>4.300954e-04</td>\n",
       "      <td>8</td>\n",
       "      <td>3</td>\n",
       "      <td>NaN</td>\n",
       "      <td>{'max_features': 8, 'n_estimators': 3}</td>\n",
       "      <td>-2.901974e+10</td>\n",
       "      <td>-2.547263e+10</td>\n",
       "      <td>...</td>\n",
       "      <td>-2.686151e+10</td>\n",
       "      <td>1.535521e+09</td>\n",
       "      <td>13</td>\n",
       "      <td>-7.294926e+09</td>\n",
       "      <td>-6.523333e+09</td>\n",
       "      <td>-7.104958e+09</td>\n",
       "      <td>-7.103289e+09</td>\n",
       "      <td>-8.357273e+09</td>\n",
       "      <td>-7.276756e+09</td>\n",
       "      <td>5.991825e+08</td>\n",
       "    </tr>\n",
       "    <tr>\n",
       "      <th>10</th>\n",
       "      <td>0.946773</td>\n",
       "      <td>0.004932</td>\n",
       "      <td>0.005980</td>\n",
       "      <td>2.780415e-07</td>\n",
       "      <td>8</td>\n",
       "      <td>10</td>\n",
       "      <td>NaN</td>\n",
       "      <td>{'max_features': 8, 'n_estimators': 10}</td>\n",
       "      <td>-1.888627e+10</td>\n",
       "      <td>-1.827857e+10</td>\n",
       "      <td>...</td>\n",
       "      <td>-1.934794e+10</td>\n",
       "      <td>1.285093e+09</td>\n",
       "      <td>3</td>\n",
       "      <td>-3.558750e+09</td>\n",
       "      <td>-3.462839e+09</td>\n",
       "      <td>-3.374390e+09</td>\n",
       "      <td>-3.371916e+09</td>\n",
       "      <td>-3.758842e+09</td>\n",
       "      <td>-3.505347e+09</td>\n",
       "      <td>1.441336e+08</td>\n",
       "    </tr>\n",
       "    <tr>\n",
       "      <th>11</th>\n",
       "      <td>2.827414</td>\n",
       "      <td>0.005918</td>\n",
       "      <td>0.016726</td>\n",
       "      <td>3.911795e-04</td>\n",
       "      <td>8</td>\n",
       "      <td>30</td>\n",
       "      <td>NaN</td>\n",
       "      <td>{'max_features': 8, 'n_estimators': 30}</td>\n",
       "      <td>-1.586303e+10</td>\n",
       "      <td>-1.577327e+10</td>\n",
       "      <td>...</td>\n",
       "      <td>-1.755913e+10</td>\n",
       "      <td>1.630338e+09</td>\n",
       "      <td>1</td>\n",
       "      <td>-2.666930e+09</td>\n",
       "      <td>-2.633998e+09</td>\n",
       "      <td>-2.592733e+09</td>\n",
       "      <td>-2.599005e+09</td>\n",
       "      <td>-2.764688e+09</td>\n",
       "      <td>-2.651471e+09</td>\n",
       "      <td>6.255407e+07</td>\n",
       "    </tr>\n",
       "    <tr>\n",
       "      <th>12</th>\n",
       "      <td>0.128100</td>\n",
       "      <td>0.001187</td>\n",
       "      <td>0.002791</td>\n",
       "      <td>3.987075e-04</td>\n",
       "      <td>2</td>\n",
       "      <td>3</td>\n",
       "      <td>False</td>\n",
       "      <td>{'bootstrap': False, 'max_features': 2, 'n_est...</td>\n",
       "      <td>-3.324169e+10</td>\n",
       "      <td>-3.216208e+10</td>\n",
       "      <td>...</td>\n",
       "      <td>-3.189399e+10</td>\n",
       "      <td>2.261074e+09</td>\n",
       "      <td>17</td>\n",
       "      <td>-1.319040e+07</td>\n",
       "      <td>-2.399947e+07</td>\n",
       "      <td>-7.801865e+06</td>\n",
       "      <td>-1.202375e+07</td>\n",
       "      <td>-8.712097e+06</td>\n",
       "      <td>-1.314552e+07</td>\n",
       "      <td>5.784088e+06</td>\n",
       "    </tr>\n",
       "    <tr>\n",
       "      <th>13</th>\n",
       "      <td>0.416605</td>\n",
       "      <td>0.002322</td>\n",
       "      <td>0.007312</td>\n",
       "      <td>4.229722e-04</td>\n",
       "      <td>2</td>\n",
       "      <td>10</td>\n",
       "      <td>False</td>\n",
       "      <td>{'bootstrap': False, 'max_features': 2, 'n_est...</td>\n",
       "      <td>-2.151627e+10</td>\n",
       "      <td>-2.143228e+10</td>\n",
       "      <td>...</td>\n",
       "      <td>-2.286057e+10</td>\n",
       "      <td>1.269344e+09</td>\n",
       "      <td>10</td>\n",
       "      <td>-1.310369e+07</td>\n",
       "      <td>-1.214598e+07</td>\n",
       "      <td>-7.612339e+06</td>\n",
       "      <td>-1.199720e+07</td>\n",
       "      <td>-8.604455e+06</td>\n",
       "      <td>-1.069273e+07</td>\n",
       "      <td>2.166842e+06</td>\n",
       "    </tr>\n",
       "    <tr>\n",
       "      <th>14</th>\n",
       "      <td>0.164958</td>\n",
       "      <td>0.001036</td>\n",
       "      <td>0.002392</td>\n",
       "      <td>4.883246e-04</td>\n",
       "      <td>3</td>\n",
       "      <td>3</td>\n",
       "      <td>False</td>\n",
       "      <td>{'bootstrap': False, 'max_features': 3, 'n_est...</td>\n",
       "      <td>-3.090998e+10</td>\n",
       "      <td>-2.859887e+10</td>\n",
       "      <td>...</td>\n",
       "      <td>-2.965367e+10</td>\n",
       "      <td>8.278186e+08</td>\n",
       "      <td>16</td>\n",
       "      <td>-1.337414e+07</td>\n",
       "      <td>-1.101183e+07</td>\n",
       "      <td>-7.931740e+06</td>\n",
       "      <td>-1.199498e+07</td>\n",
       "      <td>-8.604920e+06</td>\n",
       "      <td>-1.058352e+07</td>\n",
       "      <td>2.044993e+06</td>\n",
       "    </tr>\n",
       "    <tr>\n",
       "      <th>15</th>\n",
       "      <td>0.546452</td>\n",
       "      <td>0.003109</td>\n",
       "      <td>0.007176</td>\n",
       "      <td>3.987313e-04</td>\n",
       "      <td>3</td>\n",
       "      <td>10</td>\n",
       "      <td>False</td>\n",
       "      <td>{'bootstrap': False, 'max_features': 3, 'n_est...</td>\n",
       "      <td>-2.045346e+10</td>\n",
       "      <td>-2.052530e+10</td>\n",
       "      <td>...</td>\n",
       "      <td>-2.147819e+10</td>\n",
       "      <td>1.138634e+09</td>\n",
       "      <td>7</td>\n",
       "      <td>-1.309972e+07</td>\n",
       "      <td>-1.097665e+07</td>\n",
       "      <td>-7.569249e+06</td>\n",
       "      <td>-1.203379e+07</td>\n",
       "      <td>-8.618217e+06</td>\n",
       "      <td>-1.045953e+07</td>\n",
       "      <td>2.071737e+06</td>\n",
       "    </tr>\n",
       "    <tr>\n",
       "      <th>16</th>\n",
       "      <td>0.203586</td>\n",
       "      <td>0.001791</td>\n",
       "      <td>0.002591</td>\n",
       "      <td>4.881494e-04</td>\n",
       "      <td>4</td>\n",
       "      <td>3</td>\n",
       "      <td>False</td>\n",
       "      <td>{'bootstrap': False, 'max_features': 4, 'n_est...</td>\n",
       "      <td>-2.371990e+10</td>\n",
       "      <td>-2.742542e+10</td>\n",
       "      <td>...</td>\n",
       "      <td>-2.631833e+10</td>\n",
       "      <td>1.568595e+09</td>\n",
       "      <td>12</td>\n",
       "      <td>-1.307102e+07</td>\n",
       "      <td>-1.116845e+07</td>\n",
       "      <td>-7.542871e+06</td>\n",
       "      <td>-1.199178e+07</td>\n",
       "      <td>-8.825601e+06</td>\n",
       "      <td>-1.051994e+07</td>\n",
       "      <td>2.041008e+06</td>\n",
       "    </tr>\n",
       "    <tr>\n",
       "      <th>17</th>\n",
       "      <td>0.669748</td>\n",
       "      <td>0.003974</td>\n",
       "      <td>0.007031</td>\n",
       "      <td>2.709914e-04</td>\n",
       "      <td>4</td>\n",
       "      <td>10</td>\n",
       "      <td>False</td>\n",
       "      <td>{'bootstrap': False, 'max_features': 4, 'n_est...</td>\n",
       "      <td>-1.764141e+10</td>\n",
       "      <td>-1.897714e+10</td>\n",
       "      <td>...</td>\n",
       "      <td>-1.989811e+10</td>\n",
       "      <td>1.387351e+09</td>\n",
       "      <td>5</td>\n",
       "      <td>-1.307077e+07</td>\n",
       "      <td>-1.099016e+07</td>\n",
       "      <td>-7.534661e+06</td>\n",
       "      <td>-1.201307e+07</td>\n",
       "      <td>-8.612890e+06</td>\n",
       "      <td>-1.044431e+07</td>\n",
       "      <td>2.072556e+06</td>\n",
       "    </tr>\n",
       "  </tbody>\n",
       "</table>\n",
       "<p>18 rows × 23 columns</p>\n",
       "</div>"
      ],
      "text/plain": [
       "    mean_fit_time  std_fit_time  mean_score_time  std_score_time  \\\n",
       "0        0.099070      0.002489         0.002193    3.986359e-04   \n",
       "1        0.317738      0.001827         0.005583    4.865401e-04   \n",
       "2        0.955945      0.013827         0.016545    4.880715e-04   \n",
       "3        0.158843      0.003590         0.002392    4.882078e-04   \n",
       "4        0.531890      0.005686         0.006578    7.967122e-04   \n",
       "5        1.588378      0.005912         0.016744    3.987074e-04   \n",
       "6        0.225315      0.001956         0.002193    3.986359e-04   \n",
       "7        0.747964      0.002117         0.006379    4.881494e-04   \n",
       "8        2.221119      0.004118         0.016654    3.943158e-04   \n",
       "9        0.286483      0.001131         0.002337    4.300954e-04   \n",
       "10       0.946773      0.004932         0.005980    2.780415e-07   \n",
       "11       2.827414      0.005918         0.016726    3.911795e-04   \n",
       "12       0.128100      0.001187         0.002791    3.987075e-04   \n",
       "13       0.416605      0.002322         0.007312    4.229722e-04   \n",
       "14       0.164958      0.001036         0.002392    4.883246e-04   \n",
       "15       0.546452      0.003109         0.007176    3.987313e-04   \n",
       "16       0.203586      0.001791         0.002591    4.881494e-04   \n",
       "17       0.669748      0.003974         0.007031    2.709914e-04   \n",
       "\n",
       "   param_max_features param_n_estimators param_bootstrap  \\\n",
       "0                   2                  3             NaN   \n",
       "1                   2                 10             NaN   \n",
       "2                   2                 30             NaN   \n",
       "3                   4                  3             NaN   \n",
       "4                   4                 10             NaN   \n",
       "5                   4                 30             NaN   \n",
       "6                   6                  3             NaN   \n",
       "7                   6                 10             NaN   \n",
       "8                   6                 30             NaN   \n",
       "9                   8                  3             NaN   \n",
       "10                  8                 10             NaN   \n",
       "11                  8                 30             NaN   \n",
       "12                  2                  3           False   \n",
       "13                  2                 10           False   \n",
       "14                  3                  3           False   \n",
       "15                  3                 10           False   \n",
       "16                  4                  3           False   \n",
       "17                  4                 10           False   \n",
       "\n",
       "                                               params  split0_test_score  \\\n",
       "0              {'max_features': 2, 'n_estimators': 3}      -4.129680e+10   \n",
       "1             {'max_features': 2, 'n_estimators': 10}      -2.486624e+10   \n",
       "2             {'max_features': 2, 'n_estimators': 30}      -2.046114e+10   \n",
       "3              {'max_features': 4, 'n_estimators': 3}      -2.748437e+10   \n",
       "4             {'max_features': 4, 'n_estimators': 10}      -1.940670e+10   \n",
       "5             {'max_features': 4, 'n_estimators': 30}      -1.698618e+10   \n",
       "6              {'max_features': 6, 'n_estimators': 3}      -2.420832e+10   \n",
       "7             {'max_features': 6, 'n_estimators': 10}      -1.925113e+10   \n",
       "8             {'max_features': 6, 'n_estimators': 30}      -1.643116e+10   \n",
       "9              {'max_features': 8, 'n_estimators': 3}      -2.901974e+10   \n",
       "10            {'max_features': 8, 'n_estimators': 10}      -1.888627e+10   \n",
       "11            {'max_features': 8, 'n_estimators': 30}      -1.586303e+10   \n",
       "12  {'bootstrap': False, 'max_features': 2, 'n_est...      -3.324169e+10   \n",
       "13  {'bootstrap': False, 'max_features': 2, 'n_est...      -2.151627e+10   \n",
       "14  {'bootstrap': False, 'max_features': 3, 'n_est...      -3.090998e+10   \n",
       "15  {'bootstrap': False, 'max_features': 3, 'n_est...      -2.045346e+10   \n",
       "16  {'bootstrap': False, 'max_features': 4, 'n_est...      -2.371990e+10   \n",
       "17  {'bootstrap': False, 'max_features': 4, 'n_est...      -1.764141e+10   \n",
       "\n",
       "    split1_test_score  ...  mean_test_score  std_test_score  rank_test_score  \\\n",
       "0       -3.618547e+10  ...    -3.681383e+10    2.425843e+09               18   \n",
       "1       -2.441394e+10  ...    -2.512886e+10    1.613853e+09               11   \n",
       "2       -2.225444e+10  ...    -2.271151e+10    1.571788e+09                9   \n",
       "3       -3.067517e+10  ...    -2.890258e+10    1.221484e+09               15   \n",
       "4       -2.150848e+10  ...    -2.166953e+10    1.192410e+09                8   \n",
       "5       -1.875626e+10  ...    -1.954060e+10    1.477142e+09                4   \n",
       "6       -2.702661e+10  ...    -2.750553e+10    2.085836e+09               14   \n",
       "7       -1.998067e+10  ...    -2.023089e+10    7.210208e+08                6   \n",
       "8       -1.748891e+10  ...    -1.852428e+10    1.323197e+09                2   \n",
       "9       -2.547263e+10  ...    -2.686151e+10    1.535521e+09               13   \n",
       "10      -1.827857e+10  ...    -1.934794e+10    1.285093e+09                3   \n",
       "11      -1.577327e+10  ...    -1.755913e+10    1.630338e+09                1   \n",
       "12      -3.216208e+10  ...    -3.189399e+10    2.261074e+09               17   \n",
       "13      -2.143228e+10  ...    -2.286057e+10    1.269344e+09               10   \n",
       "14      -2.859887e+10  ...    -2.965367e+10    8.278186e+08               16   \n",
       "15      -2.052530e+10  ...    -2.147819e+10    1.138634e+09                7   \n",
       "16      -2.742542e+10  ...    -2.631833e+10    1.568595e+09               12   \n",
       "17      -1.897714e+10  ...    -1.989811e+10    1.387351e+09                5   \n",
       "\n",
       "    split0_train_score  split1_train_score  split2_train_score  \\\n",
       "0        -1.160399e+10       -1.103113e+10       -1.075310e+10   \n",
       "1        -4.856731e+09       -4.706463e+09       -4.961087e+09   \n",
       "2        -3.516522e+09       -3.510021e+09       -3.613242e+09   \n",
       "3        -9.126517e+09       -8.262819e+09       -7.960260e+09   \n",
       "4        -4.200509e+09       -4.047870e+09       -3.703958e+09   \n",
       "5        -3.075188e+09       -2.942295e+09       -2.836317e+09   \n",
       "6        -7.355618e+09       -7.691741e+09       -7.663844e+09   \n",
       "7        -3.813429e+09       -3.831778e+09       -3.466071e+09   \n",
       "8        -2.760215e+09       -2.660172e+09       -2.626215e+09   \n",
       "9        -7.294926e+09       -6.523333e+09       -7.104958e+09   \n",
       "10       -3.558750e+09       -3.462839e+09       -3.374390e+09   \n",
       "11       -2.666930e+09       -2.633998e+09       -2.592733e+09   \n",
       "12       -1.319040e+07       -2.399947e+07       -7.801865e+06   \n",
       "13       -1.310369e+07       -1.214598e+07       -7.612339e+06   \n",
       "14       -1.337414e+07       -1.101183e+07       -7.931740e+06   \n",
       "15       -1.309972e+07       -1.097665e+07       -7.569249e+06   \n",
       "16       -1.307102e+07       -1.116845e+07       -7.542871e+06   \n",
       "17       -1.307077e+07       -1.099016e+07       -7.534661e+06   \n",
       "\n",
       "    split3_train_score  split4_train_score  mean_train_score  std_train_score  \n",
       "0        -1.038427e+10       -1.082751e+10     -1.092000e+10     4.008992e+08  \n",
       "1        -4.988734e+09       -4.490425e+09     -4.800688e+09     1.840495e+08  \n",
       "2        -3.610209e+09       -3.588351e+09     -3.567669e+09     4.528488e+07  \n",
       "3        -8.189433e+09       -7.905210e+09     -8.288848e+09     4.398632e+08  \n",
       "4        -3.951518e+09       -4.000792e+09     -3.980929e+09     1.616597e+08  \n",
       "5        -2.887004e+09       -2.958945e+09     -2.939950e+09     8.024810e+07  \n",
       "6        -7.156205e+09       -7.955621e+09     -7.564606e+09     2.790598e+08  \n",
       "7        -3.576543e+09       -3.835333e+09     -3.704631e+09     1.538855e+08  \n",
       "8        -2.766309e+09       -2.812967e+09     -2.725176e+09     7.020788e+07  \n",
       "9        -7.103289e+09       -8.357273e+09     -7.276756e+09     5.991825e+08  \n",
       "10       -3.371916e+09       -3.758842e+09     -3.505347e+09     1.441336e+08  \n",
       "11       -2.599005e+09       -2.764688e+09     -2.651471e+09     6.255407e+07  \n",
       "12       -1.202375e+07       -8.712097e+06     -1.314552e+07     5.784088e+06  \n",
       "13       -1.199720e+07       -8.604455e+06     -1.069273e+07     2.166842e+06  \n",
       "14       -1.199498e+07       -8.604920e+06     -1.058352e+07     2.044993e+06  \n",
       "15       -1.203379e+07       -8.618217e+06     -1.045953e+07     2.071737e+06  \n",
       "16       -1.199178e+07       -8.825601e+06     -1.051994e+07     2.041008e+06  \n",
       "17       -1.201307e+07       -8.612890e+06     -1.044431e+07     2.072556e+06  \n",
       "\n",
       "[18 rows x 23 columns]"
      ]
     },
     "execution_count": 258,
     "metadata": {},
     "output_type": "execute_result"
    }
   ],
   "source": [
    "pd.DataFrame(grid_search.cv_results_)"
   ]
  },
  {
   "cell_type": "markdown",
   "id": "cd15bb7c",
   "metadata": {},
   "source": [
    "# 랜덤 탐색"
   ]
  },
  {
   "cell_type": "code",
   "execution_count": 259,
   "id": "cb3d5cba",
   "metadata": {},
   "outputs": [
    {
     "data": {
      "text/html": [
       "<style>#sk-container-id-18 {color: black;}#sk-container-id-18 pre{padding: 0;}#sk-container-id-18 div.sk-toggleable {background-color: white;}#sk-container-id-18 label.sk-toggleable__label {cursor: pointer;display: block;width: 100%;margin-bottom: 0;padding: 0.3em;box-sizing: border-box;text-align: center;}#sk-container-id-18 label.sk-toggleable__label-arrow:before {content: \"▸\";float: left;margin-right: 0.25em;color: #696969;}#sk-container-id-18 label.sk-toggleable__label-arrow:hover:before {color: black;}#sk-container-id-18 div.sk-estimator:hover label.sk-toggleable__label-arrow:before {color: black;}#sk-container-id-18 div.sk-toggleable__content {max-height: 0;max-width: 0;overflow: hidden;text-align: left;background-color: #f0f8ff;}#sk-container-id-18 div.sk-toggleable__content pre {margin: 0.2em;color: black;border-radius: 0.25em;background-color: #f0f8ff;}#sk-container-id-18 input.sk-toggleable__control:checked~div.sk-toggleable__content {max-height: 200px;max-width: 100%;overflow: auto;}#sk-container-id-18 input.sk-toggleable__control:checked~label.sk-toggleable__label-arrow:before {content: \"▾\";}#sk-container-id-18 div.sk-estimator input.sk-toggleable__control:checked~label.sk-toggleable__label {background-color: #d4ebff;}#sk-container-id-18 div.sk-label input.sk-toggleable__control:checked~label.sk-toggleable__label {background-color: #d4ebff;}#sk-container-id-18 input.sk-hidden--visually {border: 0;clip: rect(1px 1px 1px 1px);clip: rect(1px, 1px, 1px, 1px);height: 1px;margin: -1px;overflow: hidden;padding: 0;position: absolute;width: 1px;}#sk-container-id-18 div.sk-estimator {font-family: monospace;background-color: #f0f8ff;border: 1px dotted black;border-radius: 0.25em;box-sizing: border-box;margin-bottom: 0.5em;}#sk-container-id-18 div.sk-estimator:hover {background-color: #d4ebff;}#sk-container-id-18 div.sk-parallel-item::after {content: \"\";width: 100%;border-bottom: 1px solid gray;flex-grow: 1;}#sk-container-id-18 div.sk-label:hover label.sk-toggleable__label {background-color: #d4ebff;}#sk-container-id-18 div.sk-serial::before {content: \"\";position: absolute;border-left: 1px solid gray;box-sizing: border-box;top: 0;bottom: 0;left: 50%;z-index: 0;}#sk-container-id-18 div.sk-serial {display: flex;flex-direction: column;align-items: center;background-color: white;padding-right: 0.2em;padding-left: 0.2em;position: relative;}#sk-container-id-18 div.sk-item {position: relative;z-index: 1;}#sk-container-id-18 div.sk-parallel {display: flex;align-items: stretch;justify-content: center;background-color: white;position: relative;}#sk-container-id-18 div.sk-item::before, #sk-container-id-18 div.sk-parallel-item::before {content: \"\";position: absolute;border-left: 1px solid gray;box-sizing: border-box;top: 0;bottom: 0;left: 50%;z-index: -1;}#sk-container-id-18 div.sk-parallel-item {display: flex;flex-direction: column;z-index: 1;position: relative;background-color: white;}#sk-container-id-18 div.sk-parallel-item:first-child::after {align-self: flex-end;width: 50%;}#sk-container-id-18 div.sk-parallel-item:last-child::after {align-self: flex-start;width: 50%;}#sk-container-id-18 div.sk-parallel-item:only-child::after {width: 0;}#sk-container-id-18 div.sk-dashed-wrapped {border: 1px dashed gray;margin: 0 0.4em 0.5em 0.4em;box-sizing: border-box;padding-bottom: 0.4em;background-color: white;}#sk-container-id-18 div.sk-label label {font-family: monospace;font-weight: bold;display: inline-block;line-height: 1.2em;}#sk-container-id-18 div.sk-label-container {text-align: center;}#sk-container-id-18 div.sk-container {/* jupyter's `normalize.less` sets `[hidden] { display: none; }` but bootstrap.min.css set `[hidden] { display: none !important; }` so we also need the `!important` here to be able to override the default hidden behavior on the sphinx rendered scikit-learn.org. See: https://github.com/scikit-learn/scikit-learn/issues/21755 */display: inline-block !important;position: relative;}#sk-container-id-18 div.sk-text-repr-fallback {display: none;}</style><div id=\"sk-container-id-18\" class=\"sk-top-container\"><div class=\"sk-text-repr-fallback\"><pre>RandomizedSearchCV(cv=5, estimator=RandomForestRegressor(random_state=42),\n",
       "                   param_distributions={&#x27;max_features&#x27;: &lt;scipy.stats._distn_infrastructure.rv_discrete_frozen object at 0x00000207ED1CABD0&gt;,\n",
       "                                        &#x27;n_estimators&#x27;: &lt;scipy.stats._distn_infrastructure.rv_discrete_frozen object at 0x00000207ED1CB450&gt;},\n",
       "                   random_state=42, scoring=&#x27;neg_mean_squared_error&#x27;)</pre><b>In a Jupyter environment, please rerun this cell to show the HTML representation or trust the notebook. <br />On GitHub, the HTML representation is unable to render, please try loading this page with nbviewer.org.</b></div><div class=\"sk-container\" hidden><div class=\"sk-item sk-dashed-wrapped\"><div class=\"sk-label-container\"><div class=\"sk-label sk-toggleable\"><input class=\"sk-toggleable__control sk-hidden--visually\" id=\"sk-estimator-id-24\" type=\"checkbox\" ><label for=\"sk-estimator-id-24\" class=\"sk-toggleable__label sk-toggleable__label-arrow\">RandomizedSearchCV</label><div class=\"sk-toggleable__content\"><pre>RandomizedSearchCV(cv=5, estimator=RandomForestRegressor(random_state=42),\n",
       "                   param_distributions={&#x27;max_features&#x27;: &lt;scipy.stats._distn_infrastructure.rv_discrete_frozen object at 0x00000207ED1CABD0&gt;,\n",
       "                                        &#x27;n_estimators&#x27;: &lt;scipy.stats._distn_infrastructure.rv_discrete_frozen object at 0x00000207ED1CB450&gt;},\n",
       "                   random_state=42, scoring=&#x27;neg_mean_squared_error&#x27;)</pre></div></div></div><div class=\"sk-parallel\"><div class=\"sk-parallel-item\"><div class=\"sk-item\"><div class=\"sk-label-container\"><div class=\"sk-label sk-toggleable\"><input class=\"sk-toggleable__control sk-hidden--visually\" id=\"sk-estimator-id-25\" type=\"checkbox\" ><label for=\"sk-estimator-id-25\" class=\"sk-toggleable__label sk-toggleable__label-arrow\">estimator: RandomForestRegressor</label><div class=\"sk-toggleable__content\"><pre>RandomForestRegressor(random_state=42)</pre></div></div></div><div class=\"sk-serial\"><div class=\"sk-item\"><div class=\"sk-estimator sk-toggleable\"><input class=\"sk-toggleable__control sk-hidden--visually\" id=\"sk-estimator-id-26\" type=\"checkbox\" ><label for=\"sk-estimator-id-26\" class=\"sk-toggleable__label sk-toggleable__label-arrow\">RandomForestRegressor</label><div class=\"sk-toggleable__content\"><pre>RandomForestRegressor(random_state=42)</pre></div></div></div></div></div></div></div></div></div></div>"
      ],
      "text/plain": [
       "RandomizedSearchCV(cv=5, estimator=RandomForestRegressor(random_state=42),\n",
       "                   param_distributions={'max_features': <scipy.stats._distn_infrastructure.rv_discrete_frozen object at 0x00000207ED1CABD0>,\n",
       "                                        'n_estimators': <scipy.stats._distn_infrastructure.rv_discrete_frozen object at 0x00000207ED1CB450>},\n",
       "                   random_state=42, scoring='neg_mean_squared_error')"
      ]
     },
     "execution_count": 259,
     "metadata": {},
     "output_type": "execute_result"
    }
   ],
   "source": [
    "from sklearn.model_selection import RandomizedSearchCV\n",
    "from scipy.stats import randint\n",
    "\n",
    "param_distribs = {\n",
    "        'n_estimators': randint(low=1, high=200),\n",
    "        'max_features': randint(low=1, high=8),\n",
    "    }\n",
    "\n",
    "forest_reg = RandomForestRegressor(random_state=42)\n",
    "rnd_search = RandomizedSearchCV(forest_reg, param_distributions=param_distribs,\n",
    "                                n_iter=10, cv=5, scoring='neg_mean_squared_error', random_state=42)\n",
    "rnd_search.fit(housing_prepared, housing_labels)"
   ]
  },
  {
   "cell_type": "code",
   "execution_count": 260,
   "id": "add352db",
   "metadata": {},
   "outputs": [
    {
     "name": "stdout",
     "output_type": "stream",
     "text": [
      "130872.34752893592 {'max_features': 7, 'n_estimators': 180}\n",
      "142637.42624116506 {'max_features': 5, 'n_estimators': 15}\n",
      "139955.3631568677 {'max_features': 3, 'n_estimators': 72}\n",
      "140056.8826867332 {'max_features': 5, 'n_estimators': 21}\n",
      "131328.38446096145 {'max_features': 7, 'n_estimators': 122}\n",
      "139992.4951947791 {'max_features': 3, 'n_estimators': 75}\n",
      "139708.36258192183 {'max_features': 3, 'n_estimators': 88}\n",
      "134614.8619527555 {'max_features': 5, 'n_estimators': 100}\n",
      "138519.75821530246 {'max_features': 3, 'n_estimators': 150}\n",
      "187637.00331330727 {'max_features': 5, 'n_estimators': 2}\n"
     ]
    }
   ],
   "source": [
    "cvres = rnd_search.cv_results_\n",
    "for mean_score, params in zip(cvres[\"mean_test_score\"], cvres[\"params\"]):\n",
    "    print(np.sqrt(-mean_score), params)"
   ]
  },
  {
   "cell_type": "markdown",
   "id": "7fc58149",
   "metadata": {},
   "source": [
    "# 최상의 모델과 오차 분석"
   ]
  },
  {
   "cell_type": "code",
   "execution_count": 268,
   "id": "e5b33b55",
   "metadata": {},
   "outputs": [
    {
     "data": {
      "text/plain": [
       "array([0.01002902, 0.00489405, 0.02686818, 0.17476432, 0.01136168,\n",
       "       0.00273227, 0.01534126, 0.02667191, 0.00485717, 0.16877728,\n",
       "       0.03706602, 0.00877599, 0.03097289, 0.00241673, 0.02607024,\n",
       "       0.14177307, 0.05722911, 0.08522478, 0.01627182, 0.00133106,\n",
       "       0.13262941, 0.01131373, 0.00137477, 0.00125324])"
      ]
     },
     "execution_count": 268,
     "metadata": {},
     "output_type": "execute_result"
    }
   ],
   "source": [
    "feature_importances = grid_search.best_estimator_.feature_importances_\n",
    "feature_importances"
   ]
  },
  {
   "cell_type": "code",
   "execution_count": 269,
   "id": "65f4fbdd",
   "metadata": {},
   "outputs": [
    {
     "data": {
      "text/plain": [
       "[(0.17476431576252244, 'sqft_living'),\n",
       " (0.1687772805610114, 'grade'),\n",
       " (0.14177307146991416, 'lat'),\n",
       " (0.13262940954961672, 'bed_bath'),\n",
       " (0.08522478400664532, 'sqft_living15'),\n",
       " (0.057229111770469646, 'long'),\n",
       " (0.037066022317774366, 'sqft_above'),\n",
       " (0.030972890222178327, 'yr_built'),\n",
       " (0.026868177681663115, 'bathrooms'),\n",
       " (0.026671913672797747, 'view'),\n",
       " (0.026070237277962798, 'zipcode'),\n",
       " (0.016271817785396128, 'sqft_lot15'),\n",
       " (0.01534125873280499, 'waterfront'),\n",
       " (0.011361675742605116, 'sqft_lot'),\n",
       " (0.011313730212614734, 'living_basement'),\n",
       " (0.01002902429982905, 'id'),\n",
       " (0.008775994223954222, 'sqft_basement'),\n",
       " (0.004894049759236195, 'bedrooms'),\n",
       " (0.004857172072296021, 'condition'),\n",
       " (0.002732265689122553, 'floors'),\n",
       " (0.0024167338510514033, 'yr_renovated'),\n",
       " (0.001374765422095587, '2014'),\n",
       " (0.001331058854254098, 'date_year'),\n",
       " (0.0012532390621838763, '2015')]"
      ]
     },
     "execution_count": 269,
     "metadata": {},
     "output_type": "execute_result"
    }
   ],
   "source": [
    "extra_attribs = [\"bed_bath\", \"living_basement\"]\n",
    "cat_encoder = full_pipeline.named_transformers_[\"cat\"]\n",
    "cat_one_hot_attribs = list(cat_encoder.categories_[0])\n",
    "attributes = num_attribs + extra_attribs + cat_one_hot_attribs\n",
    "sorted(zip(feature_importances, attributes), reverse=True)"
   ]
  },
  {
   "cell_type": "code",
   "execution_count": 275,
   "id": "8950e2da",
   "metadata": {},
   "outputs": [],
   "source": [
    "final_model = grid_search.best_estimator_\n",
    "\n",
    "X_test = strat_test_set.drop(\"price\", axis=1)\n",
    "y_test = strat_test_set[\"price\"].copy()\n",
    "\n",
    "X_test_prepared = full_pipeline.transform(X_test)\n",
    "final_predictions = final_model.predict(X_test_prepared)\n",
    "\n",
    "final_mse = mean_squared_error(y_test, final_predictions)\n",
    "final_rmse = np.sqrt(final_mse)"
   ]
  },
  {
   "cell_type": "code",
   "execution_count": 276,
   "id": "284094e8",
   "metadata": {},
   "outputs": [
    {
     "data": {
      "text/plain": [
       "145798.93323909858"
      ]
     },
     "execution_count": 276,
     "metadata": {},
     "output_type": "execute_result"
    }
   ],
   "source": [
    "final_rmse"
   ]
  },
  {
   "cell_type": "code",
   "execution_count": 277,
   "id": "108e2b07",
   "metadata": {},
   "outputs": [
    {
     "data": {
      "text/plain": [
       "array([124056.99968971, 164695.22972845])"
      ]
     },
     "execution_count": 277,
     "metadata": {},
     "output_type": "execute_result"
    }
   ],
   "source": [
    "from scipy import stats\n",
    "\n",
    "confidence = 0.95\n",
    "squared_errors = (final_predictions - y_test) ** 2\n",
    "np.sqrt(stats.t.interval(confidence, len(squared_errors) - 1,\n",
    "                         loc=squared_errors.mean(),\n",
    "                         scale=stats.sem(squared_errors)))"
   ]
  },
  {
   "cell_type": "code",
   "execution_count": 278,
   "id": "b2c5055b",
   "metadata": {},
   "outputs": [
    {
     "data": {
      "text/plain": [
       "(124056.99968970631, 164695.22972844858)"
      ]
     },
     "execution_count": 278,
     "metadata": {},
     "output_type": "execute_result"
    }
   ],
   "source": [
    "m = len(squared_errors)\n",
    "mean = squared_errors.mean()\n",
    "tscore = stats.t.ppf((1 + confidence) / 2, df=m - 1)\n",
    "tmargin = tscore * squared_errors.std(ddof=1) / np.sqrt(m)\n",
    "np.sqrt(mean - tmargin), np.sqrt(mean + tmargin)"
   ]
  },
  {
   "cell_type": "code",
   "execution_count": 279,
   "id": "010b695b",
   "metadata": {},
   "outputs": [
    {
     "data": {
      "text/plain": [
       "(124063.62180423127, 164690.24139922476)"
      ]
     },
     "execution_count": 279,
     "metadata": {},
     "output_type": "execute_result"
    }
   ],
   "source": [
    "zscore = stats.norm.ppf((1 + confidence) / 2)\n",
    "zmargin = zscore * squared_errors.std(ddof=1) / np.sqrt(m)\n",
    "np.sqrt(mean - zmargin), np.sqrt(mean + zmargin)"
   ]
  },
  {
   "cell_type": "code",
   "execution_count": null,
   "id": "c82e0d15",
   "metadata": {},
   "outputs": [],
   "source": []
  },
  {
   "cell_type": "code",
   "execution_count": null,
   "id": "85912b6e",
   "metadata": {},
   "outputs": [],
   "source": []
  },
  {
   "cell_type": "code",
   "execution_count": null,
   "id": "eb44abf9",
   "metadata": {},
   "outputs": [],
   "source": []
  },
  {
   "cell_type": "code",
   "execution_count": null,
   "id": "6b9c2859",
   "metadata": {},
   "outputs": [],
   "source": []
  },
  {
   "cell_type": "code",
   "execution_count": null,
   "id": "5456446b",
   "metadata": {},
   "outputs": [],
   "source": []
  },
  {
   "cell_type": "code",
   "execution_count": null,
   "id": "4fb2a0b9",
   "metadata": {},
   "outputs": [],
   "source": []
  },
  {
   "cell_type": "code",
   "execution_count": null,
   "id": "35e74fe4",
   "metadata": {},
   "outputs": [],
   "source": []
  },
  {
   "cell_type": "code",
   "execution_count": null,
   "id": "662c5602",
   "metadata": {},
   "outputs": [],
   "source": []
  }
 ],
 "metadata": {
  "kernelspec": {
   "display_name": "Python 3 (ipykernel)",
   "language": "python",
   "name": "python3"
  },
  "language_info": {
   "codemirror_mode": {
    "name": "ipython",
    "version": 3
   },
   "file_extension": ".py",
   "mimetype": "text/x-python",
   "name": "python",
   "nbconvert_exporter": "python",
   "pygments_lexer": "ipython3",
   "version": "3.10.13"
  }
 },
 "nbformat": 4,
 "nbformat_minor": 5
}
